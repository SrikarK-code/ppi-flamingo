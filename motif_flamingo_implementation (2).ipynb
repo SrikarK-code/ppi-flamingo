{
  "nbformat": 4,
  "nbformat_minor": 0,
  "metadata": {
    "colab": {
      "provenance": [],
      "machine_shape": "hm",
      "gpuType": "A100",
      "collapsed_sections": [
        "DC4QEgfYQ4lx",
        "d-lsBPOsakWM"
      ]
    },
    "kernelspec": {
      "name": "python3",
      "display_name": "Python 3"
    },
    "language_info": {
      "name": "python"
    },
    "accelerator": "GPU",
    "widgets": {
      "application/vnd.jupyter.widget-state+json": {
        "017477f6fa0f4a65b7afbda75e357db7": {
          "model_module": "@jupyter-widgets/controls",
          "model_name": "HBoxModel",
          "model_module_version": "1.5.0",
          "state": {
            "_dom_classes": [],
            "_model_module": "@jupyter-widgets/controls",
            "_model_module_version": "1.5.0",
            "_model_name": "HBoxModel",
            "_view_count": null,
            "_view_module": "@jupyter-widgets/controls",
            "_view_module_version": "1.5.0",
            "_view_name": "HBoxView",
            "box_style": "",
            "children": [
              "IPY_MODEL_cea76747746f4a148d8949f1d14d2b73",
              "IPY_MODEL_f3949e6592a646a8b4997a3036b1ecb0",
              "IPY_MODEL_4dfbb8602a2b45d6a37e0db83bde7dda"
            ],
            "layout": "IPY_MODEL_b197090ae20849e19d15a13d7a136c61"
          }
        },
        "cea76747746f4a148d8949f1d14d2b73": {
          "model_module": "@jupyter-widgets/controls",
          "model_name": "HTMLModel",
          "model_module_version": "1.5.0",
          "state": {
            "_dom_classes": [],
            "_model_module": "@jupyter-widgets/controls",
            "_model_module_version": "1.5.0",
            "_model_name": "HTMLModel",
            "_view_count": null,
            "_view_module": "@jupyter-widgets/controls",
            "_view_module_version": "1.5.0",
            "_view_name": "HTMLView",
            "description": "",
            "description_tooltip": null,
            "layout": "IPY_MODEL_33fa083a18ac45d4a15151c480b1468f",
            "placeholder": "​",
            "style": "IPY_MODEL_767c049981be48c1b8664282c07f930f",
            "value": "tokenizer_config.json: 100%"
          }
        },
        "f3949e6592a646a8b4997a3036b1ecb0": {
          "model_module": "@jupyter-widgets/controls",
          "model_name": "FloatProgressModel",
          "model_module_version": "1.5.0",
          "state": {
            "_dom_classes": [],
            "_model_module": "@jupyter-widgets/controls",
            "_model_module_version": "1.5.0",
            "_model_name": "FloatProgressModel",
            "_view_count": null,
            "_view_module": "@jupyter-widgets/controls",
            "_view_module_version": "1.5.0",
            "_view_name": "ProgressView",
            "bar_style": "success",
            "description": "",
            "description_tooltip": null,
            "layout": "IPY_MODEL_a93e643bdf484a0b9684a6ac23ef3485",
            "max": 25,
            "min": 0,
            "orientation": "horizontal",
            "style": "IPY_MODEL_23f8a3c853414e00988191db891e2758",
            "value": 25
          }
        },
        "4dfbb8602a2b45d6a37e0db83bde7dda": {
          "model_module": "@jupyter-widgets/controls",
          "model_name": "HTMLModel",
          "model_module_version": "1.5.0",
          "state": {
            "_dom_classes": [],
            "_model_module": "@jupyter-widgets/controls",
            "_model_module_version": "1.5.0",
            "_model_name": "HTMLModel",
            "_view_count": null,
            "_view_module": "@jupyter-widgets/controls",
            "_view_module_version": "1.5.0",
            "_view_name": "HTMLView",
            "description": "",
            "description_tooltip": null,
            "layout": "IPY_MODEL_5c326e58b09f459eb26243a8b26304b7",
            "placeholder": "​",
            "style": "IPY_MODEL_28135121cd06455bb287b82277aa3b5a",
            "value": " 25.0/25.0 [00:00&lt;00:00, 2.01kB/s]"
          }
        },
        "b197090ae20849e19d15a13d7a136c61": {
          "model_module": "@jupyter-widgets/base",
          "model_name": "LayoutModel",
          "model_module_version": "1.2.0",
          "state": {
            "_model_module": "@jupyter-widgets/base",
            "_model_module_version": "1.2.0",
            "_model_name": "LayoutModel",
            "_view_count": null,
            "_view_module": "@jupyter-widgets/base",
            "_view_module_version": "1.2.0",
            "_view_name": "LayoutView",
            "align_content": null,
            "align_items": null,
            "align_self": null,
            "border": null,
            "bottom": null,
            "display": null,
            "flex": null,
            "flex_flow": null,
            "grid_area": null,
            "grid_auto_columns": null,
            "grid_auto_flow": null,
            "grid_auto_rows": null,
            "grid_column": null,
            "grid_gap": null,
            "grid_row": null,
            "grid_template_areas": null,
            "grid_template_columns": null,
            "grid_template_rows": null,
            "height": null,
            "justify_content": null,
            "justify_items": null,
            "left": null,
            "margin": null,
            "max_height": null,
            "max_width": null,
            "min_height": null,
            "min_width": null,
            "object_fit": null,
            "object_position": null,
            "order": null,
            "overflow": null,
            "overflow_x": null,
            "overflow_y": null,
            "padding": null,
            "right": null,
            "top": null,
            "visibility": null,
            "width": null
          }
        },
        "33fa083a18ac45d4a15151c480b1468f": {
          "model_module": "@jupyter-widgets/base",
          "model_name": "LayoutModel",
          "model_module_version": "1.2.0",
          "state": {
            "_model_module": "@jupyter-widgets/base",
            "_model_module_version": "1.2.0",
            "_model_name": "LayoutModel",
            "_view_count": null,
            "_view_module": "@jupyter-widgets/base",
            "_view_module_version": "1.2.0",
            "_view_name": "LayoutView",
            "align_content": null,
            "align_items": null,
            "align_self": null,
            "border": null,
            "bottom": null,
            "display": null,
            "flex": null,
            "flex_flow": null,
            "grid_area": null,
            "grid_auto_columns": null,
            "grid_auto_flow": null,
            "grid_auto_rows": null,
            "grid_column": null,
            "grid_gap": null,
            "grid_row": null,
            "grid_template_areas": null,
            "grid_template_columns": null,
            "grid_template_rows": null,
            "height": null,
            "justify_content": null,
            "justify_items": null,
            "left": null,
            "margin": null,
            "max_height": null,
            "max_width": null,
            "min_height": null,
            "min_width": null,
            "object_fit": null,
            "object_position": null,
            "order": null,
            "overflow": null,
            "overflow_x": null,
            "overflow_y": null,
            "padding": null,
            "right": null,
            "top": null,
            "visibility": null,
            "width": null
          }
        },
        "767c049981be48c1b8664282c07f930f": {
          "model_module": "@jupyter-widgets/controls",
          "model_name": "DescriptionStyleModel",
          "model_module_version": "1.5.0",
          "state": {
            "_model_module": "@jupyter-widgets/controls",
            "_model_module_version": "1.5.0",
            "_model_name": "DescriptionStyleModel",
            "_view_count": null,
            "_view_module": "@jupyter-widgets/base",
            "_view_module_version": "1.2.0",
            "_view_name": "StyleView",
            "description_width": ""
          }
        },
        "a93e643bdf484a0b9684a6ac23ef3485": {
          "model_module": "@jupyter-widgets/base",
          "model_name": "LayoutModel",
          "model_module_version": "1.2.0",
          "state": {
            "_model_module": "@jupyter-widgets/base",
            "_model_module_version": "1.2.0",
            "_model_name": "LayoutModel",
            "_view_count": null,
            "_view_module": "@jupyter-widgets/base",
            "_view_module_version": "1.2.0",
            "_view_name": "LayoutView",
            "align_content": null,
            "align_items": null,
            "align_self": null,
            "border": null,
            "bottom": null,
            "display": null,
            "flex": null,
            "flex_flow": null,
            "grid_area": null,
            "grid_auto_columns": null,
            "grid_auto_flow": null,
            "grid_auto_rows": null,
            "grid_column": null,
            "grid_gap": null,
            "grid_row": null,
            "grid_template_areas": null,
            "grid_template_columns": null,
            "grid_template_rows": null,
            "height": null,
            "justify_content": null,
            "justify_items": null,
            "left": null,
            "margin": null,
            "max_height": null,
            "max_width": null,
            "min_height": null,
            "min_width": null,
            "object_fit": null,
            "object_position": null,
            "order": null,
            "overflow": null,
            "overflow_x": null,
            "overflow_y": null,
            "padding": null,
            "right": null,
            "top": null,
            "visibility": null,
            "width": null
          }
        },
        "23f8a3c853414e00988191db891e2758": {
          "model_module": "@jupyter-widgets/controls",
          "model_name": "ProgressStyleModel",
          "model_module_version": "1.5.0",
          "state": {
            "_model_module": "@jupyter-widgets/controls",
            "_model_module_version": "1.5.0",
            "_model_name": "ProgressStyleModel",
            "_view_count": null,
            "_view_module": "@jupyter-widgets/base",
            "_view_module_version": "1.2.0",
            "_view_name": "StyleView",
            "bar_color": null,
            "description_width": ""
          }
        },
        "5c326e58b09f459eb26243a8b26304b7": {
          "model_module": "@jupyter-widgets/base",
          "model_name": "LayoutModel",
          "model_module_version": "1.2.0",
          "state": {
            "_model_module": "@jupyter-widgets/base",
            "_model_module_version": "1.2.0",
            "_model_name": "LayoutModel",
            "_view_count": null,
            "_view_module": "@jupyter-widgets/base",
            "_view_module_version": "1.2.0",
            "_view_name": "LayoutView",
            "align_content": null,
            "align_items": null,
            "align_self": null,
            "border": null,
            "bottom": null,
            "display": null,
            "flex": null,
            "flex_flow": null,
            "grid_area": null,
            "grid_auto_columns": null,
            "grid_auto_flow": null,
            "grid_auto_rows": null,
            "grid_column": null,
            "grid_gap": null,
            "grid_row": null,
            "grid_template_areas": null,
            "grid_template_columns": null,
            "grid_template_rows": null,
            "height": null,
            "justify_content": null,
            "justify_items": null,
            "left": null,
            "margin": null,
            "max_height": null,
            "max_width": null,
            "min_height": null,
            "min_width": null,
            "object_fit": null,
            "object_position": null,
            "order": null,
            "overflow": null,
            "overflow_x": null,
            "overflow_y": null,
            "padding": null,
            "right": null,
            "top": null,
            "visibility": null,
            "width": null
          }
        },
        "28135121cd06455bb287b82277aa3b5a": {
          "model_module": "@jupyter-widgets/controls",
          "model_name": "DescriptionStyleModel",
          "model_module_version": "1.5.0",
          "state": {
            "_model_module": "@jupyter-widgets/controls",
            "_model_module_version": "1.5.0",
            "_model_name": "DescriptionStyleModel",
            "_view_count": null,
            "_view_module": "@jupyter-widgets/base",
            "_view_module_version": "1.2.0",
            "_view_name": "StyleView",
            "description_width": ""
          }
        },
        "b2c3d337008a4a1783a4ed9daf0d107f": {
          "model_module": "@jupyter-widgets/controls",
          "model_name": "HBoxModel",
          "model_module_version": "1.5.0",
          "state": {
            "_dom_classes": [],
            "_model_module": "@jupyter-widgets/controls",
            "_model_module_version": "1.5.0",
            "_model_name": "HBoxModel",
            "_view_count": null,
            "_view_module": "@jupyter-widgets/controls",
            "_view_module_version": "1.5.0",
            "_view_name": "HBoxView",
            "box_style": "",
            "children": [
              "IPY_MODEL_d6f422fc7aa342a2824ac437d9c60980",
              "IPY_MODEL_258751dd94f24ee0ba47a9f43f0bd8f9",
              "IPY_MODEL_2f639b0f50c4400abb962e5b5fbd094e"
            ],
            "layout": "IPY_MODEL_c0473c432c9a4d7780878826712b6622"
          }
        },
        "d6f422fc7aa342a2824ac437d9c60980": {
          "model_module": "@jupyter-widgets/controls",
          "model_name": "HTMLModel",
          "model_module_version": "1.5.0",
          "state": {
            "_dom_classes": [],
            "_model_module": "@jupyter-widgets/controls",
            "_model_module_version": "1.5.0",
            "_model_name": "HTMLModel",
            "_view_count": null,
            "_view_module": "@jupyter-widgets/controls",
            "_view_module_version": "1.5.0",
            "_view_name": "HTMLView",
            "description": "",
            "description_tooltip": null,
            "layout": "IPY_MODEL_71cd847701454abfac0b3286debfecce",
            "placeholder": "​",
            "style": "IPY_MODEL_21789fbbd9664b8c8db9774e006e797c",
            "value": "spiece.model: 100%"
          }
        },
        "258751dd94f24ee0ba47a9f43f0bd8f9": {
          "model_module": "@jupyter-widgets/controls",
          "model_name": "FloatProgressModel",
          "model_module_version": "1.5.0",
          "state": {
            "_dom_classes": [],
            "_model_module": "@jupyter-widgets/controls",
            "_model_module_version": "1.5.0",
            "_model_name": "FloatProgressModel",
            "_view_count": null,
            "_view_module": "@jupyter-widgets/controls",
            "_view_module_version": "1.5.0",
            "_view_name": "ProgressView",
            "bar_style": "success",
            "description": "",
            "description_tooltip": null,
            "layout": "IPY_MODEL_99f257f2841e48018dde39cfec43a4a9",
            "max": 237990,
            "min": 0,
            "orientation": "horizontal",
            "style": "IPY_MODEL_1f1a99aee2174e41957c8adc814783c4",
            "value": 237990
          }
        },
        "2f639b0f50c4400abb962e5b5fbd094e": {
          "model_module": "@jupyter-widgets/controls",
          "model_name": "HTMLModel",
          "model_module_version": "1.5.0",
          "state": {
            "_dom_classes": [],
            "_model_module": "@jupyter-widgets/controls",
            "_model_module_version": "1.5.0",
            "_model_name": "HTMLModel",
            "_view_count": null,
            "_view_module": "@jupyter-widgets/controls",
            "_view_module_version": "1.5.0",
            "_view_name": "HTMLView",
            "description": "",
            "description_tooltip": null,
            "layout": "IPY_MODEL_faa2b75940864097ac4b5e96c4c7b321",
            "placeholder": "​",
            "style": "IPY_MODEL_aa0f368207264ceaa232dc71016b44d9",
            "value": " 238k/238k [00:00&lt;00:00, 14.6MB/s]"
          }
        },
        "c0473c432c9a4d7780878826712b6622": {
          "model_module": "@jupyter-widgets/base",
          "model_name": "LayoutModel",
          "model_module_version": "1.2.0",
          "state": {
            "_model_module": "@jupyter-widgets/base",
            "_model_module_version": "1.2.0",
            "_model_name": "LayoutModel",
            "_view_count": null,
            "_view_module": "@jupyter-widgets/base",
            "_view_module_version": "1.2.0",
            "_view_name": "LayoutView",
            "align_content": null,
            "align_items": null,
            "align_self": null,
            "border": null,
            "bottom": null,
            "display": null,
            "flex": null,
            "flex_flow": null,
            "grid_area": null,
            "grid_auto_columns": null,
            "grid_auto_flow": null,
            "grid_auto_rows": null,
            "grid_column": null,
            "grid_gap": null,
            "grid_row": null,
            "grid_template_areas": null,
            "grid_template_columns": null,
            "grid_template_rows": null,
            "height": null,
            "justify_content": null,
            "justify_items": null,
            "left": null,
            "margin": null,
            "max_height": null,
            "max_width": null,
            "min_height": null,
            "min_width": null,
            "object_fit": null,
            "object_position": null,
            "order": null,
            "overflow": null,
            "overflow_x": null,
            "overflow_y": null,
            "padding": null,
            "right": null,
            "top": null,
            "visibility": null,
            "width": null
          }
        },
        "71cd847701454abfac0b3286debfecce": {
          "model_module": "@jupyter-widgets/base",
          "model_name": "LayoutModel",
          "model_module_version": "1.2.0",
          "state": {
            "_model_module": "@jupyter-widgets/base",
            "_model_module_version": "1.2.0",
            "_model_name": "LayoutModel",
            "_view_count": null,
            "_view_module": "@jupyter-widgets/base",
            "_view_module_version": "1.2.0",
            "_view_name": "LayoutView",
            "align_content": null,
            "align_items": null,
            "align_self": null,
            "border": null,
            "bottom": null,
            "display": null,
            "flex": null,
            "flex_flow": null,
            "grid_area": null,
            "grid_auto_columns": null,
            "grid_auto_flow": null,
            "grid_auto_rows": null,
            "grid_column": null,
            "grid_gap": null,
            "grid_row": null,
            "grid_template_areas": null,
            "grid_template_columns": null,
            "grid_template_rows": null,
            "height": null,
            "justify_content": null,
            "justify_items": null,
            "left": null,
            "margin": null,
            "max_height": null,
            "max_width": null,
            "min_height": null,
            "min_width": null,
            "object_fit": null,
            "object_position": null,
            "order": null,
            "overflow": null,
            "overflow_x": null,
            "overflow_y": null,
            "padding": null,
            "right": null,
            "top": null,
            "visibility": null,
            "width": null
          }
        },
        "21789fbbd9664b8c8db9774e006e797c": {
          "model_module": "@jupyter-widgets/controls",
          "model_name": "DescriptionStyleModel",
          "model_module_version": "1.5.0",
          "state": {
            "_model_module": "@jupyter-widgets/controls",
            "_model_module_version": "1.5.0",
            "_model_name": "DescriptionStyleModel",
            "_view_count": null,
            "_view_module": "@jupyter-widgets/base",
            "_view_module_version": "1.2.0",
            "_view_name": "StyleView",
            "description_width": ""
          }
        },
        "99f257f2841e48018dde39cfec43a4a9": {
          "model_module": "@jupyter-widgets/base",
          "model_name": "LayoutModel",
          "model_module_version": "1.2.0",
          "state": {
            "_model_module": "@jupyter-widgets/base",
            "_model_module_version": "1.2.0",
            "_model_name": "LayoutModel",
            "_view_count": null,
            "_view_module": "@jupyter-widgets/base",
            "_view_module_version": "1.2.0",
            "_view_name": "LayoutView",
            "align_content": null,
            "align_items": null,
            "align_self": null,
            "border": null,
            "bottom": null,
            "display": null,
            "flex": null,
            "flex_flow": null,
            "grid_area": null,
            "grid_auto_columns": null,
            "grid_auto_flow": null,
            "grid_auto_rows": null,
            "grid_column": null,
            "grid_gap": null,
            "grid_row": null,
            "grid_template_areas": null,
            "grid_template_columns": null,
            "grid_template_rows": null,
            "height": null,
            "justify_content": null,
            "justify_items": null,
            "left": null,
            "margin": null,
            "max_height": null,
            "max_width": null,
            "min_height": null,
            "min_width": null,
            "object_fit": null,
            "object_position": null,
            "order": null,
            "overflow": null,
            "overflow_x": null,
            "overflow_y": null,
            "padding": null,
            "right": null,
            "top": null,
            "visibility": null,
            "width": null
          }
        },
        "1f1a99aee2174e41957c8adc814783c4": {
          "model_module": "@jupyter-widgets/controls",
          "model_name": "ProgressStyleModel",
          "model_module_version": "1.5.0",
          "state": {
            "_model_module": "@jupyter-widgets/controls",
            "_model_module_version": "1.5.0",
            "_model_name": "ProgressStyleModel",
            "_view_count": null,
            "_view_module": "@jupyter-widgets/base",
            "_view_module_version": "1.2.0",
            "_view_name": "StyleView",
            "bar_color": null,
            "description_width": ""
          }
        },
        "faa2b75940864097ac4b5e96c4c7b321": {
          "model_module": "@jupyter-widgets/base",
          "model_name": "LayoutModel",
          "model_module_version": "1.2.0",
          "state": {
            "_model_module": "@jupyter-widgets/base",
            "_model_module_version": "1.2.0",
            "_model_name": "LayoutModel",
            "_view_count": null,
            "_view_module": "@jupyter-widgets/base",
            "_view_module_version": "1.2.0",
            "_view_name": "LayoutView",
            "align_content": null,
            "align_items": null,
            "align_self": null,
            "border": null,
            "bottom": null,
            "display": null,
            "flex": null,
            "flex_flow": null,
            "grid_area": null,
            "grid_auto_columns": null,
            "grid_auto_flow": null,
            "grid_auto_rows": null,
            "grid_column": null,
            "grid_gap": null,
            "grid_row": null,
            "grid_template_areas": null,
            "grid_template_columns": null,
            "grid_template_rows": null,
            "height": null,
            "justify_content": null,
            "justify_items": null,
            "left": null,
            "margin": null,
            "max_height": null,
            "max_width": null,
            "min_height": null,
            "min_width": null,
            "object_fit": null,
            "object_position": null,
            "order": null,
            "overflow": null,
            "overflow_x": null,
            "overflow_y": null,
            "padding": null,
            "right": null,
            "top": null,
            "visibility": null,
            "width": null
          }
        },
        "aa0f368207264ceaa232dc71016b44d9": {
          "model_module": "@jupyter-widgets/controls",
          "model_name": "DescriptionStyleModel",
          "model_module_version": "1.5.0",
          "state": {
            "_model_module": "@jupyter-widgets/controls",
            "_model_module_version": "1.5.0",
            "_model_name": "DescriptionStyleModel",
            "_view_count": null,
            "_view_module": "@jupyter-widgets/base",
            "_view_module_version": "1.2.0",
            "_view_name": "StyleView",
            "description_width": ""
          }
        },
        "97be283687e84221be7b2b80bb7fd9c8": {
          "model_module": "@jupyter-widgets/controls",
          "model_name": "HBoxModel",
          "model_module_version": "1.5.0",
          "state": {
            "_dom_classes": [],
            "_model_module": "@jupyter-widgets/controls",
            "_model_module_version": "1.5.0",
            "_model_name": "HBoxModel",
            "_view_count": null,
            "_view_module": "@jupyter-widgets/controls",
            "_view_module_version": "1.5.0",
            "_view_name": "HBoxView",
            "box_style": "",
            "children": [
              "IPY_MODEL_0896a4d4a24a410eb57b73c038314aff",
              "IPY_MODEL_75deb51eacac4d8cb052588a94e16b19",
              "IPY_MODEL_7d688a2602e54c3e99fbc53d8f688b65"
            ],
            "layout": "IPY_MODEL_425408b9a57248afb64f5fa4b07b1ef5"
          }
        },
        "0896a4d4a24a410eb57b73c038314aff": {
          "model_module": "@jupyter-widgets/controls",
          "model_name": "HTMLModel",
          "model_module_version": "1.5.0",
          "state": {
            "_dom_classes": [],
            "_model_module": "@jupyter-widgets/controls",
            "_model_module_version": "1.5.0",
            "_model_name": "HTMLModel",
            "_view_count": null,
            "_view_module": "@jupyter-widgets/controls",
            "_view_module_version": "1.5.0",
            "_view_name": "HTMLView",
            "description": "",
            "description_tooltip": null,
            "layout": "IPY_MODEL_e138338aa4214980bcd11caa2a1464eb",
            "placeholder": "​",
            "style": "IPY_MODEL_89f2d8caf1bd49e3b26c0e534953a053",
            "value": "special_tokens_map.json: 100%"
          }
        },
        "75deb51eacac4d8cb052588a94e16b19": {
          "model_module": "@jupyter-widgets/controls",
          "model_name": "FloatProgressModel",
          "model_module_version": "1.5.0",
          "state": {
            "_dom_classes": [],
            "_model_module": "@jupyter-widgets/controls",
            "_model_module_version": "1.5.0",
            "_model_name": "FloatProgressModel",
            "_view_count": null,
            "_view_module": "@jupyter-widgets/controls",
            "_view_module_version": "1.5.0",
            "_view_name": "ProgressView",
            "bar_style": "success",
            "description": "",
            "description_tooltip": null,
            "layout": "IPY_MODEL_0db5501c63e74e24b4494d4afa1b7376",
            "max": 1787,
            "min": 0,
            "orientation": "horizontal",
            "style": "IPY_MODEL_7a62d65daa0640cf9d3e6f123964cde1",
            "value": 1787
          }
        },
        "7d688a2602e54c3e99fbc53d8f688b65": {
          "model_module": "@jupyter-widgets/controls",
          "model_name": "HTMLModel",
          "model_module_version": "1.5.0",
          "state": {
            "_dom_classes": [],
            "_model_module": "@jupyter-widgets/controls",
            "_model_module_version": "1.5.0",
            "_model_name": "HTMLModel",
            "_view_count": null,
            "_view_module": "@jupyter-widgets/controls",
            "_view_module_version": "1.5.0",
            "_view_name": "HTMLView",
            "description": "",
            "description_tooltip": null,
            "layout": "IPY_MODEL_595ff4bc85954a54b104449fcc69ab8e",
            "placeholder": "​",
            "style": "IPY_MODEL_066a1b1f6510420cb7c270529d0c7934",
            "value": " 1.79k/1.79k [00:00&lt;00:00, 137kB/s]"
          }
        },
        "425408b9a57248afb64f5fa4b07b1ef5": {
          "model_module": "@jupyter-widgets/base",
          "model_name": "LayoutModel",
          "model_module_version": "1.2.0",
          "state": {
            "_model_module": "@jupyter-widgets/base",
            "_model_module_version": "1.2.0",
            "_model_name": "LayoutModel",
            "_view_count": null,
            "_view_module": "@jupyter-widgets/base",
            "_view_module_version": "1.2.0",
            "_view_name": "LayoutView",
            "align_content": null,
            "align_items": null,
            "align_self": null,
            "border": null,
            "bottom": null,
            "display": null,
            "flex": null,
            "flex_flow": null,
            "grid_area": null,
            "grid_auto_columns": null,
            "grid_auto_flow": null,
            "grid_auto_rows": null,
            "grid_column": null,
            "grid_gap": null,
            "grid_row": null,
            "grid_template_areas": null,
            "grid_template_columns": null,
            "grid_template_rows": null,
            "height": null,
            "justify_content": null,
            "justify_items": null,
            "left": null,
            "margin": null,
            "max_height": null,
            "max_width": null,
            "min_height": null,
            "min_width": null,
            "object_fit": null,
            "object_position": null,
            "order": null,
            "overflow": null,
            "overflow_x": null,
            "overflow_y": null,
            "padding": null,
            "right": null,
            "top": null,
            "visibility": null,
            "width": null
          }
        },
        "e138338aa4214980bcd11caa2a1464eb": {
          "model_module": "@jupyter-widgets/base",
          "model_name": "LayoutModel",
          "model_module_version": "1.2.0",
          "state": {
            "_model_module": "@jupyter-widgets/base",
            "_model_module_version": "1.2.0",
            "_model_name": "LayoutModel",
            "_view_count": null,
            "_view_module": "@jupyter-widgets/base",
            "_view_module_version": "1.2.0",
            "_view_name": "LayoutView",
            "align_content": null,
            "align_items": null,
            "align_self": null,
            "border": null,
            "bottom": null,
            "display": null,
            "flex": null,
            "flex_flow": null,
            "grid_area": null,
            "grid_auto_columns": null,
            "grid_auto_flow": null,
            "grid_auto_rows": null,
            "grid_column": null,
            "grid_gap": null,
            "grid_row": null,
            "grid_template_areas": null,
            "grid_template_columns": null,
            "grid_template_rows": null,
            "height": null,
            "justify_content": null,
            "justify_items": null,
            "left": null,
            "margin": null,
            "max_height": null,
            "max_width": null,
            "min_height": null,
            "min_width": null,
            "object_fit": null,
            "object_position": null,
            "order": null,
            "overflow": null,
            "overflow_x": null,
            "overflow_y": null,
            "padding": null,
            "right": null,
            "top": null,
            "visibility": null,
            "width": null
          }
        },
        "89f2d8caf1bd49e3b26c0e534953a053": {
          "model_module": "@jupyter-widgets/controls",
          "model_name": "DescriptionStyleModel",
          "model_module_version": "1.5.0",
          "state": {
            "_model_module": "@jupyter-widgets/controls",
            "_model_module_version": "1.5.0",
            "_model_name": "DescriptionStyleModel",
            "_view_count": null,
            "_view_module": "@jupyter-widgets/base",
            "_view_module_version": "1.2.0",
            "_view_name": "StyleView",
            "description_width": ""
          }
        },
        "0db5501c63e74e24b4494d4afa1b7376": {
          "model_module": "@jupyter-widgets/base",
          "model_name": "LayoutModel",
          "model_module_version": "1.2.0",
          "state": {
            "_model_module": "@jupyter-widgets/base",
            "_model_module_version": "1.2.0",
            "_model_name": "LayoutModel",
            "_view_count": null,
            "_view_module": "@jupyter-widgets/base",
            "_view_module_version": "1.2.0",
            "_view_name": "LayoutView",
            "align_content": null,
            "align_items": null,
            "align_self": null,
            "border": null,
            "bottom": null,
            "display": null,
            "flex": null,
            "flex_flow": null,
            "grid_area": null,
            "grid_auto_columns": null,
            "grid_auto_flow": null,
            "grid_auto_rows": null,
            "grid_column": null,
            "grid_gap": null,
            "grid_row": null,
            "grid_template_areas": null,
            "grid_template_columns": null,
            "grid_template_rows": null,
            "height": null,
            "justify_content": null,
            "justify_items": null,
            "left": null,
            "margin": null,
            "max_height": null,
            "max_width": null,
            "min_height": null,
            "min_width": null,
            "object_fit": null,
            "object_position": null,
            "order": null,
            "overflow": null,
            "overflow_x": null,
            "overflow_y": null,
            "padding": null,
            "right": null,
            "top": null,
            "visibility": null,
            "width": null
          }
        },
        "7a62d65daa0640cf9d3e6f123964cde1": {
          "model_module": "@jupyter-widgets/controls",
          "model_name": "ProgressStyleModel",
          "model_module_version": "1.5.0",
          "state": {
            "_model_module": "@jupyter-widgets/controls",
            "_model_module_version": "1.5.0",
            "_model_name": "ProgressStyleModel",
            "_view_count": null,
            "_view_module": "@jupyter-widgets/base",
            "_view_module_version": "1.2.0",
            "_view_name": "StyleView",
            "bar_color": null,
            "description_width": ""
          }
        },
        "595ff4bc85954a54b104449fcc69ab8e": {
          "model_module": "@jupyter-widgets/base",
          "model_name": "LayoutModel",
          "model_module_version": "1.2.0",
          "state": {
            "_model_module": "@jupyter-widgets/base",
            "_model_module_version": "1.2.0",
            "_model_name": "LayoutModel",
            "_view_count": null,
            "_view_module": "@jupyter-widgets/base",
            "_view_module_version": "1.2.0",
            "_view_name": "LayoutView",
            "align_content": null,
            "align_items": null,
            "align_self": null,
            "border": null,
            "bottom": null,
            "display": null,
            "flex": null,
            "flex_flow": null,
            "grid_area": null,
            "grid_auto_columns": null,
            "grid_auto_flow": null,
            "grid_auto_rows": null,
            "grid_column": null,
            "grid_gap": null,
            "grid_row": null,
            "grid_template_areas": null,
            "grid_template_columns": null,
            "grid_template_rows": null,
            "height": null,
            "justify_content": null,
            "justify_items": null,
            "left": null,
            "margin": null,
            "max_height": null,
            "max_width": null,
            "min_height": null,
            "min_width": null,
            "object_fit": null,
            "object_position": null,
            "order": null,
            "overflow": null,
            "overflow_x": null,
            "overflow_y": null,
            "padding": null,
            "right": null,
            "top": null,
            "visibility": null,
            "width": null
          }
        },
        "066a1b1f6510420cb7c270529d0c7934": {
          "model_module": "@jupyter-widgets/controls",
          "model_name": "DescriptionStyleModel",
          "model_module_version": "1.5.0",
          "state": {
            "_model_module": "@jupyter-widgets/controls",
            "_model_module_version": "1.5.0",
            "_model_name": "DescriptionStyleModel",
            "_view_count": null,
            "_view_module": "@jupyter-widgets/base",
            "_view_module_version": "1.2.0",
            "_view_name": "StyleView",
            "description_width": ""
          }
        },
        "b8ca233a840b406d952ebadfaa12df3e": {
          "model_module": "@jupyter-widgets/controls",
          "model_name": "HBoxModel",
          "model_module_version": "1.5.0",
          "state": {
            "_dom_classes": [],
            "_model_module": "@jupyter-widgets/controls",
            "_model_module_version": "1.5.0",
            "_model_name": "HBoxModel",
            "_view_count": null,
            "_view_module": "@jupyter-widgets/controls",
            "_view_module_version": "1.5.0",
            "_view_name": "HBoxView",
            "box_style": "",
            "children": [
              "IPY_MODEL_277af0b033d8482cbe6ca6c3defa1cd6",
              "IPY_MODEL_5ace22ca1a5f40ffbae65e831d45ec36",
              "IPY_MODEL_137fff11bdd04262a257391d18184f45"
            ],
            "layout": "IPY_MODEL_defd9e20461b401ab1240e7dc91a6ad9"
          }
        },
        "277af0b033d8482cbe6ca6c3defa1cd6": {
          "model_module": "@jupyter-widgets/controls",
          "model_name": "HTMLModel",
          "model_module_version": "1.5.0",
          "state": {
            "_dom_classes": [],
            "_model_module": "@jupyter-widgets/controls",
            "_model_module_version": "1.5.0",
            "_model_name": "HTMLModel",
            "_view_count": null,
            "_view_module": "@jupyter-widgets/controls",
            "_view_module_version": "1.5.0",
            "_view_name": "HTMLView",
            "description": "",
            "description_tooltip": null,
            "layout": "IPY_MODEL_06618812944448709ffeb481645642d1",
            "placeholder": "​",
            "style": "IPY_MODEL_2afd3a8ff298496a8bbf835451bd5f0f",
            "value": "config.json: 100%"
          }
        },
        "5ace22ca1a5f40ffbae65e831d45ec36": {
          "model_module": "@jupyter-widgets/controls",
          "model_name": "FloatProgressModel",
          "model_module_version": "1.5.0",
          "state": {
            "_dom_classes": [],
            "_model_module": "@jupyter-widgets/controls",
            "_model_module_version": "1.5.0",
            "_model_name": "FloatProgressModel",
            "_view_count": null,
            "_view_module": "@jupyter-widgets/controls",
            "_view_module_version": "1.5.0",
            "_view_name": "ProgressView",
            "bar_style": "success",
            "description": "",
            "description_tooltip": null,
            "layout": "IPY_MODEL_ee918c7bb8594cdeb8d36769efc46222",
            "max": 656,
            "min": 0,
            "orientation": "horizontal",
            "style": "IPY_MODEL_2c8b876cd8594d9ab7ee22a101442f41",
            "value": 656
          }
        },
        "137fff11bdd04262a257391d18184f45": {
          "model_module": "@jupyter-widgets/controls",
          "model_name": "HTMLModel",
          "model_module_version": "1.5.0",
          "state": {
            "_dom_classes": [],
            "_model_module": "@jupyter-widgets/controls",
            "_model_module_version": "1.5.0",
            "_model_name": "HTMLModel",
            "_view_count": null,
            "_view_module": "@jupyter-widgets/controls",
            "_view_module_version": "1.5.0",
            "_view_name": "HTMLView",
            "description": "",
            "description_tooltip": null,
            "layout": "IPY_MODEL_222a13aa8da74066b423f5f4012f9060",
            "placeholder": "​",
            "style": "IPY_MODEL_6b7fdfe806c2407c8ced215cefb5b5c0",
            "value": " 656/656 [00:00&lt;00:00, 57.7kB/s]"
          }
        },
        "defd9e20461b401ab1240e7dc91a6ad9": {
          "model_module": "@jupyter-widgets/base",
          "model_name": "LayoutModel",
          "model_module_version": "1.2.0",
          "state": {
            "_model_module": "@jupyter-widgets/base",
            "_model_module_version": "1.2.0",
            "_model_name": "LayoutModel",
            "_view_count": null,
            "_view_module": "@jupyter-widgets/base",
            "_view_module_version": "1.2.0",
            "_view_name": "LayoutView",
            "align_content": null,
            "align_items": null,
            "align_self": null,
            "border": null,
            "bottom": null,
            "display": null,
            "flex": null,
            "flex_flow": null,
            "grid_area": null,
            "grid_auto_columns": null,
            "grid_auto_flow": null,
            "grid_auto_rows": null,
            "grid_column": null,
            "grid_gap": null,
            "grid_row": null,
            "grid_template_areas": null,
            "grid_template_columns": null,
            "grid_template_rows": null,
            "height": null,
            "justify_content": null,
            "justify_items": null,
            "left": null,
            "margin": null,
            "max_height": null,
            "max_width": null,
            "min_height": null,
            "min_width": null,
            "object_fit": null,
            "object_position": null,
            "order": null,
            "overflow": null,
            "overflow_x": null,
            "overflow_y": null,
            "padding": null,
            "right": null,
            "top": null,
            "visibility": null,
            "width": null
          }
        },
        "06618812944448709ffeb481645642d1": {
          "model_module": "@jupyter-widgets/base",
          "model_name": "LayoutModel",
          "model_module_version": "1.2.0",
          "state": {
            "_model_module": "@jupyter-widgets/base",
            "_model_module_version": "1.2.0",
            "_model_name": "LayoutModel",
            "_view_count": null,
            "_view_module": "@jupyter-widgets/base",
            "_view_module_version": "1.2.0",
            "_view_name": "LayoutView",
            "align_content": null,
            "align_items": null,
            "align_self": null,
            "border": null,
            "bottom": null,
            "display": null,
            "flex": null,
            "flex_flow": null,
            "grid_area": null,
            "grid_auto_columns": null,
            "grid_auto_flow": null,
            "grid_auto_rows": null,
            "grid_column": null,
            "grid_gap": null,
            "grid_row": null,
            "grid_template_areas": null,
            "grid_template_columns": null,
            "grid_template_rows": null,
            "height": null,
            "justify_content": null,
            "justify_items": null,
            "left": null,
            "margin": null,
            "max_height": null,
            "max_width": null,
            "min_height": null,
            "min_width": null,
            "object_fit": null,
            "object_position": null,
            "order": null,
            "overflow": null,
            "overflow_x": null,
            "overflow_y": null,
            "padding": null,
            "right": null,
            "top": null,
            "visibility": null,
            "width": null
          }
        },
        "2afd3a8ff298496a8bbf835451bd5f0f": {
          "model_module": "@jupyter-widgets/controls",
          "model_name": "DescriptionStyleModel",
          "model_module_version": "1.5.0",
          "state": {
            "_model_module": "@jupyter-widgets/controls",
            "_model_module_version": "1.5.0",
            "_model_name": "DescriptionStyleModel",
            "_view_count": null,
            "_view_module": "@jupyter-widgets/base",
            "_view_module_version": "1.2.0",
            "_view_name": "StyleView",
            "description_width": ""
          }
        },
        "ee918c7bb8594cdeb8d36769efc46222": {
          "model_module": "@jupyter-widgets/base",
          "model_name": "LayoutModel",
          "model_module_version": "1.2.0",
          "state": {
            "_model_module": "@jupyter-widgets/base",
            "_model_module_version": "1.2.0",
            "_model_name": "LayoutModel",
            "_view_count": null,
            "_view_module": "@jupyter-widgets/base",
            "_view_module_version": "1.2.0",
            "_view_name": "LayoutView",
            "align_content": null,
            "align_items": null,
            "align_self": null,
            "border": null,
            "bottom": null,
            "display": null,
            "flex": null,
            "flex_flow": null,
            "grid_area": null,
            "grid_auto_columns": null,
            "grid_auto_flow": null,
            "grid_auto_rows": null,
            "grid_column": null,
            "grid_gap": null,
            "grid_row": null,
            "grid_template_areas": null,
            "grid_template_columns": null,
            "grid_template_rows": null,
            "height": null,
            "justify_content": null,
            "justify_items": null,
            "left": null,
            "margin": null,
            "max_height": null,
            "max_width": null,
            "min_height": null,
            "min_width": null,
            "object_fit": null,
            "object_position": null,
            "order": null,
            "overflow": null,
            "overflow_x": null,
            "overflow_y": null,
            "padding": null,
            "right": null,
            "top": null,
            "visibility": null,
            "width": null
          }
        },
        "2c8b876cd8594d9ab7ee22a101442f41": {
          "model_module": "@jupyter-widgets/controls",
          "model_name": "ProgressStyleModel",
          "model_module_version": "1.5.0",
          "state": {
            "_model_module": "@jupyter-widgets/controls",
            "_model_module_version": "1.5.0",
            "_model_name": "ProgressStyleModel",
            "_view_count": null,
            "_view_module": "@jupyter-widgets/base",
            "_view_module_version": "1.2.0",
            "_view_name": "StyleView",
            "bar_color": null,
            "description_width": ""
          }
        },
        "222a13aa8da74066b423f5f4012f9060": {
          "model_module": "@jupyter-widgets/base",
          "model_name": "LayoutModel",
          "model_module_version": "1.2.0",
          "state": {
            "_model_module": "@jupyter-widgets/base",
            "_model_module_version": "1.2.0",
            "_model_name": "LayoutModel",
            "_view_count": null,
            "_view_module": "@jupyter-widgets/base",
            "_view_module_version": "1.2.0",
            "_view_name": "LayoutView",
            "align_content": null,
            "align_items": null,
            "align_self": null,
            "border": null,
            "bottom": null,
            "display": null,
            "flex": null,
            "flex_flow": null,
            "grid_area": null,
            "grid_auto_columns": null,
            "grid_auto_flow": null,
            "grid_auto_rows": null,
            "grid_column": null,
            "grid_gap": null,
            "grid_row": null,
            "grid_template_areas": null,
            "grid_template_columns": null,
            "grid_template_rows": null,
            "height": null,
            "justify_content": null,
            "justify_items": null,
            "left": null,
            "margin": null,
            "max_height": null,
            "max_width": null,
            "min_height": null,
            "min_width": null,
            "object_fit": null,
            "object_position": null,
            "order": null,
            "overflow": null,
            "overflow_x": null,
            "overflow_y": null,
            "padding": null,
            "right": null,
            "top": null,
            "visibility": null,
            "width": null
          }
        },
        "6b7fdfe806c2407c8ced215cefb5b5c0": {
          "model_module": "@jupyter-widgets/controls",
          "model_name": "DescriptionStyleModel",
          "model_module_version": "1.5.0",
          "state": {
            "_model_module": "@jupyter-widgets/controls",
            "_model_module_version": "1.5.0",
            "_model_name": "DescriptionStyleModel",
            "_view_count": null,
            "_view_module": "@jupyter-widgets/base",
            "_view_module_version": "1.2.0",
            "_view_name": "StyleView",
            "description_width": ""
          }
        },
        "9e889f82f794417a87ee5c3cfbe35273": {
          "model_module": "@jupyter-widgets/controls",
          "model_name": "HBoxModel",
          "model_module_version": "1.5.0",
          "state": {
            "_dom_classes": [],
            "_model_module": "@jupyter-widgets/controls",
            "_model_module_version": "1.5.0",
            "_model_name": "HBoxModel",
            "_view_count": null,
            "_view_module": "@jupyter-widgets/controls",
            "_view_module_version": "1.5.0",
            "_view_name": "HBoxView",
            "box_style": "",
            "children": [
              "IPY_MODEL_a735e4938c554b5ab08bb900a00be447",
              "IPY_MODEL_c2356e894864438c9b175ed80dac0e46",
              "IPY_MODEL_fd6c7b2ccafe44358d4e8aa5d9c9ac2b"
            ],
            "layout": "IPY_MODEL_f638881edf2f423aa4d4a8e6ccc278a3"
          }
        },
        "a735e4938c554b5ab08bb900a00be447": {
          "model_module": "@jupyter-widgets/controls",
          "model_name": "HTMLModel",
          "model_module_version": "1.5.0",
          "state": {
            "_dom_classes": [],
            "_model_module": "@jupyter-widgets/controls",
            "_model_module_version": "1.5.0",
            "_model_name": "HTMLModel",
            "_view_count": null,
            "_view_module": "@jupyter-widgets/controls",
            "_view_module_version": "1.5.0",
            "_view_name": "HTMLView",
            "description": "",
            "description_tooltip": null,
            "layout": "IPY_MODEL_972c1b5f25f740a4ba1b03d2162e3c25",
            "placeholder": "​",
            "style": "IPY_MODEL_912e567c5bc54179af81c30add0f4985",
            "value": "pytorch_model.bin: 100%"
          }
        },
        "c2356e894864438c9b175ed80dac0e46": {
          "model_module": "@jupyter-widgets/controls",
          "model_name": "FloatProgressModel",
          "model_module_version": "1.5.0",
          "state": {
            "_dom_classes": [],
            "_model_module": "@jupyter-widgets/controls",
            "_model_module_version": "1.5.0",
            "_model_name": "FloatProgressModel",
            "_view_count": null,
            "_view_module": "@jupyter-widgets/controls",
            "_view_module_version": "1.5.0",
            "_view_name": "ProgressView",
            "bar_style": "success",
            "description": "",
            "description_tooltip": null,
            "layout": "IPY_MODEL_e1c56f8b97e64f359becad444c832fd1",
            "max": 2416373051,
            "min": 0,
            "orientation": "horizontal",
            "style": "IPY_MODEL_00f614413de3416c89c713340521f8ad",
            "value": 2416373051
          }
        },
        "fd6c7b2ccafe44358d4e8aa5d9c9ac2b": {
          "model_module": "@jupyter-widgets/controls",
          "model_name": "HTMLModel",
          "model_module_version": "1.5.0",
          "state": {
            "_dom_classes": [],
            "_model_module": "@jupyter-widgets/controls",
            "_model_module_version": "1.5.0",
            "_model_name": "HTMLModel",
            "_view_count": null,
            "_view_module": "@jupyter-widgets/controls",
            "_view_module_version": "1.5.0",
            "_view_name": "HTMLView",
            "description": "",
            "description_tooltip": null,
            "layout": "IPY_MODEL_b9b2db63323e451ea118e31279509cfe",
            "placeholder": "​",
            "style": "IPY_MODEL_8c233adcf46f4168a8009a70fc7a976e",
            "value": " 2.42G/2.42G [02:37&lt;00:00, 14.6MB/s]"
          }
        },
        "f638881edf2f423aa4d4a8e6ccc278a3": {
          "model_module": "@jupyter-widgets/base",
          "model_name": "LayoutModel",
          "model_module_version": "1.2.0",
          "state": {
            "_model_module": "@jupyter-widgets/base",
            "_model_module_version": "1.2.0",
            "_model_name": "LayoutModel",
            "_view_count": null,
            "_view_module": "@jupyter-widgets/base",
            "_view_module_version": "1.2.0",
            "_view_name": "LayoutView",
            "align_content": null,
            "align_items": null,
            "align_self": null,
            "border": null,
            "bottom": null,
            "display": null,
            "flex": null,
            "flex_flow": null,
            "grid_area": null,
            "grid_auto_columns": null,
            "grid_auto_flow": null,
            "grid_auto_rows": null,
            "grid_column": null,
            "grid_gap": null,
            "grid_row": null,
            "grid_template_areas": null,
            "grid_template_columns": null,
            "grid_template_rows": null,
            "height": null,
            "justify_content": null,
            "justify_items": null,
            "left": null,
            "margin": null,
            "max_height": null,
            "max_width": null,
            "min_height": null,
            "min_width": null,
            "object_fit": null,
            "object_position": null,
            "order": null,
            "overflow": null,
            "overflow_x": null,
            "overflow_y": null,
            "padding": null,
            "right": null,
            "top": null,
            "visibility": null,
            "width": null
          }
        },
        "972c1b5f25f740a4ba1b03d2162e3c25": {
          "model_module": "@jupyter-widgets/base",
          "model_name": "LayoutModel",
          "model_module_version": "1.2.0",
          "state": {
            "_model_module": "@jupyter-widgets/base",
            "_model_module_version": "1.2.0",
            "_model_name": "LayoutModel",
            "_view_count": null,
            "_view_module": "@jupyter-widgets/base",
            "_view_module_version": "1.2.0",
            "_view_name": "LayoutView",
            "align_content": null,
            "align_items": null,
            "align_self": null,
            "border": null,
            "bottom": null,
            "display": null,
            "flex": null,
            "flex_flow": null,
            "grid_area": null,
            "grid_auto_columns": null,
            "grid_auto_flow": null,
            "grid_auto_rows": null,
            "grid_column": null,
            "grid_gap": null,
            "grid_row": null,
            "grid_template_areas": null,
            "grid_template_columns": null,
            "grid_template_rows": null,
            "height": null,
            "justify_content": null,
            "justify_items": null,
            "left": null,
            "margin": null,
            "max_height": null,
            "max_width": null,
            "min_height": null,
            "min_width": null,
            "object_fit": null,
            "object_position": null,
            "order": null,
            "overflow": null,
            "overflow_x": null,
            "overflow_y": null,
            "padding": null,
            "right": null,
            "top": null,
            "visibility": null,
            "width": null
          }
        },
        "912e567c5bc54179af81c30add0f4985": {
          "model_module": "@jupyter-widgets/controls",
          "model_name": "DescriptionStyleModel",
          "model_module_version": "1.5.0",
          "state": {
            "_model_module": "@jupyter-widgets/controls",
            "_model_module_version": "1.5.0",
            "_model_name": "DescriptionStyleModel",
            "_view_count": null,
            "_view_module": "@jupyter-widgets/base",
            "_view_module_version": "1.2.0",
            "_view_name": "StyleView",
            "description_width": ""
          }
        },
        "e1c56f8b97e64f359becad444c832fd1": {
          "model_module": "@jupyter-widgets/base",
          "model_name": "LayoutModel",
          "model_module_version": "1.2.0",
          "state": {
            "_model_module": "@jupyter-widgets/base",
            "_model_module_version": "1.2.0",
            "_model_name": "LayoutModel",
            "_view_count": null,
            "_view_module": "@jupyter-widgets/base",
            "_view_module_version": "1.2.0",
            "_view_name": "LayoutView",
            "align_content": null,
            "align_items": null,
            "align_self": null,
            "border": null,
            "bottom": null,
            "display": null,
            "flex": null,
            "flex_flow": null,
            "grid_area": null,
            "grid_auto_columns": null,
            "grid_auto_flow": null,
            "grid_auto_rows": null,
            "grid_column": null,
            "grid_gap": null,
            "grid_row": null,
            "grid_template_areas": null,
            "grid_template_columns": null,
            "grid_template_rows": null,
            "height": null,
            "justify_content": null,
            "justify_items": null,
            "left": null,
            "margin": null,
            "max_height": null,
            "max_width": null,
            "min_height": null,
            "min_width": null,
            "object_fit": null,
            "object_position": null,
            "order": null,
            "overflow": null,
            "overflow_x": null,
            "overflow_y": null,
            "padding": null,
            "right": null,
            "top": null,
            "visibility": null,
            "width": null
          }
        },
        "00f614413de3416c89c713340521f8ad": {
          "model_module": "@jupyter-widgets/controls",
          "model_name": "ProgressStyleModel",
          "model_module_version": "1.5.0",
          "state": {
            "_model_module": "@jupyter-widgets/controls",
            "_model_module_version": "1.5.0",
            "_model_name": "ProgressStyleModel",
            "_view_count": null,
            "_view_module": "@jupyter-widgets/base",
            "_view_module_version": "1.2.0",
            "_view_name": "StyleView",
            "bar_color": null,
            "description_width": ""
          }
        },
        "b9b2db63323e451ea118e31279509cfe": {
          "model_module": "@jupyter-widgets/base",
          "model_name": "LayoutModel",
          "model_module_version": "1.2.0",
          "state": {
            "_model_module": "@jupyter-widgets/base",
            "_model_module_version": "1.2.0",
            "_model_name": "LayoutModel",
            "_view_count": null,
            "_view_module": "@jupyter-widgets/base",
            "_view_module_version": "1.2.0",
            "_view_name": "LayoutView",
            "align_content": null,
            "align_items": null,
            "align_self": null,
            "border": null,
            "bottom": null,
            "display": null,
            "flex": null,
            "flex_flow": null,
            "grid_area": null,
            "grid_auto_columns": null,
            "grid_auto_flow": null,
            "grid_auto_rows": null,
            "grid_column": null,
            "grid_gap": null,
            "grid_row": null,
            "grid_template_areas": null,
            "grid_template_columns": null,
            "grid_template_rows": null,
            "height": null,
            "justify_content": null,
            "justify_items": null,
            "left": null,
            "margin": null,
            "max_height": null,
            "max_width": null,
            "min_height": null,
            "min_width": null,
            "object_fit": null,
            "object_position": null,
            "order": null,
            "overflow": null,
            "overflow_x": null,
            "overflow_y": null,
            "padding": null,
            "right": null,
            "top": null,
            "visibility": null,
            "width": null
          }
        },
        "8c233adcf46f4168a8009a70fc7a976e": {
          "model_module": "@jupyter-widgets/controls",
          "model_name": "DescriptionStyleModel",
          "model_module_version": "1.5.0",
          "state": {
            "_model_module": "@jupyter-widgets/controls",
            "_model_module_version": "1.5.0",
            "_model_name": "DescriptionStyleModel",
            "_view_count": null,
            "_view_module": "@jupyter-widgets/base",
            "_view_module_version": "1.2.0",
            "_view_name": "StyleView",
            "description_width": ""
          }
        },
        "1e38d1d1ee914f0b808cf448f5e27967": {
          "model_module": "@jupyter-widgets/controls",
          "model_name": "HBoxModel",
          "model_module_version": "1.5.0",
          "state": {
            "_dom_classes": [],
            "_model_module": "@jupyter-widgets/controls",
            "_model_module_version": "1.5.0",
            "_model_name": "HBoxModel",
            "_view_count": null,
            "_view_module": "@jupyter-widgets/controls",
            "_view_module_version": "1.5.0",
            "_view_name": "HBoxView",
            "box_style": "",
            "children": [
              "IPY_MODEL_ebaea4faac6f45bcb200fe42803e19c2",
              "IPY_MODEL_a0e347198c314e43847699db7df95eac",
              "IPY_MODEL_2e351a9c56004f6189d8c29563330572"
            ],
            "layout": "IPY_MODEL_a4407c85efbc4b4ba51e3337133f7b68"
          }
        },
        "ebaea4faac6f45bcb200fe42803e19c2": {
          "model_module": "@jupyter-widgets/controls",
          "model_name": "HTMLModel",
          "model_module_version": "1.5.0",
          "state": {
            "_dom_classes": [],
            "_model_module": "@jupyter-widgets/controls",
            "_model_module_version": "1.5.0",
            "_model_name": "HTMLModel",
            "_view_count": null,
            "_view_module": "@jupyter-widgets/controls",
            "_view_module_version": "1.5.0",
            "_view_name": "HTMLView",
            "description": "",
            "description_tooltip": null,
            "layout": "IPY_MODEL_e246aed00766448ab93389b308c5e10c",
            "placeholder": "​",
            "style": "IPY_MODEL_aa398be954ee480eb60a271aa5fb375f",
            "value": "config.json: 100%"
          }
        },
        "a0e347198c314e43847699db7df95eac": {
          "model_module": "@jupyter-widgets/controls",
          "model_name": "FloatProgressModel",
          "model_module_version": "1.5.0",
          "state": {
            "_dom_classes": [],
            "_model_module": "@jupyter-widgets/controls",
            "_model_module_version": "1.5.0",
            "_model_name": "FloatProgressModel",
            "_view_count": null,
            "_view_module": "@jupyter-widgets/controls",
            "_view_module_version": "1.5.0",
            "_view_name": "ProgressView",
            "bar_style": "success",
            "description": "",
            "description_tooltip": null,
            "layout": "IPY_MODEL_af223090464149e597ae21eef7f8c8c6",
            "max": 457,
            "min": 0,
            "orientation": "horizontal",
            "style": "IPY_MODEL_01be5a40576b4000bf7241b8efb0fdd7",
            "value": 457
          }
        },
        "2e351a9c56004f6189d8c29563330572": {
          "model_module": "@jupyter-widgets/controls",
          "model_name": "HTMLModel",
          "model_module_version": "1.5.0",
          "state": {
            "_dom_classes": [],
            "_model_module": "@jupyter-widgets/controls",
            "_model_module_version": "1.5.0",
            "_model_name": "HTMLModel",
            "_view_count": null,
            "_view_module": "@jupyter-widgets/controls",
            "_view_module_version": "1.5.0",
            "_view_name": "HTMLView",
            "description": "",
            "description_tooltip": null,
            "layout": "IPY_MODEL_bfb39943daac41b98cd95a9cba1b5f10",
            "placeholder": "​",
            "style": "IPY_MODEL_48925df8574247c1866bb5a430999fff",
            "value": " 457/457 [00:00&lt;00:00, 31.3kB/s]"
          }
        },
        "a4407c85efbc4b4ba51e3337133f7b68": {
          "model_module": "@jupyter-widgets/base",
          "model_name": "LayoutModel",
          "model_module_version": "1.2.0",
          "state": {
            "_model_module": "@jupyter-widgets/base",
            "_model_module_version": "1.2.0",
            "_model_name": "LayoutModel",
            "_view_count": null,
            "_view_module": "@jupyter-widgets/base",
            "_view_module_version": "1.2.0",
            "_view_name": "LayoutView",
            "align_content": null,
            "align_items": null,
            "align_self": null,
            "border": null,
            "bottom": null,
            "display": null,
            "flex": null,
            "flex_flow": null,
            "grid_area": null,
            "grid_auto_columns": null,
            "grid_auto_flow": null,
            "grid_auto_rows": null,
            "grid_column": null,
            "grid_gap": null,
            "grid_row": null,
            "grid_template_areas": null,
            "grid_template_columns": null,
            "grid_template_rows": null,
            "height": null,
            "justify_content": null,
            "justify_items": null,
            "left": null,
            "margin": null,
            "max_height": null,
            "max_width": null,
            "min_height": null,
            "min_width": null,
            "object_fit": null,
            "object_position": null,
            "order": null,
            "overflow": null,
            "overflow_x": null,
            "overflow_y": null,
            "padding": null,
            "right": null,
            "top": null,
            "visibility": null,
            "width": null
          }
        },
        "e246aed00766448ab93389b308c5e10c": {
          "model_module": "@jupyter-widgets/base",
          "model_name": "LayoutModel",
          "model_module_version": "1.2.0",
          "state": {
            "_model_module": "@jupyter-widgets/base",
            "_model_module_version": "1.2.0",
            "_model_name": "LayoutModel",
            "_view_count": null,
            "_view_module": "@jupyter-widgets/base",
            "_view_module_version": "1.2.0",
            "_view_name": "LayoutView",
            "align_content": null,
            "align_items": null,
            "align_self": null,
            "border": null,
            "bottom": null,
            "display": null,
            "flex": null,
            "flex_flow": null,
            "grid_area": null,
            "grid_auto_columns": null,
            "grid_auto_flow": null,
            "grid_auto_rows": null,
            "grid_column": null,
            "grid_gap": null,
            "grid_row": null,
            "grid_template_areas": null,
            "grid_template_columns": null,
            "grid_template_rows": null,
            "height": null,
            "justify_content": null,
            "justify_items": null,
            "left": null,
            "margin": null,
            "max_height": null,
            "max_width": null,
            "min_height": null,
            "min_width": null,
            "object_fit": null,
            "object_position": null,
            "order": null,
            "overflow": null,
            "overflow_x": null,
            "overflow_y": null,
            "padding": null,
            "right": null,
            "top": null,
            "visibility": null,
            "width": null
          }
        },
        "aa398be954ee480eb60a271aa5fb375f": {
          "model_module": "@jupyter-widgets/controls",
          "model_name": "DescriptionStyleModel",
          "model_module_version": "1.5.0",
          "state": {
            "_model_module": "@jupyter-widgets/controls",
            "_model_module_version": "1.5.0",
            "_model_name": "DescriptionStyleModel",
            "_view_count": null,
            "_view_module": "@jupyter-widgets/base",
            "_view_module_version": "1.2.0",
            "_view_name": "StyleView",
            "description_width": ""
          }
        },
        "af223090464149e597ae21eef7f8c8c6": {
          "model_module": "@jupyter-widgets/base",
          "model_name": "LayoutModel",
          "model_module_version": "1.2.0",
          "state": {
            "_model_module": "@jupyter-widgets/base",
            "_model_module_version": "1.2.0",
            "_model_name": "LayoutModel",
            "_view_count": null,
            "_view_module": "@jupyter-widgets/base",
            "_view_module_version": "1.2.0",
            "_view_name": "LayoutView",
            "align_content": null,
            "align_items": null,
            "align_self": null,
            "border": null,
            "bottom": null,
            "display": null,
            "flex": null,
            "flex_flow": null,
            "grid_area": null,
            "grid_auto_columns": null,
            "grid_auto_flow": null,
            "grid_auto_rows": null,
            "grid_column": null,
            "grid_gap": null,
            "grid_row": null,
            "grid_template_areas": null,
            "grid_template_columns": null,
            "grid_template_rows": null,
            "height": null,
            "justify_content": null,
            "justify_items": null,
            "left": null,
            "margin": null,
            "max_height": null,
            "max_width": null,
            "min_height": null,
            "min_width": null,
            "object_fit": null,
            "object_position": null,
            "order": null,
            "overflow": null,
            "overflow_x": null,
            "overflow_y": null,
            "padding": null,
            "right": null,
            "top": null,
            "visibility": null,
            "width": null
          }
        },
        "01be5a40576b4000bf7241b8efb0fdd7": {
          "model_module": "@jupyter-widgets/controls",
          "model_name": "ProgressStyleModel",
          "model_module_version": "1.5.0",
          "state": {
            "_model_module": "@jupyter-widgets/controls",
            "_model_module_version": "1.5.0",
            "_model_name": "ProgressStyleModel",
            "_view_count": null,
            "_view_module": "@jupyter-widgets/base",
            "_view_module_version": "1.2.0",
            "_view_name": "StyleView",
            "bar_color": null,
            "description_width": ""
          }
        },
        "bfb39943daac41b98cd95a9cba1b5f10": {
          "model_module": "@jupyter-widgets/base",
          "model_name": "LayoutModel",
          "model_module_version": "1.2.0",
          "state": {
            "_model_module": "@jupyter-widgets/base",
            "_model_module_version": "1.2.0",
            "_model_name": "LayoutModel",
            "_view_count": null,
            "_view_module": "@jupyter-widgets/base",
            "_view_module_version": "1.2.0",
            "_view_name": "LayoutView",
            "align_content": null,
            "align_items": null,
            "align_self": null,
            "border": null,
            "bottom": null,
            "display": null,
            "flex": null,
            "flex_flow": null,
            "grid_area": null,
            "grid_auto_columns": null,
            "grid_auto_flow": null,
            "grid_auto_rows": null,
            "grid_column": null,
            "grid_gap": null,
            "grid_row": null,
            "grid_template_areas": null,
            "grid_template_columns": null,
            "grid_template_rows": null,
            "height": null,
            "justify_content": null,
            "justify_items": null,
            "left": null,
            "margin": null,
            "max_height": null,
            "max_width": null,
            "min_height": null,
            "min_width": null,
            "object_fit": null,
            "object_position": null,
            "order": null,
            "overflow": null,
            "overflow_x": null,
            "overflow_y": null,
            "padding": null,
            "right": null,
            "top": null,
            "visibility": null,
            "width": null
          }
        },
        "48925df8574247c1866bb5a430999fff": {
          "model_module": "@jupyter-widgets/controls",
          "model_name": "DescriptionStyleModel",
          "model_module_version": "1.5.0",
          "state": {
            "_model_module": "@jupyter-widgets/controls",
            "_model_module_version": "1.5.0",
            "_model_name": "DescriptionStyleModel",
            "_view_count": null,
            "_view_module": "@jupyter-widgets/base",
            "_view_module_version": "1.2.0",
            "_view_name": "StyleView",
            "description_width": ""
          }
        },
        "6e2e08e71ede43d48a7ac652541e899d": {
          "model_module": "@jupyter-widgets/controls",
          "model_name": "HBoxModel",
          "model_module_version": "1.5.0",
          "state": {
            "_dom_classes": [],
            "_model_module": "@jupyter-widgets/controls",
            "_model_module_version": "1.5.0",
            "_model_name": "HBoxModel",
            "_view_count": null,
            "_view_module": "@jupyter-widgets/controls",
            "_view_module_version": "1.5.0",
            "_view_name": "HBoxView",
            "box_style": "",
            "children": [
              "IPY_MODEL_bd67b9872be2463b8644224877f33440",
              "IPY_MODEL_d0a923848d9b424193f7f9627dcd1403",
              "IPY_MODEL_8119ba95fed94ae4894be56700188b59"
            ],
            "layout": "IPY_MODEL_9f4ffa95d23d41c1ae5c2cddd6b87be8"
          }
        },
        "bd67b9872be2463b8644224877f33440": {
          "model_module": "@jupyter-widgets/controls",
          "model_name": "HTMLModel",
          "model_module_version": "1.5.0",
          "state": {
            "_dom_classes": [],
            "_model_module": "@jupyter-widgets/controls",
            "_model_module_version": "1.5.0",
            "_model_name": "HTMLModel",
            "_view_count": null,
            "_view_module": "@jupyter-widgets/controls",
            "_view_module_version": "1.5.0",
            "_view_name": "HTMLView",
            "description": "",
            "description_tooltip": null,
            "layout": "IPY_MODEL_c1d82d61f282435aaf8d2cd36b19e426",
            "placeholder": "​",
            "style": "IPY_MODEL_eedc3ae2e718448890a8e0fe23d70dce",
            "value": "pytorch_model.bin: 100%"
          }
        },
        "d0a923848d9b424193f7f9627dcd1403": {
          "model_module": "@jupyter-widgets/controls",
          "model_name": "FloatProgressModel",
          "model_module_version": "1.5.0",
          "state": {
            "_dom_classes": [],
            "_model_module": "@jupyter-widgets/controls",
            "_model_module_version": "1.5.0",
            "_model_name": "FloatProgressModel",
            "_view_count": null,
            "_view_module": "@jupyter-widgets/controls",
            "_view_module_version": "1.5.0",
            "_view_name": "ProgressView",
            "bar_style": "success",
            "description": "",
            "description_tooltip": null,
            "layout": "IPY_MODEL_84bee8bd4542461687e107b2178ed0cd",
            "max": 11275562268,
            "min": 0,
            "orientation": "horizontal",
            "style": "IPY_MODEL_b1a68e57ee4f4645b7e274ede78226f1",
            "value": 11275562268
          }
        },
        "8119ba95fed94ae4894be56700188b59": {
          "model_module": "@jupyter-widgets/controls",
          "model_name": "HTMLModel",
          "model_module_version": "1.5.0",
          "state": {
            "_dom_classes": [],
            "_model_module": "@jupyter-widgets/controls",
            "_model_module_version": "1.5.0",
            "_model_name": "HTMLModel",
            "_view_count": null,
            "_view_module": "@jupyter-widgets/controls",
            "_view_module_version": "1.5.0",
            "_view_name": "HTMLView",
            "description": "",
            "description_tooltip": null,
            "layout": "IPY_MODEL_f1162434471b4111b226ee1d7b69ff47",
            "placeholder": "​",
            "style": "IPY_MODEL_edca76541a3c4c168d053344168d384b",
            "value": " 11.3G/11.3G [11:44&lt;00:00, 14.4MB/s]"
          }
        },
        "9f4ffa95d23d41c1ae5c2cddd6b87be8": {
          "model_module": "@jupyter-widgets/base",
          "model_name": "LayoutModel",
          "model_module_version": "1.2.0",
          "state": {
            "_model_module": "@jupyter-widgets/base",
            "_model_module_version": "1.2.0",
            "_model_name": "LayoutModel",
            "_view_count": null,
            "_view_module": "@jupyter-widgets/base",
            "_view_module_version": "1.2.0",
            "_view_name": "LayoutView",
            "align_content": null,
            "align_items": null,
            "align_self": null,
            "border": null,
            "bottom": null,
            "display": null,
            "flex": null,
            "flex_flow": null,
            "grid_area": null,
            "grid_auto_columns": null,
            "grid_auto_flow": null,
            "grid_auto_rows": null,
            "grid_column": null,
            "grid_gap": null,
            "grid_row": null,
            "grid_template_areas": null,
            "grid_template_columns": null,
            "grid_template_rows": null,
            "height": null,
            "justify_content": null,
            "justify_items": null,
            "left": null,
            "margin": null,
            "max_height": null,
            "max_width": null,
            "min_height": null,
            "min_width": null,
            "object_fit": null,
            "object_position": null,
            "order": null,
            "overflow": null,
            "overflow_x": null,
            "overflow_y": null,
            "padding": null,
            "right": null,
            "top": null,
            "visibility": null,
            "width": null
          }
        },
        "c1d82d61f282435aaf8d2cd36b19e426": {
          "model_module": "@jupyter-widgets/base",
          "model_name": "LayoutModel",
          "model_module_version": "1.2.0",
          "state": {
            "_model_module": "@jupyter-widgets/base",
            "_model_module_version": "1.2.0",
            "_model_name": "LayoutModel",
            "_view_count": null,
            "_view_module": "@jupyter-widgets/base",
            "_view_module_version": "1.2.0",
            "_view_name": "LayoutView",
            "align_content": null,
            "align_items": null,
            "align_self": null,
            "border": null,
            "bottom": null,
            "display": null,
            "flex": null,
            "flex_flow": null,
            "grid_area": null,
            "grid_auto_columns": null,
            "grid_auto_flow": null,
            "grid_auto_rows": null,
            "grid_column": null,
            "grid_gap": null,
            "grid_row": null,
            "grid_template_areas": null,
            "grid_template_columns": null,
            "grid_template_rows": null,
            "height": null,
            "justify_content": null,
            "justify_items": null,
            "left": null,
            "margin": null,
            "max_height": null,
            "max_width": null,
            "min_height": null,
            "min_width": null,
            "object_fit": null,
            "object_position": null,
            "order": null,
            "overflow": null,
            "overflow_x": null,
            "overflow_y": null,
            "padding": null,
            "right": null,
            "top": null,
            "visibility": null,
            "width": null
          }
        },
        "eedc3ae2e718448890a8e0fe23d70dce": {
          "model_module": "@jupyter-widgets/controls",
          "model_name": "DescriptionStyleModel",
          "model_module_version": "1.5.0",
          "state": {
            "_model_module": "@jupyter-widgets/controls",
            "_model_module_version": "1.5.0",
            "_model_name": "DescriptionStyleModel",
            "_view_count": null,
            "_view_module": "@jupyter-widgets/base",
            "_view_module_version": "1.2.0",
            "_view_name": "StyleView",
            "description_width": ""
          }
        },
        "84bee8bd4542461687e107b2178ed0cd": {
          "model_module": "@jupyter-widgets/base",
          "model_name": "LayoutModel",
          "model_module_version": "1.2.0",
          "state": {
            "_model_module": "@jupyter-widgets/base",
            "_model_module_version": "1.2.0",
            "_model_name": "LayoutModel",
            "_view_count": null,
            "_view_module": "@jupyter-widgets/base",
            "_view_module_version": "1.2.0",
            "_view_name": "LayoutView",
            "align_content": null,
            "align_items": null,
            "align_self": null,
            "border": null,
            "bottom": null,
            "display": null,
            "flex": null,
            "flex_flow": null,
            "grid_area": null,
            "grid_auto_columns": null,
            "grid_auto_flow": null,
            "grid_auto_rows": null,
            "grid_column": null,
            "grid_gap": null,
            "grid_row": null,
            "grid_template_areas": null,
            "grid_template_columns": null,
            "grid_template_rows": null,
            "height": null,
            "justify_content": null,
            "justify_items": null,
            "left": null,
            "margin": null,
            "max_height": null,
            "max_width": null,
            "min_height": null,
            "min_width": null,
            "object_fit": null,
            "object_position": null,
            "order": null,
            "overflow": null,
            "overflow_x": null,
            "overflow_y": null,
            "padding": null,
            "right": null,
            "top": null,
            "visibility": null,
            "width": null
          }
        },
        "b1a68e57ee4f4645b7e274ede78226f1": {
          "model_module": "@jupyter-widgets/controls",
          "model_name": "ProgressStyleModel",
          "model_module_version": "1.5.0",
          "state": {
            "_model_module": "@jupyter-widgets/controls",
            "_model_module_version": "1.5.0",
            "_model_name": "ProgressStyleModel",
            "_view_count": null,
            "_view_module": "@jupyter-widgets/base",
            "_view_module_version": "1.2.0",
            "_view_name": "StyleView",
            "bar_color": null,
            "description_width": ""
          }
        },
        "f1162434471b4111b226ee1d7b69ff47": {
          "model_module": "@jupyter-widgets/base",
          "model_name": "LayoutModel",
          "model_module_version": "1.2.0",
          "state": {
            "_model_module": "@jupyter-widgets/base",
            "_model_module_version": "1.2.0",
            "_model_name": "LayoutModel",
            "_view_count": null,
            "_view_module": "@jupyter-widgets/base",
            "_view_module_version": "1.2.0",
            "_view_name": "LayoutView",
            "align_content": null,
            "align_items": null,
            "align_self": null,
            "border": null,
            "bottom": null,
            "display": null,
            "flex": null,
            "flex_flow": null,
            "grid_area": null,
            "grid_auto_columns": null,
            "grid_auto_flow": null,
            "grid_auto_rows": null,
            "grid_column": null,
            "grid_gap": null,
            "grid_row": null,
            "grid_template_areas": null,
            "grid_template_columns": null,
            "grid_template_rows": null,
            "height": null,
            "justify_content": null,
            "justify_items": null,
            "left": null,
            "margin": null,
            "max_height": null,
            "max_width": null,
            "min_height": null,
            "min_width": null,
            "object_fit": null,
            "object_position": null,
            "order": null,
            "overflow": null,
            "overflow_x": null,
            "overflow_y": null,
            "padding": null,
            "right": null,
            "top": null,
            "visibility": null,
            "width": null
          }
        },
        "edca76541a3c4c168d053344168d384b": {
          "model_module": "@jupyter-widgets/controls",
          "model_name": "DescriptionStyleModel",
          "model_module_version": "1.5.0",
          "state": {
            "_model_module": "@jupyter-widgets/controls",
            "_model_module_version": "1.5.0",
            "_model_name": "DescriptionStyleModel",
            "_view_count": null,
            "_view_module": "@jupyter-widgets/base",
            "_view_module_version": "1.2.0",
            "_view_name": "StyleView",
            "description_width": ""
          }
        },
        "81a400da8f1a4105a1bd298186926bf0": {
          "model_module": "@jupyter-widgets/controls",
          "model_name": "HBoxModel",
          "model_module_version": "1.5.0",
          "state": {
            "_dom_classes": [],
            "_model_module": "@jupyter-widgets/controls",
            "_model_module_version": "1.5.0",
            "_model_name": "HBoxModel",
            "_view_count": null,
            "_view_module": "@jupyter-widgets/controls",
            "_view_module_version": "1.5.0",
            "_view_name": "HBoxView",
            "box_style": "",
            "children": [
              "IPY_MODEL_37ea0ca07e194e97ba55332a29986ed9",
              "IPY_MODEL_d37a610cea8a4a08806b181ac4a100bb",
              "IPY_MODEL_50930acffdd34a1f80880645a473ceb7"
            ],
            "layout": "IPY_MODEL_baa075b64143444bb6a6cb569a99a987"
          }
        },
        "37ea0ca07e194e97ba55332a29986ed9": {
          "model_module": "@jupyter-widgets/controls",
          "model_name": "HTMLModel",
          "model_module_version": "1.5.0",
          "state": {
            "_dom_classes": [],
            "_model_module": "@jupyter-widgets/controls",
            "_model_module_version": "1.5.0",
            "_model_name": "HTMLModel",
            "_view_count": null,
            "_view_module": "@jupyter-widgets/controls",
            "_view_module_version": "1.5.0",
            "_view_name": "HTMLView",
            "description": "",
            "description_tooltip": null,
            "layout": "IPY_MODEL_ff4644cc3bfd4dc0aa7c7a6bceb356c1",
            "placeholder": "​",
            "style": "IPY_MODEL_24f4f1bbd9bf49d483dad3d23c6cd807",
            "value": "tokenizer_config.json: 100%"
          }
        },
        "d37a610cea8a4a08806b181ac4a100bb": {
          "model_module": "@jupyter-widgets/controls",
          "model_name": "FloatProgressModel",
          "model_module_version": "1.5.0",
          "state": {
            "_dom_classes": [],
            "_model_module": "@jupyter-widgets/controls",
            "_model_module_version": "1.5.0",
            "_model_name": "FloatProgressModel",
            "_view_count": null,
            "_view_module": "@jupyter-widgets/controls",
            "_view_module_version": "1.5.0",
            "_view_name": "ProgressView",
            "bar_style": "success",
            "description": "",
            "description_tooltip": null,
            "layout": "IPY_MODEL_7e45e55c586642df9ca2e1772478b6f4",
            "max": 24,
            "min": 0,
            "orientation": "horizontal",
            "style": "IPY_MODEL_acb173ea9a2248e892d2166156f0bd9c",
            "value": 24
          }
        },
        "50930acffdd34a1f80880645a473ceb7": {
          "model_module": "@jupyter-widgets/controls",
          "model_name": "HTMLModel",
          "model_module_version": "1.5.0",
          "state": {
            "_dom_classes": [],
            "_model_module": "@jupyter-widgets/controls",
            "_model_module_version": "1.5.0",
            "_model_name": "HTMLModel",
            "_view_count": null,
            "_view_module": "@jupyter-widgets/controls",
            "_view_module_version": "1.5.0",
            "_view_name": "HTMLView",
            "description": "",
            "description_tooltip": null,
            "layout": "IPY_MODEL_ae6ad015632340fc9cb407ccbd654cdd",
            "placeholder": "​",
            "style": "IPY_MODEL_855ae1174a164d44940f2d8865fd0ae3",
            "value": " 24.0/24.0 [00:00&lt;00:00, 2.19kB/s]"
          }
        },
        "baa075b64143444bb6a6cb569a99a987": {
          "model_module": "@jupyter-widgets/base",
          "model_name": "LayoutModel",
          "model_module_version": "1.2.0",
          "state": {
            "_model_module": "@jupyter-widgets/base",
            "_model_module_version": "1.2.0",
            "_model_name": "LayoutModel",
            "_view_count": null,
            "_view_module": "@jupyter-widgets/base",
            "_view_module_version": "1.2.0",
            "_view_name": "LayoutView",
            "align_content": null,
            "align_items": null,
            "align_self": null,
            "border": null,
            "bottom": null,
            "display": null,
            "flex": null,
            "flex_flow": null,
            "grid_area": null,
            "grid_auto_columns": null,
            "grid_auto_flow": null,
            "grid_auto_rows": null,
            "grid_column": null,
            "grid_gap": null,
            "grid_row": null,
            "grid_template_areas": null,
            "grid_template_columns": null,
            "grid_template_rows": null,
            "height": null,
            "justify_content": null,
            "justify_items": null,
            "left": null,
            "margin": null,
            "max_height": null,
            "max_width": null,
            "min_height": null,
            "min_width": null,
            "object_fit": null,
            "object_position": null,
            "order": null,
            "overflow": null,
            "overflow_x": null,
            "overflow_y": null,
            "padding": null,
            "right": null,
            "top": null,
            "visibility": null,
            "width": null
          }
        },
        "ff4644cc3bfd4dc0aa7c7a6bceb356c1": {
          "model_module": "@jupyter-widgets/base",
          "model_name": "LayoutModel",
          "model_module_version": "1.2.0",
          "state": {
            "_model_module": "@jupyter-widgets/base",
            "_model_module_version": "1.2.0",
            "_model_name": "LayoutModel",
            "_view_count": null,
            "_view_module": "@jupyter-widgets/base",
            "_view_module_version": "1.2.0",
            "_view_name": "LayoutView",
            "align_content": null,
            "align_items": null,
            "align_self": null,
            "border": null,
            "bottom": null,
            "display": null,
            "flex": null,
            "flex_flow": null,
            "grid_area": null,
            "grid_auto_columns": null,
            "grid_auto_flow": null,
            "grid_auto_rows": null,
            "grid_column": null,
            "grid_gap": null,
            "grid_row": null,
            "grid_template_areas": null,
            "grid_template_columns": null,
            "grid_template_rows": null,
            "height": null,
            "justify_content": null,
            "justify_items": null,
            "left": null,
            "margin": null,
            "max_height": null,
            "max_width": null,
            "min_height": null,
            "min_width": null,
            "object_fit": null,
            "object_position": null,
            "order": null,
            "overflow": null,
            "overflow_x": null,
            "overflow_y": null,
            "padding": null,
            "right": null,
            "top": null,
            "visibility": null,
            "width": null
          }
        },
        "24f4f1bbd9bf49d483dad3d23c6cd807": {
          "model_module": "@jupyter-widgets/controls",
          "model_name": "DescriptionStyleModel",
          "model_module_version": "1.5.0",
          "state": {
            "_model_module": "@jupyter-widgets/controls",
            "_model_module_version": "1.5.0",
            "_model_name": "DescriptionStyleModel",
            "_view_count": null,
            "_view_module": "@jupyter-widgets/base",
            "_view_module_version": "1.2.0",
            "_view_name": "StyleView",
            "description_width": ""
          }
        },
        "7e45e55c586642df9ca2e1772478b6f4": {
          "model_module": "@jupyter-widgets/base",
          "model_name": "LayoutModel",
          "model_module_version": "1.2.0",
          "state": {
            "_model_module": "@jupyter-widgets/base",
            "_model_module_version": "1.2.0",
            "_model_name": "LayoutModel",
            "_view_count": null,
            "_view_module": "@jupyter-widgets/base",
            "_view_module_version": "1.2.0",
            "_view_name": "LayoutView",
            "align_content": null,
            "align_items": null,
            "align_self": null,
            "border": null,
            "bottom": null,
            "display": null,
            "flex": null,
            "flex_flow": null,
            "grid_area": null,
            "grid_auto_columns": null,
            "grid_auto_flow": null,
            "grid_auto_rows": null,
            "grid_column": null,
            "grid_gap": null,
            "grid_row": null,
            "grid_template_areas": null,
            "grid_template_columns": null,
            "grid_template_rows": null,
            "height": null,
            "justify_content": null,
            "justify_items": null,
            "left": null,
            "margin": null,
            "max_height": null,
            "max_width": null,
            "min_height": null,
            "min_width": null,
            "object_fit": null,
            "object_position": null,
            "order": null,
            "overflow": null,
            "overflow_x": null,
            "overflow_y": null,
            "padding": null,
            "right": null,
            "top": null,
            "visibility": null,
            "width": null
          }
        },
        "acb173ea9a2248e892d2166156f0bd9c": {
          "model_module": "@jupyter-widgets/controls",
          "model_name": "ProgressStyleModel",
          "model_module_version": "1.5.0",
          "state": {
            "_model_module": "@jupyter-widgets/controls",
            "_model_module_version": "1.5.0",
            "_model_name": "ProgressStyleModel",
            "_view_count": null,
            "_view_module": "@jupyter-widgets/base",
            "_view_module_version": "1.2.0",
            "_view_name": "StyleView",
            "bar_color": null,
            "description_width": ""
          }
        },
        "ae6ad015632340fc9cb407ccbd654cdd": {
          "model_module": "@jupyter-widgets/base",
          "model_name": "LayoutModel",
          "model_module_version": "1.2.0",
          "state": {
            "_model_module": "@jupyter-widgets/base",
            "_model_module_version": "1.2.0",
            "_model_name": "LayoutModel",
            "_view_count": null,
            "_view_module": "@jupyter-widgets/base",
            "_view_module_version": "1.2.0",
            "_view_name": "LayoutView",
            "align_content": null,
            "align_items": null,
            "align_self": null,
            "border": null,
            "bottom": null,
            "display": null,
            "flex": null,
            "flex_flow": null,
            "grid_area": null,
            "grid_auto_columns": null,
            "grid_auto_flow": null,
            "grid_auto_rows": null,
            "grid_column": null,
            "grid_gap": null,
            "grid_row": null,
            "grid_template_areas": null,
            "grid_template_columns": null,
            "grid_template_rows": null,
            "height": null,
            "justify_content": null,
            "justify_items": null,
            "left": null,
            "margin": null,
            "max_height": null,
            "max_width": null,
            "min_height": null,
            "min_width": null,
            "object_fit": null,
            "object_position": null,
            "order": null,
            "overflow": null,
            "overflow_x": null,
            "overflow_y": null,
            "padding": null,
            "right": null,
            "top": null,
            "visibility": null,
            "width": null
          }
        },
        "855ae1174a164d44940f2d8865fd0ae3": {
          "model_module": "@jupyter-widgets/controls",
          "model_name": "DescriptionStyleModel",
          "model_module_version": "1.5.0",
          "state": {
            "_model_module": "@jupyter-widgets/controls",
            "_model_module_version": "1.5.0",
            "_model_name": "DescriptionStyleModel",
            "_view_count": null,
            "_view_module": "@jupyter-widgets/base",
            "_view_module_version": "1.2.0",
            "_view_name": "StyleView",
            "description_width": ""
          }
        },
        "7668651bc7784125837e360794c38cf2": {
          "model_module": "@jupyter-widgets/controls",
          "model_name": "HBoxModel",
          "model_module_version": "1.5.0",
          "state": {
            "_dom_classes": [],
            "_model_module": "@jupyter-widgets/controls",
            "_model_module_version": "1.5.0",
            "_model_name": "HBoxModel",
            "_view_count": null,
            "_view_module": "@jupyter-widgets/controls",
            "_view_module_version": "1.5.0",
            "_view_name": "HBoxView",
            "box_style": "",
            "children": [
              "IPY_MODEL_2b5c2ce5973f46dbbc19efd9258f9c4b",
              "IPY_MODEL_9921a27a1403487faa043ed293571ec2",
              "IPY_MODEL_2d1ca2cdb9724dc59b873bb8840b21f4"
            ],
            "layout": "IPY_MODEL_2288985c10134326a6fe8594dad8dbd5"
          }
        },
        "2b5c2ce5973f46dbbc19efd9258f9c4b": {
          "model_module": "@jupyter-widgets/controls",
          "model_name": "HTMLModel",
          "model_module_version": "1.5.0",
          "state": {
            "_dom_classes": [],
            "_model_module": "@jupyter-widgets/controls",
            "_model_module_version": "1.5.0",
            "_model_name": "HTMLModel",
            "_view_count": null,
            "_view_module": "@jupyter-widgets/controls",
            "_view_module_version": "1.5.0",
            "_view_name": "HTMLView",
            "description": "",
            "description_tooltip": null,
            "layout": "IPY_MODEL_3bb74428fa1f4e4bb5ad33f20a00d912",
            "placeholder": "​",
            "style": "IPY_MODEL_797605cb18bc4b68993fc49704e7b93e",
            "value": "spiece.model: 100%"
          }
        },
        "9921a27a1403487faa043ed293571ec2": {
          "model_module": "@jupyter-widgets/controls",
          "model_name": "FloatProgressModel",
          "model_module_version": "1.5.0",
          "state": {
            "_dom_classes": [],
            "_model_module": "@jupyter-widgets/controls",
            "_model_module_version": "1.5.0",
            "_model_name": "FloatProgressModel",
            "_view_count": null,
            "_view_module": "@jupyter-widgets/controls",
            "_view_module_version": "1.5.0",
            "_view_name": "ProgressView",
            "bar_style": "success",
            "description": "",
            "description_tooltip": null,
            "layout": "IPY_MODEL_91e1cf4623bc4fdbaa482003b8ff1a9e",
            "max": 237990,
            "min": 0,
            "orientation": "horizontal",
            "style": "IPY_MODEL_05840cf156324a1499adddb1522383ef",
            "value": 237990
          }
        },
        "2d1ca2cdb9724dc59b873bb8840b21f4": {
          "model_module": "@jupyter-widgets/controls",
          "model_name": "HTMLModel",
          "model_module_version": "1.5.0",
          "state": {
            "_dom_classes": [],
            "_model_module": "@jupyter-widgets/controls",
            "_model_module_version": "1.5.0",
            "_model_name": "HTMLModel",
            "_view_count": null,
            "_view_module": "@jupyter-widgets/controls",
            "_view_module_version": "1.5.0",
            "_view_name": "HTMLView",
            "description": "",
            "description_tooltip": null,
            "layout": "IPY_MODEL_58d4caf7f5ec48beb241e988a9ec2645",
            "placeholder": "​",
            "style": "IPY_MODEL_bd3407f190914b0c81bc1d79d088d494",
            "value": " 238k/238k [00:00&lt;00:00, 488kB/s]"
          }
        },
        "2288985c10134326a6fe8594dad8dbd5": {
          "model_module": "@jupyter-widgets/base",
          "model_name": "LayoutModel",
          "model_module_version": "1.2.0",
          "state": {
            "_model_module": "@jupyter-widgets/base",
            "_model_module_version": "1.2.0",
            "_model_name": "LayoutModel",
            "_view_count": null,
            "_view_module": "@jupyter-widgets/base",
            "_view_module_version": "1.2.0",
            "_view_name": "LayoutView",
            "align_content": null,
            "align_items": null,
            "align_self": null,
            "border": null,
            "bottom": null,
            "display": null,
            "flex": null,
            "flex_flow": null,
            "grid_area": null,
            "grid_auto_columns": null,
            "grid_auto_flow": null,
            "grid_auto_rows": null,
            "grid_column": null,
            "grid_gap": null,
            "grid_row": null,
            "grid_template_areas": null,
            "grid_template_columns": null,
            "grid_template_rows": null,
            "height": null,
            "justify_content": null,
            "justify_items": null,
            "left": null,
            "margin": null,
            "max_height": null,
            "max_width": null,
            "min_height": null,
            "min_width": null,
            "object_fit": null,
            "object_position": null,
            "order": null,
            "overflow": null,
            "overflow_x": null,
            "overflow_y": null,
            "padding": null,
            "right": null,
            "top": null,
            "visibility": null,
            "width": null
          }
        },
        "3bb74428fa1f4e4bb5ad33f20a00d912": {
          "model_module": "@jupyter-widgets/base",
          "model_name": "LayoutModel",
          "model_module_version": "1.2.0",
          "state": {
            "_model_module": "@jupyter-widgets/base",
            "_model_module_version": "1.2.0",
            "_model_name": "LayoutModel",
            "_view_count": null,
            "_view_module": "@jupyter-widgets/base",
            "_view_module_version": "1.2.0",
            "_view_name": "LayoutView",
            "align_content": null,
            "align_items": null,
            "align_self": null,
            "border": null,
            "bottom": null,
            "display": null,
            "flex": null,
            "flex_flow": null,
            "grid_area": null,
            "grid_auto_columns": null,
            "grid_auto_flow": null,
            "grid_auto_rows": null,
            "grid_column": null,
            "grid_gap": null,
            "grid_row": null,
            "grid_template_areas": null,
            "grid_template_columns": null,
            "grid_template_rows": null,
            "height": null,
            "justify_content": null,
            "justify_items": null,
            "left": null,
            "margin": null,
            "max_height": null,
            "max_width": null,
            "min_height": null,
            "min_width": null,
            "object_fit": null,
            "object_position": null,
            "order": null,
            "overflow": null,
            "overflow_x": null,
            "overflow_y": null,
            "padding": null,
            "right": null,
            "top": null,
            "visibility": null,
            "width": null
          }
        },
        "797605cb18bc4b68993fc49704e7b93e": {
          "model_module": "@jupyter-widgets/controls",
          "model_name": "DescriptionStyleModel",
          "model_module_version": "1.5.0",
          "state": {
            "_model_module": "@jupyter-widgets/controls",
            "_model_module_version": "1.5.0",
            "_model_name": "DescriptionStyleModel",
            "_view_count": null,
            "_view_module": "@jupyter-widgets/base",
            "_view_module_version": "1.2.0",
            "_view_name": "StyleView",
            "description_width": ""
          }
        },
        "91e1cf4623bc4fdbaa482003b8ff1a9e": {
          "model_module": "@jupyter-widgets/base",
          "model_name": "LayoutModel",
          "model_module_version": "1.2.0",
          "state": {
            "_model_module": "@jupyter-widgets/base",
            "_model_module_version": "1.2.0",
            "_model_name": "LayoutModel",
            "_view_count": null,
            "_view_module": "@jupyter-widgets/base",
            "_view_module_version": "1.2.0",
            "_view_name": "LayoutView",
            "align_content": null,
            "align_items": null,
            "align_self": null,
            "border": null,
            "bottom": null,
            "display": null,
            "flex": null,
            "flex_flow": null,
            "grid_area": null,
            "grid_auto_columns": null,
            "grid_auto_flow": null,
            "grid_auto_rows": null,
            "grid_column": null,
            "grid_gap": null,
            "grid_row": null,
            "grid_template_areas": null,
            "grid_template_columns": null,
            "grid_template_rows": null,
            "height": null,
            "justify_content": null,
            "justify_items": null,
            "left": null,
            "margin": null,
            "max_height": null,
            "max_width": null,
            "min_height": null,
            "min_width": null,
            "object_fit": null,
            "object_position": null,
            "order": null,
            "overflow": null,
            "overflow_x": null,
            "overflow_y": null,
            "padding": null,
            "right": null,
            "top": null,
            "visibility": null,
            "width": null
          }
        },
        "05840cf156324a1499adddb1522383ef": {
          "model_module": "@jupyter-widgets/controls",
          "model_name": "ProgressStyleModel",
          "model_module_version": "1.5.0",
          "state": {
            "_model_module": "@jupyter-widgets/controls",
            "_model_module_version": "1.5.0",
            "_model_name": "ProgressStyleModel",
            "_view_count": null,
            "_view_module": "@jupyter-widgets/base",
            "_view_module_version": "1.2.0",
            "_view_name": "StyleView",
            "bar_color": null,
            "description_width": ""
          }
        },
        "58d4caf7f5ec48beb241e988a9ec2645": {
          "model_module": "@jupyter-widgets/base",
          "model_name": "LayoutModel",
          "model_module_version": "1.2.0",
          "state": {
            "_model_module": "@jupyter-widgets/base",
            "_model_module_version": "1.2.0",
            "_model_name": "LayoutModel",
            "_view_count": null,
            "_view_module": "@jupyter-widgets/base",
            "_view_module_version": "1.2.0",
            "_view_name": "LayoutView",
            "align_content": null,
            "align_items": null,
            "align_self": null,
            "border": null,
            "bottom": null,
            "display": null,
            "flex": null,
            "flex_flow": null,
            "grid_area": null,
            "grid_auto_columns": null,
            "grid_auto_flow": null,
            "grid_auto_rows": null,
            "grid_column": null,
            "grid_gap": null,
            "grid_row": null,
            "grid_template_areas": null,
            "grid_template_columns": null,
            "grid_template_rows": null,
            "height": null,
            "justify_content": null,
            "justify_items": null,
            "left": null,
            "margin": null,
            "max_height": null,
            "max_width": null,
            "min_height": null,
            "min_width": null,
            "object_fit": null,
            "object_position": null,
            "order": null,
            "overflow": null,
            "overflow_x": null,
            "overflow_y": null,
            "padding": null,
            "right": null,
            "top": null,
            "visibility": null,
            "width": null
          }
        },
        "bd3407f190914b0c81bc1d79d088d494": {
          "model_module": "@jupyter-widgets/controls",
          "model_name": "DescriptionStyleModel",
          "model_module_version": "1.5.0",
          "state": {
            "_model_module": "@jupyter-widgets/controls",
            "_model_module_version": "1.5.0",
            "_model_name": "DescriptionStyleModel",
            "_view_count": null,
            "_view_module": "@jupyter-widgets/base",
            "_view_module_version": "1.2.0",
            "_view_name": "StyleView",
            "description_width": ""
          }
        },
        "b19209908dc34c22804071afdd416c00": {
          "model_module": "@jupyter-widgets/controls",
          "model_name": "HBoxModel",
          "model_module_version": "1.5.0",
          "state": {
            "_dom_classes": [],
            "_model_module": "@jupyter-widgets/controls",
            "_model_module_version": "1.5.0",
            "_model_name": "HBoxModel",
            "_view_count": null,
            "_view_module": "@jupyter-widgets/controls",
            "_view_module_version": "1.5.0",
            "_view_name": "HBoxView",
            "box_style": "",
            "children": [
              "IPY_MODEL_42353e1cc1034fe2bfd95f62717e66a0",
              "IPY_MODEL_d6f562159a6c43b3b5b2c9e67b98648d",
              "IPY_MODEL_7b22e4e0e53f4933bf360963630ffac3"
            ],
            "layout": "IPY_MODEL_d0972919d5f04180b5dfa50ea8ed3c88"
          }
        },
        "42353e1cc1034fe2bfd95f62717e66a0": {
          "model_module": "@jupyter-widgets/controls",
          "model_name": "HTMLModel",
          "model_module_version": "1.5.0",
          "state": {
            "_dom_classes": [],
            "_model_module": "@jupyter-widgets/controls",
            "_model_module_version": "1.5.0",
            "_model_name": "HTMLModel",
            "_view_count": null,
            "_view_module": "@jupyter-widgets/controls",
            "_view_module_version": "1.5.0",
            "_view_name": "HTMLView",
            "description": "",
            "description_tooltip": null,
            "layout": "IPY_MODEL_95a1824c448c435cbd9e84d0433d1d5d",
            "placeholder": "​",
            "style": "IPY_MODEL_3abba2ab2fe244c39dbbf971f93d2f1a",
            "value": "special_tokens_map.json: 100%"
          }
        },
        "d6f562159a6c43b3b5b2c9e67b98648d": {
          "model_module": "@jupyter-widgets/controls",
          "model_name": "FloatProgressModel",
          "model_module_version": "1.5.0",
          "state": {
            "_dom_classes": [],
            "_model_module": "@jupyter-widgets/controls",
            "_model_module_version": "1.5.0",
            "_model_name": "FloatProgressModel",
            "_view_count": null,
            "_view_module": "@jupyter-widgets/controls",
            "_view_module_version": "1.5.0",
            "_view_name": "ProgressView",
            "bar_style": "success",
            "description": "",
            "description_tooltip": null,
            "layout": "IPY_MODEL_f42f1097bb504c2b8302e0606ff720d4",
            "max": 1786,
            "min": 0,
            "orientation": "horizontal",
            "style": "IPY_MODEL_c31c04c842b34f5db2e55345f312a43f",
            "value": 1786
          }
        },
        "7b22e4e0e53f4933bf360963630ffac3": {
          "model_module": "@jupyter-widgets/controls",
          "model_name": "HTMLModel",
          "model_module_version": "1.5.0",
          "state": {
            "_dom_classes": [],
            "_model_module": "@jupyter-widgets/controls",
            "_model_module_version": "1.5.0",
            "_model_name": "HTMLModel",
            "_view_count": null,
            "_view_module": "@jupyter-widgets/controls",
            "_view_module_version": "1.5.0",
            "_view_name": "HTMLView",
            "description": "",
            "description_tooltip": null,
            "layout": "IPY_MODEL_2e6b8eacf3d1403ca0b0371d896f937d",
            "placeholder": "​",
            "style": "IPY_MODEL_59bdac062a82423d9a84e326c31e6894",
            "value": " 1.79k/1.79k [00:00&lt;00:00, 140kB/s]"
          }
        },
        "d0972919d5f04180b5dfa50ea8ed3c88": {
          "model_module": "@jupyter-widgets/base",
          "model_name": "LayoutModel",
          "model_module_version": "1.2.0",
          "state": {
            "_model_module": "@jupyter-widgets/base",
            "_model_module_version": "1.2.0",
            "_model_name": "LayoutModel",
            "_view_count": null,
            "_view_module": "@jupyter-widgets/base",
            "_view_module_version": "1.2.0",
            "_view_name": "LayoutView",
            "align_content": null,
            "align_items": null,
            "align_self": null,
            "border": null,
            "bottom": null,
            "display": null,
            "flex": null,
            "flex_flow": null,
            "grid_area": null,
            "grid_auto_columns": null,
            "grid_auto_flow": null,
            "grid_auto_rows": null,
            "grid_column": null,
            "grid_gap": null,
            "grid_row": null,
            "grid_template_areas": null,
            "grid_template_columns": null,
            "grid_template_rows": null,
            "height": null,
            "justify_content": null,
            "justify_items": null,
            "left": null,
            "margin": null,
            "max_height": null,
            "max_width": null,
            "min_height": null,
            "min_width": null,
            "object_fit": null,
            "object_position": null,
            "order": null,
            "overflow": null,
            "overflow_x": null,
            "overflow_y": null,
            "padding": null,
            "right": null,
            "top": null,
            "visibility": null,
            "width": null
          }
        },
        "95a1824c448c435cbd9e84d0433d1d5d": {
          "model_module": "@jupyter-widgets/base",
          "model_name": "LayoutModel",
          "model_module_version": "1.2.0",
          "state": {
            "_model_module": "@jupyter-widgets/base",
            "_model_module_version": "1.2.0",
            "_model_name": "LayoutModel",
            "_view_count": null,
            "_view_module": "@jupyter-widgets/base",
            "_view_module_version": "1.2.0",
            "_view_name": "LayoutView",
            "align_content": null,
            "align_items": null,
            "align_self": null,
            "border": null,
            "bottom": null,
            "display": null,
            "flex": null,
            "flex_flow": null,
            "grid_area": null,
            "grid_auto_columns": null,
            "grid_auto_flow": null,
            "grid_auto_rows": null,
            "grid_column": null,
            "grid_gap": null,
            "grid_row": null,
            "grid_template_areas": null,
            "grid_template_columns": null,
            "grid_template_rows": null,
            "height": null,
            "justify_content": null,
            "justify_items": null,
            "left": null,
            "margin": null,
            "max_height": null,
            "max_width": null,
            "min_height": null,
            "min_width": null,
            "object_fit": null,
            "object_position": null,
            "order": null,
            "overflow": null,
            "overflow_x": null,
            "overflow_y": null,
            "padding": null,
            "right": null,
            "top": null,
            "visibility": null,
            "width": null
          }
        },
        "3abba2ab2fe244c39dbbf971f93d2f1a": {
          "model_module": "@jupyter-widgets/controls",
          "model_name": "DescriptionStyleModel",
          "model_module_version": "1.5.0",
          "state": {
            "_model_module": "@jupyter-widgets/controls",
            "_model_module_version": "1.5.0",
            "_model_name": "DescriptionStyleModel",
            "_view_count": null,
            "_view_module": "@jupyter-widgets/base",
            "_view_module_version": "1.2.0",
            "_view_name": "StyleView",
            "description_width": ""
          }
        },
        "f42f1097bb504c2b8302e0606ff720d4": {
          "model_module": "@jupyter-widgets/base",
          "model_name": "LayoutModel",
          "model_module_version": "1.2.0",
          "state": {
            "_model_module": "@jupyter-widgets/base",
            "_model_module_version": "1.2.0",
            "_model_name": "LayoutModel",
            "_view_count": null,
            "_view_module": "@jupyter-widgets/base",
            "_view_module_version": "1.2.0",
            "_view_name": "LayoutView",
            "align_content": null,
            "align_items": null,
            "align_self": null,
            "border": null,
            "bottom": null,
            "display": null,
            "flex": null,
            "flex_flow": null,
            "grid_area": null,
            "grid_auto_columns": null,
            "grid_auto_flow": null,
            "grid_auto_rows": null,
            "grid_column": null,
            "grid_gap": null,
            "grid_row": null,
            "grid_template_areas": null,
            "grid_template_columns": null,
            "grid_template_rows": null,
            "height": null,
            "justify_content": null,
            "justify_items": null,
            "left": null,
            "margin": null,
            "max_height": null,
            "max_width": null,
            "min_height": null,
            "min_width": null,
            "object_fit": null,
            "object_position": null,
            "order": null,
            "overflow": null,
            "overflow_x": null,
            "overflow_y": null,
            "padding": null,
            "right": null,
            "top": null,
            "visibility": null,
            "width": null
          }
        },
        "c31c04c842b34f5db2e55345f312a43f": {
          "model_module": "@jupyter-widgets/controls",
          "model_name": "ProgressStyleModel",
          "model_module_version": "1.5.0",
          "state": {
            "_model_module": "@jupyter-widgets/controls",
            "_model_module_version": "1.5.0",
            "_model_name": "ProgressStyleModel",
            "_view_count": null,
            "_view_module": "@jupyter-widgets/base",
            "_view_module_version": "1.2.0",
            "_view_name": "StyleView",
            "bar_color": null,
            "description_width": ""
          }
        },
        "2e6b8eacf3d1403ca0b0371d896f937d": {
          "model_module": "@jupyter-widgets/base",
          "model_name": "LayoutModel",
          "model_module_version": "1.2.0",
          "state": {
            "_model_module": "@jupyter-widgets/base",
            "_model_module_version": "1.2.0",
            "_model_name": "LayoutModel",
            "_view_count": null,
            "_view_module": "@jupyter-widgets/base",
            "_view_module_version": "1.2.0",
            "_view_name": "LayoutView",
            "align_content": null,
            "align_items": null,
            "align_self": null,
            "border": null,
            "bottom": null,
            "display": null,
            "flex": null,
            "flex_flow": null,
            "grid_area": null,
            "grid_auto_columns": null,
            "grid_auto_flow": null,
            "grid_auto_rows": null,
            "grid_column": null,
            "grid_gap": null,
            "grid_row": null,
            "grid_template_areas": null,
            "grid_template_columns": null,
            "grid_template_rows": null,
            "height": null,
            "justify_content": null,
            "justify_items": null,
            "left": null,
            "margin": null,
            "max_height": null,
            "max_width": null,
            "min_height": null,
            "min_width": null,
            "object_fit": null,
            "object_position": null,
            "order": null,
            "overflow": null,
            "overflow_x": null,
            "overflow_y": null,
            "padding": null,
            "right": null,
            "top": null,
            "visibility": null,
            "width": null
          }
        },
        "59bdac062a82423d9a84e326c31e6894": {
          "model_module": "@jupyter-widgets/controls",
          "model_name": "DescriptionStyleModel",
          "model_module_version": "1.5.0",
          "state": {
            "_model_module": "@jupyter-widgets/controls",
            "_model_module_version": "1.5.0",
            "_model_name": "DescriptionStyleModel",
            "_view_count": null,
            "_view_module": "@jupyter-widgets/base",
            "_view_module_version": "1.2.0",
            "_view_name": "StyleView",
            "description_width": ""
          }
        }
      }
    }
  },
  "cells": [
    {
      "cell_type": "markdown",
      "source": [
        "# SnP EDA + Data Preparation"
      ],
      "metadata": {
        "id": "mwLOoIWGGeO1"
      }
    },
    {
      "cell_type": "markdown",
      "source": [
        "## preprocessing SnP PPI data"
      ],
      "metadata": {
        "id": "DC4QEgfYQ4lx"
      }
    },
    {
      "cell_type": "code",
      "source": [
        "from google.colab import drive\n",
        "drive.mount('/content/drive')\n",
        "import os"
      ],
      "metadata": {
        "colab": {
          "base_uri": "https://localhost:8080/"
        },
        "id": "zynLVGuVUcoX",
        "outputId": "c7dee510-63bf-40bb-ecc5-e8e934b99cfd"
      },
      "execution_count": null,
      "outputs": [
        {
          "output_type": "stream",
          "name": "stdout",
          "text": [
            "Drive already mounted at /content/drive; to attempt to forcibly remount, call drive.mount(\"/content/drive\", force_remount=True).\n"
          ]
        }
      ]
    },
    {
      "cell_type": "code",
      "source": [
        "os.chdir('/content/drive/MyDrive/Programmable Biology Group/Srikar/Code/proteins/flamingo-ppi-gen/data_dump/old_dat/')"
      ],
      "metadata": {
        "id": "5U9QcJZBGhek"
      },
      "execution_count": null,
      "outputs": []
    },
    {
      "cell_type": "code",
      "source": [
        "!ls"
      ],
      "metadata": {
        "colab": {
          "base_uri": "https://localhost:8080/"
        },
        "id": "pW16eGTAGu8W",
        "outputId": "d6339dbb-0aa0-43fe-8b05-15ef3d24f026"
      },
      "execution_count": null,
      "outputs": [
        {
          "output_type": "stream",
          "name": "stdout",
          "text": [
            "'all_species_PPIs_famdiversity_06_11_2023 (1).csv'   ppi-snp.csv\n",
            " all_species_PPIs_famdiversity_06_11_2023.csv\t     receptor_seqs_dict.pkl\n",
            " binder_seqs_dict.pkl\t\t\t\t     testing_dataset.csv\n",
            " complex.csv\t\t\t\t\t     testing_dataset.gsheet\n",
            " human-ppi-uniprot.csv\t\t\t\t     training_dataset.csv\n",
            " peptide_complex_test_dataset.csv\t\t     validation_dataset.csv\n",
            " peptide_complex_train_dataset.csv\n"
          ]
        }
      ]
    },
    {
      "cell_type": "code",
      "source": [
        "import pandas as pd"
      ],
      "metadata": {
        "id": "bvFGo4UwGxR3"
      },
      "execution_count": null,
      "outputs": []
    },
    {
      "cell_type": "code",
      "source": [
        "test_snp = pd.read_csv('testing_dataset.csv')\n",
        "train_snp = pd.read_csv('training_dataset.csv')\n",
        "val_snp = pd.read_csv('validation_dataset.csv')"
      ],
      "metadata": {
        "id": "Blr2K7MqGzLx"
      },
      "execution_count": null,
      "outputs": []
    },
    {
      "cell_type": "code",
      "source": [
        "import pandas as pd\n",
        "import re\n",
        "\n",
        "def preprocess_snp_data(file_path):\n",
        "    # Read the dataset\n",
        "    snp_df = pd.read_csv(file_path)\n",
        "\n",
        "    # Function to transform energy scores\n",
        "    def transform_energy_scores(energy_scores):\n",
        "        transformed_scores = []\n",
        "        for score in energy_scores:\n",
        "            # Replace sequences of spaces/newlines with a comma\n",
        "            score = re.sub(r'[\\s\\n]+', ',', score)\n",
        "            # Remove a comma after an opening square bracket\n",
        "            score = re.sub(r'\\[\\s*,', '[', score)\n",
        "            # Remove leading commas/whitespace\n",
        "            score = re.sub(r'^[\\s,]+', '', score)\n",
        "            transformed_scores.append(score)\n",
        "        return transformed_scores\n",
        "\n",
        "    # Apply transformations\n",
        "    snp_df['energy_scores'] = transform_energy_scores(snp_df['energy_scores'])\n",
        "    snp_df['energy_scores_lengths'] = snp_df['energy_scores'].apply(\n",
        "        lambda x: x.count(',') + 1 - (1 if x.startswith(',') else 0)\n",
        "    )\n",
        "\n",
        "    # Calculate lengths for other columns\n",
        "    snp_df['peptide_source_RCSB_lengths'] = snp_df['peptide_source_RCSB'].apply(len)\n",
        "    snp_df['protein_RCSB_lengths'] = snp_df['protein_RCSB'].apply(len)\n",
        "    snp_df['protein_derived_seq_length'] = snp_df['protein_derived_sequence'].apply(len)\n",
        "    snp_df['peptide_derived_seq_length'] = snp_df['peptide_derived_sequence'].apply(len)\n",
        "\n",
        "    # Calculate matching lengths count (optional, depending on your needs)\n",
        "    snp_df['matching_lengths_count'] = (snp_df['energy_scores_lengths'] == snp_df['peptide_derived_seq_length']).sum()\n",
        "\n",
        "    return snp_df\n",
        "\n",
        "# Applying the preprocessing pipeline to each dataset\n",
        "test_snp = preprocess_snp_data('testing_dataset.csv')\n",
        "train_snp = preprocess_snp_data('training_dataset.csv')\n",
        "val_snp = preprocess_snp_data('validation_dataset.csv')\n"
      ],
      "metadata": {
        "id": "2MCMFq5RNk0Y"
      },
      "execution_count": null,
      "outputs": []
    },
    {
      "cell_type": "code",
      "source": [
        "train_snp['protein_derived_sequence'][0]"
      ],
      "metadata": {
        "colab": {
          "base_uri": "https://localhost:8080/",
          "height": 70
        },
        "id": "g5zo7qbdPzbk",
        "outputId": "54c9a900-5d0c-49a9-930b-6e185339ca63"
      },
      "execution_count": null,
      "outputs": [
        {
          "output_type": "execute_result",
          "data": {
            "text/plain": [
              "'MKLLLFGYGNVGKAFRKLLHEKRSPELNDVIIGGIVTRRGIMLQDKEDFTPDLEGDVFKAFEKIKPDIIVDVSSANYNNGEPSLSLYKEAIKDGVNIITTNKAPLALAFNEIFSLARSKGVKIGFQGTVMSGTPSINLYRVLPGSRVIKIRGILNGTTNFILFEEALKEAQRRGYAEEDPTLDINGFDAAAKITILANFMIGNSVTIKDVKFEGIIKLIAYADEKEVWVKPLPISQDDPLYNVDGVENALEITTDIQSILIRGPGAGPVNAAYGALSDLILLKRDCL'"
            ],
            "application/vnd.google.colaboratory.intrinsic+json": {
              "type": "string"
            }
          },
          "metadata": {},
          "execution_count": 32
        }
      ]
    },
    {
      "cell_type": "markdown",
      "source": [
        "## dataset + dataloaders (includes 1-hot encoding of energy scores)"
      ],
      "metadata": {
        "id": "rHWPv3RHUKNN"
      }
    },
    {
      "cell_type": "code",
      "source": [
        "def one_hot_encode_energy_scores(scores):\n",
        "    # Assuming 'scores' is a list of energy score values\n",
        "    return [1 if score <= -1 else 0 for score in scores]"
      ],
      "metadata": {
        "id": "cbdEeD0IWU4N"
      },
      "execution_count": null,
      "outputs": []
    },
    {
      "cell_type": "code",
      "source": [
        "from torch.utils.data import DataLoader, Dataset"
      ],
      "metadata": {
        "id": "Wi6zdAfxpQ8h"
      },
      "execution_count": null,
      "outputs": []
    },
    {
      "cell_type": "code",
      "source": [
        "import re\n",
        "\n",
        "class ProteinInteractionDataset(Dataset):\n",
        "    def __init__(self, dataframe, protT5_embeddings, tokenizer):\n",
        "        self.dataframe = dataframe\n",
        "        self.protT5_embeddings = protT5_embeddings\n",
        "        self.tokenizer = tokenizer\n",
        "\n",
        "    def __len__(self):\n",
        "        return len(self.dataframe)\n",
        "\n",
        "    def __getitem__(self, idx):\n",
        "        peptide_seq = self.dataframe.iloc[idx]['peptide_derived_sequence']\n",
        "        protein_seq = self.dataframe.iloc[idx]['protein_derived_sequence']\n",
        "        energy_scores = self.dataframe.iloc[idx]['energy_scores']\n",
        "\n",
        "        # Tokenize the protein_seq\n",
        "        tokenized_protein_seq = self.tokenizer.encode(protein_seq, add_special_tokens=True, return_tensors=\"pt\").squeeze()\n",
        "\n",
        "        # Use regular expression to split the energy_scores string\n",
        "        energy_scores = re.findall(r'-?\\d+\\.?\\d*(?:e[-+]?\\d+)?', energy_scores)\n",
        "\n",
        "        # Convert the split strings to floats\n",
        "        energy_scores = [float(score) for score in energy_scores]\n",
        "\n",
        "        # One-hot encode the energy scores\n",
        "        encoded_scores = one_hot_encode_energy_scores(energy_scores)\n",
        "\n",
        "        peptide_embedding = self.protT5_embeddings[peptide_seq]\n",
        "        protein_embedding = self.protT5_embeddings[protein_seq]\n",
        "\n",
        "        return peptide_embedding, protein_embedding, torch.tensor(encoded_scores), tokenized_protein_seq\n"
      ],
      "metadata": {
        "id": "lvXdV-LnWiiA"
      },
      "execution_count": null,
      "outputs": []
    },
    {
      "cell_type": "code",
      "source": [
        "from transformers import T5Tokenizer, T5EncoderModel\n",
        "import torch\n",
        "import re\n",
        "!pip install sentencepiece\n",
        "import sentencepiece\n",
        "import torch\n",
        "from torch import nn\n",
        "from transformers import T5ForConditionalGeneration, T5Tokenizer\n",
        "from torch.utils.data import DataLoader, Dataset"
      ],
      "metadata": {
        "colab": {
          "base_uri": "https://localhost:8080/"
        },
        "id": "vfacGWrTWyVW",
        "outputId": "70e022af-520c-4f18-db10-835bea01b2a4"
      },
      "execution_count": null,
      "outputs": [
        {
          "output_type": "stream",
          "name": "stdout",
          "text": [
            "Requirement already satisfied: sentencepiece in /usr/local/lib/python3.10/dist-packages (0.1.99)\n"
          ]
        }
      ]
    },
    {
      "cell_type": "code",
      "source": [
        "\n",
        "# Load tokenizer and model\n",
        "tokenizer = T5Tokenizer.from_pretrained('Rostlab/prot_t5_xl_half_uniref50-enc', do_lower_case=False)\n",
        "model = T5EncoderModel.from_pretrained(\"Rostlab/prot_t5_xl_half_uniref50-enc\")\n",
        "device = torch.device('cuda:0' if torch.cuda.is_available() else 'cpu')\n",
        "model.to(device)\n",
        "# model = model.half() if device.type == 'cuda' else model.full()\n"
      ],
      "metadata": {
        "colab": {
          "base_uri": "https://localhost:8080/",
          "height": 1000,
          "referenced_widgets": [
            "017477f6fa0f4a65b7afbda75e357db7",
            "cea76747746f4a148d8949f1d14d2b73",
            "f3949e6592a646a8b4997a3036b1ecb0",
            "4dfbb8602a2b45d6a37e0db83bde7dda",
            "b197090ae20849e19d15a13d7a136c61",
            "33fa083a18ac45d4a15151c480b1468f",
            "767c049981be48c1b8664282c07f930f",
            "a93e643bdf484a0b9684a6ac23ef3485",
            "23f8a3c853414e00988191db891e2758",
            "5c326e58b09f459eb26243a8b26304b7",
            "28135121cd06455bb287b82277aa3b5a",
            "b2c3d337008a4a1783a4ed9daf0d107f",
            "d6f422fc7aa342a2824ac437d9c60980",
            "258751dd94f24ee0ba47a9f43f0bd8f9",
            "2f639b0f50c4400abb962e5b5fbd094e",
            "c0473c432c9a4d7780878826712b6622",
            "71cd847701454abfac0b3286debfecce",
            "21789fbbd9664b8c8db9774e006e797c",
            "99f257f2841e48018dde39cfec43a4a9",
            "1f1a99aee2174e41957c8adc814783c4",
            "faa2b75940864097ac4b5e96c4c7b321",
            "aa0f368207264ceaa232dc71016b44d9",
            "97be283687e84221be7b2b80bb7fd9c8",
            "0896a4d4a24a410eb57b73c038314aff",
            "75deb51eacac4d8cb052588a94e16b19",
            "7d688a2602e54c3e99fbc53d8f688b65",
            "425408b9a57248afb64f5fa4b07b1ef5",
            "e138338aa4214980bcd11caa2a1464eb",
            "89f2d8caf1bd49e3b26c0e534953a053",
            "0db5501c63e74e24b4494d4afa1b7376",
            "7a62d65daa0640cf9d3e6f123964cde1",
            "595ff4bc85954a54b104449fcc69ab8e",
            "066a1b1f6510420cb7c270529d0c7934",
            "b8ca233a840b406d952ebadfaa12df3e",
            "277af0b033d8482cbe6ca6c3defa1cd6",
            "5ace22ca1a5f40ffbae65e831d45ec36",
            "137fff11bdd04262a257391d18184f45",
            "defd9e20461b401ab1240e7dc91a6ad9",
            "06618812944448709ffeb481645642d1",
            "2afd3a8ff298496a8bbf835451bd5f0f",
            "ee918c7bb8594cdeb8d36769efc46222",
            "2c8b876cd8594d9ab7ee22a101442f41",
            "222a13aa8da74066b423f5f4012f9060",
            "6b7fdfe806c2407c8ced215cefb5b5c0",
            "9e889f82f794417a87ee5c3cfbe35273",
            "a735e4938c554b5ab08bb900a00be447",
            "c2356e894864438c9b175ed80dac0e46",
            "fd6c7b2ccafe44358d4e8aa5d9c9ac2b",
            "f638881edf2f423aa4d4a8e6ccc278a3",
            "972c1b5f25f740a4ba1b03d2162e3c25",
            "912e567c5bc54179af81c30add0f4985",
            "e1c56f8b97e64f359becad444c832fd1",
            "00f614413de3416c89c713340521f8ad",
            "b9b2db63323e451ea118e31279509cfe",
            "8c233adcf46f4168a8009a70fc7a976e"
          ]
        },
        "id": "bftXbDHgobnZ",
        "outputId": "2c919d53-2a9e-4cf6-b9e6-15f977223f07"
      },
      "execution_count": null,
      "outputs": [
        {
          "output_type": "display_data",
          "data": {
            "text/plain": [
              "tokenizer_config.json:   0%|          | 0.00/25.0 [00:00<?, ?B/s]"
            ],
            "application/vnd.jupyter.widget-view+json": {
              "version_major": 2,
              "version_minor": 0,
              "model_id": "017477f6fa0f4a65b7afbda75e357db7"
            }
          },
          "metadata": {}
        },
        {
          "output_type": "display_data",
          "data": {
            "text/plain": [
              "spiece.model:   0%|          | 0.00/238k [00:00<?, ?B/s]"
            ],
            "application/vnd.jupyter.widget-view+json": {
              "version_major": 2,
              "version_minor": 0,
              "model_id": "b2c3d337008a4a1783a4ed9daf0d107f"
            }
          },
          "metadata": {}
        },
        {
          "output_type": "display_data",
          "data": {
            "text/plain": [
              "special_tokens_map.json:   0%|          | 0.00/1.79k [00:00<?, ?B/s]"
            ],
            "application/vnd.jupyter.widget-view+json": {
              "version_major": 2,
              "version_minor": 0,
              "model_id": "97be283687e84221be7b2b80bb7fd9c8"
            }
          },
          "metadata": {}
        },
        {
          "output_type": "display_data",
          "data": {
            "text/plain": [
              "config.json:   0%|          | 0.00/656 [00:00<?, ?B/s]"
            ],
            "application/vnd.jupyter.widget-view+json": {
              "version_major": 2,
              "version_minor": 0,
              "model_id": "b8ca233a840b406d952ebadfaa12df3e"
            }
          },
          "metadata": {}
        },
        {
          "output_type": "stream",
          "name": "stderr",
          "text": [
            "You are using the default legacy behaviour of the <class 'transformers.models.t5.tokenization_t5.T5Tokenizer'>. This is expected, and simply means that the `legacy` (previous) behavior will be used so nothing changes for you. If you want to use the new behaviour, set `legacy=False`. This should only be set if you understand what it means, and thouroughly read the reason why this was added as explained in https://github.com/huggingface/transformers/pull/24565\n"
          ]
        },
        {
          "output_type": "display_data",
          "data": {
            "text/plain": [
              "pytorch_model.bin:   0%|          | 0.00/2.42G [00:00<?, ?B/s]"
            ],
            "application/vnd.jupyter.widget-view+json": {
              "version_major": 2,
              "version_minor": 0,
              "model_id": "9e889f82f794417a87ee5c3cfbe35273"
            }
          },
          "metadata": {}
        },
        {
          "output_type": "execute_result",
          "data": {
            "text/plain": [
              "T5EncoderModel(\n",
              "  (shared): Embedding(128, 1024)\n",
              "  (encoder): T5Stack(\n",
              "    (embed_tokens): Embedding(128, 1024)\n",
              "    (block): ModuleList(\n",
              "      (0): T5Block(\n",
              "        (layer): ModuleList(\n",
              "          (0): T5LayerSelfAttention(\n",
              "            (SelfAttention): T5Attention(\n",
              "              (q): Linear(in_features=1024, out_features=4096, bias=False)\n",
              "              (k): Linear(in_features=1024, out_features=4096, bias=False)\n",
              "              (v): Linear(in_features=1024, out_features=4096, bias=False)\n",
              "              (o): Linear(in_features=4096, out_features=1024, bias=False)\n",
              "              (relative_attention_bias): Embedding(32, 32)\n",
              "            )\n",
              "            (layer_norm): T5LayerNorm()\n",
              "            (dropout): Dropout(p=0.1, inplace=False)\n",
              "          )\n",
              "          (1): T5LayerFF(\n",
              "            (DenseReluDense): T5DenseActDense(\n",
              "              (wi): Linear(in_features=1024, out_features=16384, bias=False)\n",
              "              (wo): Linear(in_features=16384, out_features=1024, bias=False)\n",
              "              (dropout): Dropout(p=0.1, inplace=False)\n",
              "              (act): ReLU()\n",
              "            )\n",
              "            (layer_norm): T5LayerNorm()\n",
              "            (dropout): Dropout(p=0.1, inplace=False)\n",
              "          )\n",
              "        )\n",
              "      )\n",
              "      (1-23): 23 x T5Block(\n",
              "        (layer): ModuleList(\n",
              "          (0): T5LayerSelfAttention(\n",
              "            (SelfAttention): T5Attention(\n",
              "              (q): Linear(in_features=1024, out_features=4096, bias=False)\n",
              "              (k): Linear(in_features=1024, out_features=4096, bias=False)\n",
              "              (v): Linear(in_features=1024, out_features=4096, bias=False)\n",
              "              (o): Linear(in_features=4096, out_features=1024, bias=False)\n",
              "            )\n",
              "            (layer_norm): T5LayerNorm()\n",
              "            (dropout): Dropout(p=0.1, inplace=False)\n",
              "          )\n",
              "          (1): T5LayerFF(\n",
              "            (DenseReluDense): T5DenseActDense(\n",
              "              (wi): Linear(in_features=1024, out_features=16384, bias=False)\n",
              "              (wo): Linear(in_features=16384, out_features=1024, bias=False)\n",
              "              (dropout): Dropout(p=0.1, inplace=False)\n",
              "              (act): ReLU()\n",
              "            )\n",
              "            (layer_norm): T5LayerNorm()\n",
              "            (dropout): Dropout(p=0.1, inplace=False)\n",
              "          )\n",
              "        )\n",
              "      )\n",
              "    )\n",
              "    (final_layer_norm): T5LayerNorm()\n",
              "    (dropout): Dropout(p=0.1, inplace=False)\n",
              "  )\n",
              ")"
            ]
          },
          "metadata": {},
          "execution_count": 11
        }
      ]
    },
    {
      "cell_type": "code",
      "source": [
        "\n",
        "from tqdm import tqdm\n",
        "\n",
        "def generate_protT5_embeddings_tokens(sequences):\n",
        "    embeddings_dict = {}\n",
        "    tokens_dict = {}\n",
        "    # Wrap the sequence iteration with tqdm for a progress bar\n",
        "    for sequence in tqdm(sequences, desc=\"Generating...\"):\n",
        "        # Process sequence\n",
        "        processed_seq = \" \".join(list(re.sub(r\"[UZOB]\", \"X\", sequence)))\n",
        "        # Tokenize and encode\n",
        "        ids = tokenizer(processed_seq, add_special_tokens=True, return_tensors=\"pt\",padding='longest')\n",
        "        input_ids = ids['input_ids'].to(device)\n",
        "        tokens_dict[sequence] = input_ids.squeeze().tolist()\n",
        "        #print(tokens_dict[sequence])\n",
        "        # attention_mask = ids['attention_mask'].to(device)\n",
        "        # # Generate embeddings\n",
        "        # with torch.no_grad():\n",
        "        #     embedding_repr = model(input_ids=input_ids, attention_mask=attention_mask)\n",
        "        # embeddings_dict[sequence] = embedding_repr.last_hidden_state.squeeze()\n",
        "        #print(embeddings_dict[sequence])\n",
        "    return tokens_dict\n"
      ],
      "metadata": {
        "id": "xZRqpGxJELdM"
      },
      "execution_count": null,
      "outputs": []
    },
    {
      "cell_type": "code",
      "source": [
        "from torch.utils.data import DataLoader\n",
        "\n",
        "# Generate ProtT5 embeddings\n",
        "# Combine unique sequences from peptide and protein derived sequences\n",
        "unique_seqs = pd.concat([train_snp['peptide_derived_sequence'], train_snp['protein_derived_sequence'],\n",
        "                         test_snp['peptide_derived_sequence'], test_snp['protein_derived_sequence'],\n",
        "                         val_snp['peptide_derived_sequence'], val_snp['protein_derived_sequence']]).unique()\n",
        "protT5_tokens = generate_protT5_embeddings_tokens(unique_seqs)\n"
      ],
      "metadata": {
        "id": "3lIEygBuWj04",
        "colab": {
          "base_uri": "https://localhost:8080/"
        },
        "outputId": "5c3d6283-36ab-4bbb-82f8-14396b758842"
      },
      "execution_count": null,
      "outputs": [
        {
          "output_type": "stream",
          "name": "stderr",
          "text": [
            "Generating...: 100%|██████████| 56658/56658 [01:08<00:00, 829.97it/s]\n"
          ]
        }
      ]
    },
    {
      "cell_type": "code",
      "source": [
        "os.mkdir('/content/drive/MyDrive/Programmable Biology Group/Srikar/Code/proteins/flamingo-ppi-gen/data_dump/per-residue-dataset/')"
      ],
      "metadata": {
        "colab": {
          "base_uri": "https://localhost:8080/",
          "height": 210
        },
        "id": "frbMP60fDIvL",
        "outputId": "b96b4f78-2f21-4bcf-a785-b15221aaeae2"
      },
      "execution_count": null,
      "outputs": [
        {
          "output_type": "error",
          "ename": "FileExistsError",
          "evalue": "ignored",
          "traceback": [
            "\u001b[0;31m---------------------------------------------------------------------------\u001b[0m",
            "\u001b[0;31mFileExistsError\u001b[0m                           Traceback (most recent call last)",
            "\u001b[0;32m<ipython-input-21-8b8ece93a9fb>\u001b[0m in \u001b[0;36m<cell line: 1>\u001b[0;34m()\u001b[0m\n\u001b[0;32m----> 1\u001b[0;31m \u001b[0mos\u001b[0m\u001b[0;34m.\u001b[0m\u001b[0mmkdir\u001b[0m\u001b[0;34m(\u001b[0m\u001b[0;34m'/content/drive/MyDrive/Programmable Biology Group/Srikar/Code/proteins/flamingo-ppi-gen/data_dump/per-residue-dataset/'\u001b[0m\u001b[0;34m)\u001b[0m\u001b[0;34m\u001b[0m\u001b[0;34m\u001b[0m\u001b[0m\n\u001b[0m",
            "\u001b[0;31mFileExistsError\u001b[0m: [Errno 17] File exists: '/content/drive/MyDrive/Programmable Biology Group/Srikar/Code/proteins/flamingo-ppi-gen/data_dump/per-residue-dataset/'"
          ]
        }
      ]
    },
    {
      "cell_type": "code",
      "source": [
        "os.chdir('/content/drive/MyDrive/Programmable Biology Group/Srikar/Code/proteins/flamingo-ppi-gen/data_dump/per-residue-dataset/')"
      ],
      "metadata": {
        "id": "WjATBhv4qP6_"
      },
      "execution_count": null,
      "outputs": []
    },
    {
      "cell_type": "code",
      "source": [
        "import pickle"
      ],
      "metadata": {
        "id": "f5oHt2ITqzYC"
      },
      "execution_count": null,
      "outputs": []
    },
    {
      "cell_type": "code",
      "source": [
        "# file_path = 'protT5_embeddings.pkl'\n",
        "# with open(file_path, 'rb') as file:\n",
        "#     protT5_embeddings = pickle.load(file)"
      ],
      "metadata": {
        "id": "fevkqsx2qa0r"
      },
      "execution_count": null,
      "outputs": []
    },
    {
      "cell_type": "code",
      "source": [
        "\n",
        "# Create datasets with tokenizer\n",
        "train_dataset = ProteinInteractionDataset(train_snp, protT5_embeddings, tokenizer)\n",
        "test_dataset = ProteinInteractionDataset(test_snp, protT5_embeddings, tokenizer)\n",
        "val_dataset = ProteinInteractionDataset(val_snp, protT5_embeddings, tokenizer)\n",
        "\n",
        "# Create DataLoaders\n",
        "train_dataloader = DataLoader(train_dataset, batch_size=2, shuffle=True)\n",
        "test_dataloader = DataLoader(test_dataset, batch_size=2)\n",
        "val_dataloader = DataLoader(val_dataset, batch_size=2)\n",
        "\n",
        "\n"
      ],
      "metadata": {
        "id": "wjBZHQvGqOAQ"
      },
      "execution_count": null,
      "outputs": []
    },
    {
      "cell_type": "markdown",
      "source": [
        "## save as .pkl"
      ],
      "metadata": {
        "id": "RZjMKRH2jWea"
      }
    },
    {
      "cell_type": "code",
      "source": [
        "import pickle\n",
        "\n",
        "# protT5_embeddings is a dictionary of tensors\n",
        "with open('protT5_embeddings_batch1.pkl', 'wb') as f:\n",
        "    pickle.dump(protT5_embeddings, f)\n"
      ],
      "metadata": {
        "id": "J7hT8gVrjTfL",
        "colab": {
          "base_uri": "https://localhost:8080/",
          "height": 210
        },
        "outputId": "25cb1801-06fd-44d2-a535-e8015ccca086"
      },
      "execution_count": null,
      "outputs": [
        {
          "output_type": "error",
          "ename": "NameError",
          "evalue": "ignored",
          "traceback": [
            "\u001b[0;31m---------------------------------------------------------------------------\u001b[0m",
            "\u001b[0;31mNameError\u001b[0m                                 Traceback (most recent call last)",
            "\u001b[0;32m<ipython-input-16-fef538086286>\u001b[0m in \u001b[0;36m<cell line: 4>\u001b[0;34m()\u001b[0m\n\u001b[1;32m      3\u001b[0m \u001b[0;31m# protT5_embeddings is a dictionary of tensors\u001b[0m\u001b[0;34m\u001b[0m\u001b[0;34m\u001b[0m\u001b[0m\n\u001b[1;32m      4\u001b[0m \u001b[0;32mwith\u001b[0m \u001b[0mopen\u001b[0m\u001b[0;34m(\u001b[0m\u001b[0;34m'protT5_embeddings_batch1.pkl'\u001b[0m\u001b[0;34m,\u001b[0m \u001b[0;34m'wb'\u001b[0m\u001b[0;34m)\u001b[0m \u001b[0;32mas\u001b[0m \u001b[0mf\u001b[0m\u001b[0;34m:\u001b[0m\u001b[0;34m\u001b[0m\u001b[0;34m\u001b[0m\u001b[0m\n\u001b[0;32m----> 5\u001b[0;31m     \u001b[0mpickle\u001b[0m\u001b[0;34m.\u001b[0m\u001b[0mdump\u001b[0m\u001b[0;34m(\u001b[0m\u001b[0mprotT5_embeddings\u001b[0m\u001b[0;34m,\u001b[0m \u001b[0mf\u001b[0m\u001b[0;34m)\u001b[0m\u001b[0;34m\u001b[0m\u001b[0;34m\u001b[0m\u001b[0m\n\u001b[0m",
            "\u001b[0;31mNameError\u001b[0m: name 'protT5_embeddings' is not defined"
          ]
        }
      ]
    },
    {
      "cell_type": "code",
      "source": [
        "import pickle\n",
        "\n",
        "# token dict\n",
        "with open('protT5_tokens_batch2.pkl', 'wb') as f:\n",
        "    pickle.dump(protT5_tokens, f)\n"
      ],
      "metadata": {
        "id": "0zOUYAh6DTw3"
      },
      "execution_count": null,
      "outputs": []
    },
    {
      "cell_type": "code",
      "source": [
        "type(protT5_tokens)"
      ],
      "metadata": {
        "colab": {
          "base_uri": "https://localhost:8080/"
        },
        "id": "Lq4yEHNUkQx9",
        "outputId": "6e647a77-cc81-49dd-b8e6-f314d8818a02"
      },
      "execution_count": null,
      "outputs": [
        {
          "output_type": "execute_result",
          "data": {
            "text/plain": [
              "dict"
            ]
          },
          "metadata": {},
          "execution_count": 25
        }
      ]
    },
    {
      "cell_type": "code",
      "source": [
        "len('MKLLLFGYGNVGKAFRKLLHEKRSPELNDVIIGGIVTRRGIMLQDKEDFTPDLEGDVFKAFEKIKPDIIVDVSSANYNNGEPSLSLYKEAIKDGVNIITTNKAPLALAFNEIFSLARSKGVKIGFQGTVMSGTPSINLYRVLPGSRVIKIRGILNGTTNFILFEEALKEAQRRGYAEEDPTLDINGFDAAAKITILANFMIGNSVTIKDVKFEGIIKLIAYADEKEVWVKPLPISQDDPLYNVDGVENALEITTDIQSILIRGPGAGPVNAAYGALSDLILLKRDCL')"
      ],
      "metadata": {
        "colab": {
          "base_uri": "https://localhost:8080/"
        },
        "id": "H-bCIDxFQQxK",
        "outputId": "049faa0d-2f67-4ea2-a501-04432b53fd5f"
      },
      "execution_count": null,
      "outputs": [
        {
          "output_type": "execute_result",
          "data": {
            "text/plain": [
              "287"
            ]
          },
          "metadata": {},
          "execution_count": 35
        }
      ]
    },
    {
      "cell_type": "code",
      "source": [
        "# protT5_tokens['MKLLLFGYGNVGKAFRKLLHEKRSPELNDVIIGGIVTRRGIMLQDKEDFTPDLEGDVFKAFEKIKPDIIVDVSSANYNNGEPSLSLYKEAIKDGVNIITTNKAPLALAFNEIFSLARSKGVKIGFQGTVMSGTPSINLYRVLPGSRVIKIRGILNGTTNFILFEEALKEAQRRGYAEEDPTLDINGFDAAAKITILANFMIGNSVTIKDVKFEGIIKLIAYADEKEVWVKPLPISQDDPLYNVDGVENALEITTDIQSILIRGPGAGPVNAAYGALSDLILLKRDCL']"
      ],
      "metadata": {
        "id": "uhiKcbEePXBj"
      },
      "execution_count": null,
      "outputs": []
    },
    {
      "cell_type": "code",
      "source": [
        "# 19 = M"
      ],
      "metadata": {
        "id": "-gEcQ3yTQs2u"
      },
      "execution_count": null,
      "outputs": []
    },
    {
      "cell_type": "code",
      "source": [
        "# Save the datasets\n",
        "with open('train_dataset.pkl', 'wb') as f:\n",
        "    pickle.dump(train_dataset, f)\n",
        "\n",
        "with open('test_dataset.pkl', 'wb') as f:\n",
        "    pickle.dump(test_dataset, f)\n",
        "\n",
        "with open('val_dataset.pkl', 'wb') as f:\n",
        "    pickle.dump(val_dataset, f)"
      ],
      "metadata": {
        "id": "1QNPQKyfjYTz"
      },
      "execution_count": null,
      "outputs": []
    },
    {
      "cell_type": "markdown",
      "source": [
        "# Reload Data"
      ],
      "metadata": {
        "id": "qTIHQLGqMbzo"
      }
    },
    {
      "cell_type": "code",
      "source": [
        "from google.colab import drive\n",
        "drive.mount('/content/drive')\n",
        "import os"
      ],
      "metadata": {
        "colab": {
          "base_uri": "https://localhost:8080/"
        },
        "id": "RgRuef6LV4vX",
        "outputId": "9c590aed-6c5c-4bba-ab33-9a70ba6a7759"
      },
      "execution_count": null,
      "outputs": [
        {
          "output_type": "stream",
          "name": "stdout",
          "text": [
            "Drive already mounted at /content/drive; to attempt to forcibly remount, call drive.mount(\"/content/drive\", force_remount=True).\n"
          ]
        }
      ]
    },
    {
      "cell_type": "code",
      "source": [
        "os.chdir('/content/drive/MyDrive/Programmable Biology Group/Srikar/Code/proteins/flamingo-ppi-gen/data_dump/flamingo-26-data/')"
      ],
      "metadata": {
        "id": "yYWpzJvuVjAT"
      },
      "execution_count": null,
      "outputs": []
    },
    {
      "cell_type": "code",
      "source": [
        "from transformers import T5Tokenizer, T5EncoderModel\n",
        "import torch\n",
        "import re\n",
        "!pip install sentencepiece\n",
        "import sentencepiece\n",
        "import torch\n",
        "from torch import nn\n",
        "from transformers import T5ForConditionalGeneration, T5Tokenizer\n",
        "from torch.utils.data import DataLoader, Dataset\n",
        "from transformers import AutoModel, AutoTokenizer"
      ],
      "metadata": {
        "colab": {
          "base_uri": "https://localhost:8080/"
        },
        "id": "pk-fPZIoV_ou",
        "outputId": "54f549f5-0897-4018-db53-2649c20490c0"
      },
      "execution_count": null,
      "outputs": [
        {
          "output_type": "stream",
          "name": "stdout",
          "text": [
            "Requirement already satisfied: sentencepiece in /usr/local/lib/python3.10/dist-packages (0.1.99)\n"
          ]
        }
      ]
    },
    {
      "cell_type": "code",
      "source": [
        "def one_hot_encode_energy_scores(scores):\n",
        "    # Assuming 'scores' is a list of energy score values\n",
        "    return [1 if score <= -1 else 0 for score in scores]"
      ],
      "metadata": {
        "id": "uAwYbJiBNtAp"
      },
      "execution_count": null,
      "outputs": []
    },
    {
      "cell_type": "code",
      "source": [
        "from torch.utils.data import Dataset\n",
        "import pickle"
      ],
      "metadata": {
        "id": "xNIkI2LXN154"
      },
      "execution_count": null,
      "outputs": []
    },
    {
      "cell_type": "code",
      "source": [
        "import re\n",
        "\n",
        "class ProteinInteractionDataset(Dataset):\n",
        "    def __init__(self, dataframe, protT5_embeddings, tokenizer):\n",
        "        self.dataframe = dataframe\n",
        "        self.protT5_embeddings = protT5_embeddings\n",
        "        self.tokenizer = tokenizer\n",
        "\n",
        "    def __len__(self):\n",
        "        return len(self.dataframe)\n",
        "\n",
        "    def __getitem__(self, idx):\n",
        "        peptide_seq = self.dataframe.iloc[idx]['peptide_derived_sequence']\n",
        "        protein_seq = self.dataframe.iloc[idx]['protein_derived_sequence']\n",
        "        energy_scores = self.dataframe.iloc[idx]['energy_scores']\n",
        "\n",
        "        # Tokenize the protein_seq\n",
        "        tokenized_protein_seq = self.tokenizer(protein_seq, add_special_tokens=True, return_tensors=\"pt\", padding=\"longest\")\n",
        "        #print(tokenizer)\n",
        "        #tokenizer(sequence_examples, add_special_tokens=True, padding=\"longest\")\n",
        "        print(tokenized_protein_seq)\n",
        "        print(protein_seq)\n",
        "\n",
        "        # Use regular expression to split the energy_scores string\n",
        "        energy_scores = re.findall(r'-?\\d+\\.?\\d*(?:e[-+]?\\d+)?', energy_scores)\n",
        "\n",
        "        # Convert the split strings to floats\n",
        "        energy_scores = [float(score) for score in energy_scores]\n",
        "\n",
        "        # One-hot encode the energy scores\n",
        "        encoded_scores = one_hot_encode_energy_scores(energy_scores)\n",
        "\n",
        "        peptide_embedding = self.protT5_embeddings[peptide_seq]\n",
        "        protein_embedding = self.protT5_embeddings[protein_seq]\n",
        "\n",
        "        return peptide_embedding, protein_embedding, torch.tensor(encoded_scores), tokenized_protein_seq\n"
      ],
      "metadata": {
        "id": "MnDIF_rxNv7z"
      },
      "execution_count": null,
      "outputs": []
    },
    {
      "cell_type": "code",
      "source": [
        "from torch.nn.functional import pad\n",
        "\n",
        "def collate_fn(batch):\n",
        "    max_length_embeddings = max(max(prot1_emb.size(0), prot2_emb.size(0)) for prot1_emb, prot2_emb, _, _ in batch)\n",
        "    max_length_tokenized = max(tok_seq.size(0) for _, _, _, tok_seq in batch)\n",
        "\n",
        "    print(\"Max length for embeddings:\", max_length_embeddings)\n",
        "    print(\"Max length for tokenized sequences:\", max_length_tokenized)\n",
        "\n",
        "    prot1_embeddings_padded = []\n",
        "    prot2_embeddings_padded = []\n",
        "    one_hot_scores_padded_list = []\n",
        "    tokenized_seqs_padded = []\n",
        "\n",
        "    for prot1_emb, prot2_emb, one_hot_scores, tok_seq in batch:\n",
        "        print(\"Original sizes:\", prot1_emb.size(), prot2_emb.size(), one_hot_scores.size(), tok_seq.size())\n",
        "\n",
        "        prot1_emb_padded = pad(prot1_emb, (0, max_length_embeddings - prot1_emb.size(0)), \"constant\", 0)\n",
        "        prot2_emb_padded = pad(prot2_emb, (0, max_length_embeddings - prot2_emb.size(0)), \"constant\", 0)\n",
        "\n",
        "        if one_hot_scores.nelement() != 0:\n",
        "            one_hot_scores_padded = pad(one_hot_scores, (0, max_length_embeddings - one_hot_scores.size(0)), \"constant\", 0)\n",
        "        else:\n",
        "            one_hot_scores_padded = one_hot_scores\n",
        "\n",
        "        tok_seq_padded = pad(tok_seq, (0, max_length_tokenized - tok_seq.size(0)), \"constant\", 0)\n",
        "\n",
        "        print(\"Padded sizes:\", prot1_emb_padded.size(), prot2_emb_padded.size(), one_hot_scores_padded.size(), tok_seq_padded.size())\n",
        "\n",
        "        prot1_embeddings_padded.append(prot1_emb_padded)\n",
        "        prot2_embeddings_padded.append(prot2_emb_padded)\n",
        "        one_hot_scores_padded_list.append(one_hot_scores_padded)\n",
        "        tokenized_seqs_padded.append(tok_seq_padded)\n",
        "\n",
        "    return torch.stack(prot1_embeddings_padded), torch.stack(prot2_embeddings_padded), torch.stack(one_hot_scores_padded_list), torch.stack(tokenized_seqs_padded)\n"
      ],
      "metadata": {
        "id": "ZeEG_GoRjjZe"
      },
      "execution_count": null,
      "outputs": []
    },
    {
      "cell_type": "code",
      "source": [
        "# Load the protT5_tokens dictionary\n",
        "with open('protT5_tokens.pkl', 'rb') as file:\n",
        "    protT5_tokens = pickle.load(file)"
      ],
      "metadata": {
        "id": "IpAVMrBxY5WU"
      },
      "execution_count": null,
      "outputs": []
    },
    {
      "cell_type": "code",
      "source": [
        "len(protT5_tokens)"
      ],
      "metadata": {
        "colab": {
          "base_uri": "https://localhost:8080/"
        },
        "id": "pMvVZSZ5Y7Lt",
        "outputId": "b648896d-d91b-4c9e-8ee8-b7ab264a3f67"
      },
      "execution_count": null,
      "outputs": [
        {
          "output_type": "execute_result",
          "data": {
            "text/plain": [
              "56658"
            ]
          },
          "metadata": {},
          "execution_count": 22
        }
      ]
    },
    {
      "cell_type": "code",
      "source": [
        "# Load tokenizer and model\n",
        "tokenizer = T5Tokenizer.from_pretrained('Rostlab/prot_t5_xl_half_uniref50-enc', do_lower_case=False)\n",
        "model = T5EncoderModel.from_pretrained(\"Rostlab/prot_t5_xl_half_uniref50-enc\")\n",
        "device = torch.device('cuda:0' if torch.cuda.is_available() else 'cpu')\n",
        "model.to(device)\n",
        "model = model.half() if device.type == 'cuda' else model.full()\n",
        "\n",
        "from tqdm import tqdm"
      ],
      "metadata": {
        "id": "2brgQ9ITtVxK",
        "colab": {
          "base_uri": "https://localhost:8080/"
        },
        "outputId": "d665380c-4329-43fc-b7d0-23a7e3fa45ee"
      },
      "execution_count": null,
      "outputs": [
        {
          "output_type": "stream",
          "name": "stderr",
          "text": [
            "You are using the default legacy behaviour of the <class 'transformers.models.t5.tokenization_t5.T5Tokenizer'>. This is expected, and simply means that the `legacy` (previous) behavior will be used so nothing changes for you. If you want to use the new behaviour, set `legacy=False`. This should only be set if you understand what it means, and thouroughly read the reason why this was added as explained in https://github.com/huggingface/transformers/pull/24565\n"
          ]
        }
      ]
    },
    {
      "cell_type": "code",
      "source": [
        "import pickle\n",
        "# Load the datasets\n",
        "with open('train_dataset.pkl', 'rb') as f:\n",
        "    train_dataset = pickle.load(f)\n",
        "\n",
        "with open('test_dataset.pkl', 'rb') as f:\n",
        "    test_dataset = pickle.load(f)\n",
        "\n",
        "with open('val_dataset.pkl', 'rb') as f:\n",
        "    val_dataset = pickle.load(f)\n",
        "\n",
        "# Assuming these are the batch sizes you want to use\n",
        "train_batch_size = 2\n",
        "test_batch_size = 2\n",
        "val_batch_size = 2\n"
      ],
      "metadata": {
        "id": "rNN3etLkMeJy"
      },
      "execution_count": null,
      "outputs": []
    },
    {
      "cell_type": "code",
      "source": [
        "with open('test_dataset.pkl', 'rb') as f:\n",
        "    test_dataset = pickle.load(f)"
      ],
      "metadata": {
        "id": "ncHuCoVkBww_"
      },
      "execution_count": null,
      "outputs": []
    },
    {
      "cell_type": "code",
      "source": [
        "train_dataset[0]"
      ],
      "metadata": {
        "colab": {
          "base_uri": "https://localhost:8080/"
        },
        "id": "s8dnNszHYZ7d",
        "outputId": "aa0eb344-1ad9-4e64-e322-a37c1ea68048"
      },
      "execution_count": null,
      "outputs": [
        {
          "output_type": "stream",
          "name": "stdout",
          "text": [
            "{'input_ids': tensor([[2, 1]]), 'attention_mask': tensor([[1, 1]])}\n",
            "MKLLLFGYGNVGKAFRKLLHEKRSPELNDVIIGGIVTRRGIMLQDKEDFTPDLEGDVFKAFEKIKPDIIVDVSSANYNNGEPSLSLYKEAIKDGVNIITTNKAPLALAFNEIFSLARSKGVKIGFQGTVMSGTPSINLYRVLPGSRVIKIRGILNGTTNFILFEEALKEAQRRGYAEEDPTLDINGFDAAAKITILANFMIGNSVTIKDVKFEGIIKLIAYADEKEVWVKPLPISQDDPLYNVDGVENALEITTDIQSILIRGPGAGPVNAAYGALSDLILLKRDCL\n"
          ]
        },
        {
          "output_type": "execute_result",
          "data": {
            "text/plain": [
              "(tensor([ 0.0517, -0.0203,  0.0323,  ..., -0.0052,  0.0547,  0.0482],\n",
              "        device='cuda:0', dtype=torch.float16),\n",
              " tensor([ 0.0432, -0.0195,  0.0399,  ...,  0.0008,  0.0552,  0.0399],\n",
              "        device='cuda:0', dtype=torch.float16),\n",
              " tensor([0, 0, 0, 0, 0, 0, 0, 0, 0, 0, 0, 0, 0, 1, 1, 1, 1, 1, 1, 1, 1, 1, 1, 1,\n",
              "         1, 1, 1, 1, 1, 1, 1, 0, 0, 0, 0, 0, 0, 0, 0, 0, 0, 0, 0, 0, 0, 0, 0, 0,\n",
              "         0, 0, 0, 0, 0, 0, 0, 0, 0, 0, 0, 0, 0, 0, 0, 0, 0, 0, 0, 0, 0, 0, 0, 0,\n",
              "         0, 0, 0, 0, 0, 0, 0, 0, 0, 0, 0, 0, 0, 0, 0, 0, 0, 0, 0, 0, 0, 0, 0, 0,\n",
              "         0, 0, 0, 0, 0, 0, 0, 0, 0, 0, 0, 0, 0, 0, 0, 0, 0, 0, 0, 0, 0, 0, 0, 0,\n",
              "         0, 0, 0, 0, 1, 1, 1, 1, 1, 1, 1, 1, 1, 1, 1, 1, 1, 1, 1, 1, 1, 1, 1, 1,\n",
              "         1, 1, 1, 1, 1, 1, 1, 0, 0, 0, 0, 0, 0, 0, 0, 0, 0, 0, 0, 0, 0, 0, 0, 0,\n",
              "         0, 0, 0, 0, 0, 0, 0, 0, 0, 0, 0, 0, 0, 0, 0, 0, 0, 0, 0, 0, 0, 0, 0, 0,\n",
              "         0, 0, 0, 0, 0, 0, 0, 0, 0, 0, 0, 0, 0, 0, 0, 0, 0, 0, 0, 0, 0, 0, 0, 0,\n",
              "         0, 0, 0, 0, 0, 0, 0, 0, 0, 0, 0, 0, 0, 0, 0, 0, 0, 0, 0, 0, 0, 0, 0, 0,\n",
              "         0, 0, 0, 0, 0, 0, 0, 0, 0, 0, 0, 1, 1, 1, 1, 1, 1, 1, 1, 1, 1, 1, 1, 1,\n",
              "         1, 1, 1, 1, 1, 1, 1, 1, 1, 1, 1, 1, 1, 1, 1, 1, 1, 1, 1, 1, 1, 1, 1, 1,\n",
              "         1, 1, 1, 1, 1, 1, 1, 1, 1, 0, 0, 0]),\n",
              " {'input_ids': tensor([[2, 1]]), 'attention_mask': tensor([[1, 1]])})"
            ]
          },
          "metadata": {},
          "execution_count": 30
        }
      ]
    },
    {
      "cell_type": "code",
      "source": [
        "import re\n",
        "import torch\n",
        "import pickle\n",
        "from torch.utils.data import Dataset\n",
        "\n",
        "class ProteinInteractionDataset(Dataset):\n",
        "    def __init__(self, dataframe, protT5_embeddings):\n",
        "        self.dataframe = dataframe\n",
        "        self.protT5_embeddings = protT5_embeddings\n",
        "        # Load the protT5_tokens dictionary\n",
        "        self.protT5_tokens = protT5_tokens\n",
        "\n",
        "    def __len__(self):\n",
        "        return len(self.dataframe)\n",
        "\n",
        "    def __getitem__(self, idx):\n",
        "        peptide_seq = self.dataframe.iloc[idx]['peptide_derived_sequence']\n",
        "        protein_seq = self.dataframe.iloc[idx]['protein_derived_sequence']\n",
        "        energy_scores = self.dataframe.iloc[idx]['energy_scores']\n",
        "\n",
        "        # Fetch the tokenized sequence from the dictionary\n",
        "        tokenized_peptide_seq = self.protT5_tokens[peptide_seq]\n",
        "\n",
        "        # Use regular expression to split the energy_scores string\n",
        "        energy_scores = re.findall(r'-?\\d+\\.?\\d*(?:e[-+]?\\d+)?', energy_scores)\n",
        "\n",
        "        # Convert the split strings to floats\n",
        "        energy_scores = [float(score) for score in energy_scores]\n",
        "\n",
        "        # One-hot encode the energy scores (assuming this function is defined elsewhere)\n",
        "        encoded_scores = one_hot_encode_energy_scores(energy_scores)\n",
        "\n",
        "        peptide_embedding = self.protT5_embeddings[peptide_seq]\n",
        "        protein_embedding = self.protT5_embeddings[protein_seq]\n",
        "\n",
        "        # Convert tokenized_protein_seq to a tensor\n",
        "        tokenized_peptide_seq_tensor = torch.tensor(tokenized_peptide_seq, dtype=torch.float16)\n",
        "\n",
        "        return peptide_embedding, protein_embedding, torch.tensor(encoded_scores), tokenized_peptide_seq_tensor\n"
      ],
      "metadata": {
        "id": "0o_Oh31WYL5d"
      },
      "execution_count": null,
      "outputs": []
    },
    {
      "cell_type": "code",
      "source": [
        "from torch.nn.functional import pad\n",
        "\n",
        "def collate_fn(batch):\n",
        "    max_length_embeddings = max(max(prot1_emb.size(0), prot2_emb.size(0)) for prot1_emb, prot2_emb, _, _ in batch)\n",
        "    max_length_tokenized = max(tok_seq.size(0) for _, _, _, tok_seq in batch)\n",
        "\n",
        "    prot1_embeddings_padded = []\n",
        "    prot2_embeddings_padded = []\n",
        "    one_hot_scores_padded_list = []\n",
        "    tokenized_seqs_padded = []\n",
        "\n",
        "    for prot1_emb, prot2_emb, one_hot_scores, tok_seq in batch:\n",
        "        prot1_emb_padded = pad(prot1_emb, (0, max_length_embeddings - prot1_emb.size(0)), \"constant\", 0)\n",
        "        prot2_emb_padded = pad(prot2_emb, (0, max_length_embeddings - prot2_emb.size(0)), \"constant\", 0)\n",
        "\n",
        "        if one_hot_scores.nelement() != 0:\n",
        "            one_hot_scores_padded = pad(one_hot_scores, (0, max_length_embeddings - one_hot_scores.size(0)), \"constant\", 0)\n",
        "        else:\n",
        "            one_hot_scores_padded = one_hot_scores\n",
        "\n",
        "        tok_seq_padded = pad(tok_seq, (0, max_length_tokenized - tok_seq.size(0)), \"constant\", 0)\n",
        "\n",
        "        prot1_embeddings_padded.append(prot1_emb_padded)\n",
        "        prot2_embeddings_padded.append(prot2_emb_padded)\n",
        "        one_hot_scores_padded_list.append(one_hot_scores_padded)\n",
        "        tokenized_seqs_padded.append(tok_seq_padded)\n",
        "\n",
        "    return torch.stack(prot1_embeddings_padded), torch.stack(prot2_embeddings_padded), torch.stack(one_hot_scores_padded_list), torch.stack(tokenized_seqs_padded)\n"
      ],
      "metadata": {
        "id": "R6YCvs-cYR0h"
      },
      "execution_count": null,
      "outputs": []
    },
    {
      "cell_type": "code",
      "source": [
        "with open('protT5_embeddings.pkl', 'rb') as file:\n",
        "    protT5_embeddings = pickle.load(file)"
      ],
      "metadata": {
        "id": "4-zJmkj8akNB"
      },
      "execution_count": null,
      "outputs": []
    },
    {
      "cell_type": "markdown",
      "source": [
        "## preprocessing SnP PPI data"
      ],
      "metadata": {
        "id": "d-lsBPOsakWM"
      }
    },
    {
      "cell_type": "code",
      "source": [
        "os.chdir('/content/drive/MyDrive/Programmable Biology Group/Srikar/Code/proteins/flamingo-ppi-gen/data_dump/old_dat/')"
      ],
      "metadata": {
        "id": "6ZU_o2feakWN"
      },
      "execution_count": null,
      "outputs": []
    },
    {
      "cell_type": "code",
      "source": [
        "!ls"
      ],
      "metadata": {
        "colab": {
          "base_uri": "https://localhost:8080/"
        },
        "outputId": "2494d63c-0b7a-4c27-d0d3-c1840989a936",
        "id": "IcIKO1k-akWN"
      },
      "execution_count": null,
      "outputs": [
        {
          "output_type": "stream",
          "name": "stdout",
          "text": [
            "'all_species_PPIs_famdiversity_06_11_2023 (1).csv'   ppi-snp.csv\n",
            " all_species_PPIs_famdiversity_06_11_2023.csv\t     receptor_seqs_dict.pkl\n",
            " binder_seqs_dict.pkl\t\t\t\t     testing_dataset.csv\n",
            " complex.csv\t\t\t\t\t     testing_dataset.gsheet\n",
            " human-ppi-uniprot.csv\t\t\t\t     training_dataset.csv\n",
            " peptide_complex_test_dataset.csv\t\t     validation_dataset.csv\n",
            " peptide_complex_train_dataset.csv\n"
          ]
        }
      ]
    },
    {
      "cell_type": "code",
      "source": [
        "import pandas as pd"
      ],
      "metadata": {
        "id": "3wp_ZnN-akWO"
      },
      "execution_count": null,
      "outputs": []
    },
    {
      "cell_type": "code",
      "source": [
        "test_snp = pd.read_csv('testing_dataset.csv')\n",
        "train_snp = pd.read_csv('training_dataset.csv')\n",
        "val_snp = pd.read_csv('validation_dataset.csv')"
      ],
      "metadata": {
        "id": "-8iGKGCNakWO"
      },
      "execution_count": null,
      "outputs": []
    },
    {
      "cell_type": "code",
      "source": [
        "import pandas as pd\n",
        "import re\n",
        "\n",
        "def preprocess_snp_data(file_path):\n",
        "    # Read the dataset\n",
        "    snp_df = pd.read_csv(file_path)\n",
        "\n",
        "    # Function to transform energy scores\n",
        "    def transform_energy_scores(energy_scores):\n",
        "        transformed_scores = []\n",
        "        for score in energy_scores:\n",
        "            # Replace sequences of spaces/newlines with a comma\n",
        "            score = re.sub(r'[\\s\\n]+', ',', score)\n",
        "            # Remove a comma after an opening square bracket\n",
        "            score = re.sub(r'\\[\\s*,', '[', score)\n",
        "            # Remove leading commas/whitespace\n",
        "            score = re.sub(r'^[\\s,]+', '', score)\n",
        "            transformed_scores.append(score)\n",
        "        return transformed_scores\n",
        "\n",
        "    # Apply transformations\n",
        "    snp_df['energy_scores'] = transform_energy_scores(snp_df['energy_scores'])\n",
        "    snp_df['energy_scores_lengths'] = snp_df['energy_scores'].apply(\n",
        "        lambda x: x.count(',') + 1 - (1 if x.startswith(',') else 0)\n",
        "    )\n",
        "\n",
        "    # Calculate lengths for other columns\n",
        "    snp_df['peptide_source_RCSB_lengths'] = snp_df['peptide_source_RCSB'].apply(len)\n",
        "    snp_df['protein_RCSB_lengths'] = snp_df['protein_RCSB'].apply(len)\n",
        "    snp_df['protein_derived_seq_length'] = snp_df['protein_derived_sequence'].apply(len)\n",
        "    snp_df['peptide_derived_seq_length'] = snp_df['peptide_derived_sequence'].apply(len)\n",
        "\n",
        "    # Calculate matching lengths count (optional, depending on your needs)\n",
        "    snp_df['matching_lengths_count'] = (snp_df['energy_scores_lengths'] == snp_df['peptide_derived_seq_length']).sum()\n",
        "\n",
        "    return snp_df\n",
        "\n",
        "# Applying the preprocessing pipeline to each dataset\n",
        "test_snp = preprocess_snp_data('testing_dataset.csv')\n",
        "train_snp = preprocess_snp_data('training_dataset.csv')\n",
        "val_snp = preprocess_snp_data('validation_dataset.csv')\n"
      ],
      "metadata": {
        "id": "jAPH4kHmakWO"
      },
      "execution_count": null,
      "outputs": []
    },
    {
      "cell_type": "code",
      "source": [
        "train_snp['protein_derived_sequence'][0]"
      ],
      "metadata": {
        "colab": {
          "base_uri": "https://localhost:8080/",
          "height": 70
        },
        "outputId": "d791453e-fd7b-460c-d7cd-841e809841ec",
        "id": "SOB7DZb8akWP"
      },
      "execution_count": null,
      "outputs": [
        {
          "output_type": "execute_result",
          "data": {
            "text/plain": [
              "'MKLLLFGYGNVGKAFRKLLHEKRSPELNDVIIGGIVTRRGIMLQDKEDFTPDLEGDVFKAFEKIKPDIIVDVSSANYNNGEPSLSLYKEAIKDGVNIITTNKAPLALAFNEIFSLARSKGVKIGFQGTVMSGTPSINLYRVLPGSRVIKIRGILNGTTNFILFEEALKEAQRRGYAEEDPTLDINGFDAAAKITILANFMIGNSVTIKDVKFEGIIKLIAYADEKEVWVKPLPISQDDPLYNVDGVENALEITTDIQSILIRGPGAGPVNAAYGALSDLILLKRDCL'"
            ],
            "application/vnd.google.colaboratory.intrinsic+json": {
              "type": "string"
            }
          },
          "metadata": {},
          "execution_count": 39
        }
      ]
    },
    {
      "cell_type": "markdown",
      "source": [
        "## create the *datasets*"
      ],
      "metadata": {
        "id": "u8bPwSMianK8"
      }
    },
    {
      "cell_type": "code",
      "source": [
        "# Create datasets with tokenizer\n",
        "train_dataset = ProteinInteractionDataset(train_snp, protT5_embeddings)\n",
        "test_dataset = ProteinInteractionDataset(test_snp, protT5_embeddings)\n",
        "val_dataset = ProteinInteractionDataset(val_snp, protT5_embeddings)\n"
      ],
      "metadata": {
        "id": "usQVlf2NaaUa"
      },
      "execution_count": null,
      "outputs": []
    },
    {
      "cell_type": "code",
      "source": [
        "test_dataset[0]"
      ],
      "metadata": {
        "colab": {
          "base_uri": "https://localhost:8080/"
        },
        "id": "cbDYilcbbLdY",
        "outputId": "3d773b5a-b0b0-4c0d-b5ed-4e8909c86898"
      },
      "execution_count": null,
      "outputs": [
        {
          "output_type": "execute_result",
          "data": {
            "text/plain": [
              "(tensor([ 0.0381,  0.1509,  0.0283,  ..., -0.0649,  0.0178,  0.0540],\n",
              "        device='cuda:0', dtype=torch.float16),\n",
              " tensor([-0.0124,  0.0735, -0.0100,  ...,  0.0612,  0.0361, -0.0105],\n",
              "        device='cuda:0', dtype=torch.float16),\n",
              " tensor([0, 1, 1, 1, 1, 1, 1, 1, 1, 1, 1, 1, 1, 1, 1, 1, 1, 1, 1, 1, 1, 1, 1, 1,\n",
              "         1, 1, 1, 1, 1, 1, 1, 1, 1, 1, 1, 1, 1, 1, 1, 1, 1, 0, 0, 0, 0, 0, 0, 0,\n",
              "         0, 0, 0, 0, 0, 0, 0, 0, 0, 0, 0, 0, 0, 0, 0, 0, 0, 0, 0, 0, 0, 0, 0, 0,\n",
              "         0, 0, 0, 0, 0, 0, 0, 0, 0, 0, 0, 0, 1, 1, 1, 1, 1, 1, 1, 1, 1, 1, 1, 1,\n",
              "         1, 1, 1, 1, 1, 1, 1, 1, 1, 0, 0, 0, 0, 0, 1, 1, 1, 1, 1, 1, 1, 1, 1, 1,\n",
              "         1, 1, 1, 1, 1, 1, 1, 0, 0, 0, 0, 0, 0, 0, 0, 0, 0, 0, 0, 0, 0, 0, 0, 0,\n",
              "         0, 0, 0, 0, 0, 0, 0, 0, 0, 0, 0, 0, 0, 0, 0, 0, 0, 0, 0, 0, 0, 0, 0, 0,\n",
              "         0, 0, 0, 0, 0, 0, 0, 0, 0, 0, 0, 0, 0, 0, 0, 0, 0, 0, 0, 0, 0, 0, 0, 0,\n",
              "         0, 0, 0, 1, 1, 1, 1, 1, 1, 1, 1, 1, 1, 1, 1, 1, 1, 1, 1, 0, 0, 0, 0, 0,\n",
              "         0, 0, 0, 0, 0, 0, 0, 0, 1, 1, 1, 1, 1, 1, 1, 1, 1, 1, 1, 1, 1, 1, 1, 1,\n",
              "         1, 1, 1, 1, 1, 1, 1, 1, 1, 1, 1, 0, 0, 0, 0, 0, 0, 0, 0, 0, 0, 0, 0, 0,\n",
              "         0, 0, 0, 0, 0, 0, 0, 0, 0, 0]),\n",
              " tensor([ 5,  7, 20,  7, 19,  8, 18, 15,  7, 11,  7,  6,  7,  8, 13,  5,  8,  5,\n",
              "          9, 13,  8, 15, 12,  3,  6,  5, 18,  6, 10, 10, 11, 16, 15,  6,  8, 15,\n",
              "         10,  7, 10,  3,  3,  7, 16,  8, 19,  9, 13,  8,  3, 13, 21, 12,  9, 16,\n",
              "          9,  5, 13,  9, 18, 21, 10,  9,  9, 11,  5, 14,  6, 14,  3, 20,  7, 16,\n",
              "         11, 10,  8,  9, 17,  4,  8, 12,  3,  4,  8, 18, 18, 17, 16,  7,  9,  3,\n",
              "          5,  7, 20, 11,  4, 16, 19, 19, 15,  5, 22, 10,  6,  5,  7, 10,  5,  8,\n",
              "         15,  4,  8,  5, 18, 20, 16, 18,  3, 18, 10,  5, 14, 10, 18, 12,  3,  4,\n",
              "         14,  9, 10,  4,  8,  7, 21, 11,  3,  3, 10, 19,  3,  3, 16, 12, 11, 14,\n",
              "          8, 14, 21,  9,  3,  3, 20,  6,  3,  9, 16, 16,  8,  3, 18,  4,  9,  5,\n",
              "         11, 22,  6, 10,  5,  4,  8,  8, 18,  4,  9, 17,  5, 14,  9, 11,  4, 16,\n",
              "          8, 11, 10, 13, 13, 14, 11, 20, 19, 11, 20, 20, 13, 12,  7, 10, 20,  9,\n",
              "          3, 11,  4,  8, 22, 21,  3,  4,  5, 15, 18, 13,  3,  9, 12, 11,  4, 11,\n",
              "         21, 16,  8, 10,  5,  9, 10, 16, 11, 16, 10, 11,  9,  4,  6,  9, 11,  8,\n",
              "         13,  3,  5, 10,  5, 11, 15, 16, 14, 21,  3,  3,  6,  6,  6, 13,  7,  5,\n",
              "          9,  9, 16,  8, 18, 11, 22, 20,  6, 16, 20,  9,  5,  4, 13, 14, 13,  4,\n",
              "         11,  4,  8, 21,  1]))"
            ]
          },
          "metadata": {},
          "execution_count": 47
        }
      ]
    },
    {
      "cell_type": "code",
      "source": [
        "os.chdir('/content/drive/MyDrive/Programmable Biology Group/Srikar/Code/proteins/flamingo-ppi-gen/data_dump/flamingo-26-data/')"
      ],
      "metadata": {
        "id": "BxRoInCobAYn"
      },
      "execution_count": null,
      "outputs": []
    },
    {
      "cell_type": "code",
      "source": [
        "from torch.utils.data import DataLoader\n",
        "\n",
        "# Create the DataLoaders\n",
        "train_dataloader = DataLoader(train_dataset, batch_size=train_batch_size, shuffle=True, collate_fn=collate_fn)\n",
        "test_dataloader = DataLoader(test_dataset, batch_size=test_batch_size, collate_fn=collate_fn)\n",
        "val_dataloader = DataLoader(val_dataset, batch_size=val_batch_size, collate_fn=collate_fn)\n"
      ],
      "metadata": {
        "id": "WGS0LWw9OCSf"
      },
      "execution_count": null,
      "outputs": []
    },
    {
      "cell_type": "code",
      "source": [
        "len(train_dataloader),len(test_dataloader),len(val_dataloader)"
      ],
      "metadata": {
        "colab": {
          "base_uri": "https://localhost:8080/"
        },
        "id": "OTPNHzDMcRXB",
        "outputId": "e812970d-7e98-4aa0-cf26-9409ddc75211"
      },
      "execution_count": null,
      "outputs": [
        {
          "output_type": "execute_result",
          "data": {
            "text/plain": [
              "(21623, 3440, 2909)"
            ]
          },
          "metadata": {},
          "execution_count": 54
        }
      ]
    },
    {
      "cell_type": "markdown",
      "source": [
        "# Motif-guided ProtFlamingo"
      ],
      "metadata": {
        "id": "lTgNrBvYVs8s"
      }
    },
    {
      "cell_type": "markdown",
      "source": [
        "## Helper Functions + Gated Cross Attn + Perceiver Resampler"
      ],
      "metadata": {
        "id": "QsWWUVuFs8MX"
      }
    },
    {
      "cell_type": "code",
      "source": [
        "import torch\n",
        "from torch import nn\n",
        "from torch.utils.data import DataLoader, Dataset\n",
        "import torch.optim as optim\n",
        "import torch.nn.functional as F\n",
        "# from transformers import RobertaModel  # Assuming use of Hugging Face's transformer models\n",
        "\n",
        "# Helper Functions\n",
        "def exists(val):\n",
        "    return val is not None\n",
        "\n",
        "def set_module_requires_grad_(module, requires_grad):\n",
        "    for param in module.parameters():\n",
        "        param.requires_grad = requires_grad\n",
        "\n",
        "def freeze_model_and_make_eval_(model):\n",
        "    model.eval()\n",
        "    set_module_requires_grad_(model, False)\n",
        "\n",
        "# LayerNorm class\n",
        "class LayerNorm(nn.Module):\n",
        "    def __init__(self, features, eps=1e-6):\n",
        "        super().__init__()\n",
        "        self.gain = nn.Parameter(torch.ones(features))\n",
        "        self.eps = eps\n",
        "\n",
        "    def forward(self, x):\n",
        "        mean = x.mean(-1, keepdim=True)\n",
        "        std = x.std(-1, keepdim=True)\n",
        "        return self.gain * (x - mean) / (std + self.eps)\n",
        "\n",
        "# Residual class\n",
        "class Residual(nn.Module):\n",
        "    def __init__(self, fn):\n",
        "        super().__init__()\n",
        "        self.fn = fn\n",
        "\n",
        "    def forward(self, x, *args, **kwargs):\n",
        "        return self.fn(x, *args, **kwargs) + x\n",
        "\n",
        "# SwiGLU activation function\n",
        "class SwiGLU(nn.Module):\n",
        "    def forward(self, x):\n",
        "        return F.silu(x[..., :x.shape[-1] // 2]) * x[..., x.shape[-1] // 2:]\n",
        "\n",
        "# Transformer Block class\n",
        "class TransformerBlock(nn.Module):\n",
        "    def __init__(self, dim, heads, mlp_dim):\n",
        "        super().__init__()\n",
        "        self.ln1 = LayerNorm(dim)\n",
        "        self.attn = nn.MultiheadAttention(dim, heads)\n",
        "        self.ln2 = LayerNorm(dim)\n",
        "        self.mlp = nn.Sequential(\n",
        "            nn.Linear(dim, mlp_dim),\n",
        "            SwiGLU(),\n",
        "            nn.Linear(mlp_dim // 2, dim)\n",
        "        )\n",
        "        self.residual = Residual(self.ln1)\n",
        "        self.feedforward = Residual(self.ln2)\n",
        "        self.expand_dim = nn.Linear(dim, 2 * dim)  # Project to a higher dimension\n",
        "\n",
        "    def forward(self, x):\n",
        "        if x.dim() < 3: ### do the 1,1,1024 transformation\n",
        "            # Apply the expansion transformation if x has less than 3 dimensions\n",
        "            x_expanded = self.expand_dim(x)  # Now [2, 2*desired_dim]\n",
        "            x_expanded = x_expanded.view(1, 1, 1024)  # Reshape to [1, 1, 1024]\n",
        "            # x_expanded = nn.LayerNorm(x)\n",
        "            print('x transformed shape in gated cross attn:', x_expanded.shape)\n",
        "            x = self.residual(self.attn(x_expanded, x_expanded, x_expanded)[0])\n",
        "        else:\n",
        "            x = self.residual(self.attn(x, x, x)[0])\n",
        "        print(\"Shape after attention and residual:\", x.shape)  # Debug print\n",
        "        x = self.feedforward(self.mlp(x))\n",
        "        print(\"Shape after feedforward:\", x.shape)  # Debug print\n",
        "        return x\n"
      ],
      "metadata": {
        "id": "tDQcNuG8n5nK"
      },
      "execution_count": null,
      "outputs": []
    },
    {
      "cell_type": "code",
      "source": [
        "!pip install transformers"
      ],
      "metadata": {
        "id": "ypy2EZWLTogB",
        "colab": {
          "base_uri": "https://localhost:8080/"
        },
        "outputId": "eeaee12f-b594-49db-e2c7-0e9b3d0ba661"
      },
      "execution_count": null,
      "outputs": [
        {
          "output_type": "stream",
          "name": "stdout",
          "text": [
            "Requirement already satisfied: transformers in /usr/local/lib/python3.10/dist-packages (4.35.2)\n",
            "Requirement already satisfied: filelock in /usr/local/lib/python3.10/dist-packages (from transformers) (3.13.1)\n",
            "Requirement already satisfied: huggingface-hub<1.0,>=0.16.4 in /usr/local/lib/python3.10/dist-packages (from transformers) (0.19.4)\n",
            "Requirement already satisfied: numpy>=1.17 in /usr/local/lib/python3.10/dist-packages (from transformers) (1.23.5)\n",
            "Requirement already satisfied: packaging>=20.0 in /usr/local/lib/python3.10/dist-packages (from transformers) (23.2)\n",
            "Requirement already satisfied: pyyaml>=5.1 in /usr/local/lib/python3.10/dist-packages (from transformers) (6.0.1)\n",
            "Requirement already satisfied: regex!=2019.12.17 in /usr/local/lib/python3.10/dist-packages (from transformers) (2023.6.3)\n",
            "Requirement already satisfied: requests in /usr/local/lib/python3.10/dist-packages (from transformers) (2.31.0)\n",
            "Requirement already satisfied: tokenizers<0.19,>=0.14 in /usr/local/lib/python3.10/dist-packages (from transformers) (0.15.0)\n",
            "Requirement already satisfied: safetensors>=0.3.1 in /usr/local/lib/python3.10/dist-packages (from transformers) (0.4.1)\n",
            "Requirement already satisfied: tqdm>=4.27 in /usr/local/lib/python3.10/dist-packages (from transformers) (4.66.1)\n",
            "Requirement already satisfied: fsspec>=2023.5.0 in /usr/local/lib/python3.10/dist-packages (from huggingface-hub<1.0,>=0.16.4->transformers) (2023.6.0)\n",
            "Requirement already satisfied: typing-extensions>=3.7.4.3 in /usr/local/lib/python3.10/dist-packages (from huggingface-hub<1.0,>=0.16.4->transformers) (4.5.0)\n",
            "Requirement already satisfied: charset-normalizer<4,>=2 in /usr/local/lib/python3.10/dist-packages (from requests->transformers) (3.3.2)\n",
            "Requirement already satisfied: idna<4,>=2.5 in /usr/local/lib/python3.10/dist-packages (from requests->transformers) (3.6)\n",
            "Requirement already satisfied: urllib3<3,>=1.21.1 in /usr/local/lib/python3.10/dist-packages (from requests->transformers) (2.0.7)\n",
            "Requirement already satisfied: certifi>=2017.4.17 in /usr/local/lib/python3.10/dist-packages (from requests->transformers) (2023.11.17)\n"
          ]
        }
      ]
    },
    {
      "cell_type": "code",
      "source": [
        "!pip install einops-exts"
      ],
      "metadata": {
        "colab": {
          "base_uri": "https://localhost:8080/"
        },
        "id": "NDcDefLVW5-h",
        "outputId": "1716bcf8-fc05-47c5-8d6b-f6803eb3820a"
      },
      "execution_count": null,
      "outputs": [
        {
          "output_type": "stream",
          "name": "stdout",
          "text": [
            "Collecting einops-exts\n",
            "  Downloading einops_exts-0.0.4-py3-none-any.whl (3.9 kB)\n",
            "Collecting einops>=0.4 (from einops-exts)\n",
            "  Downloading einops-0.7.0-py3-none-any.whl (44 kB)\n",
            "\u001b[2K     \u001b[90m━━━━━━━━━━━━━━━━━━━━━━━━━━━━━━━━━━━━━━━━\u001b[0m \u001b[32m44.6/44.6 kB\u001b[0m \u001b[31m2.1 MB/s\u001b[0m eta \u001b[36m0:00:00\u001b[0m\n",
            "\u001b[?25hInstalling collected packages: einops, einops-exts\n",
            "Successfully installed einops-0.7.0 einops-exts-0.0.4\n"
          ]
        }
      ]
    },
    {
      "cell_type": "code",
      "source": [
        "os.environ['PYTORCH_CUDA_ALLOC_CONF'] = 'max_split_size_mb:4096'\n",
        "\n",
        "import torch\n",
        "from torch import nn, einsum\n",
        "import torch.nn.functional as F\n",
        "\n",
        "from einops import rearrange, repeat\n",
        "from einops_exts import rearrange_many, repeat_many\n",
        "\n",
        "def exists(val):\n",
        "    return val is not None\n",
        "\n",
        "def FeedForward(dim, mult = 4):\n",
        "    inner_dim = int(dim * mult)\n",
        "    return nn.Sequential(\n",
        "        nn.LayerNorm(dim),\n",
        "        nn.Linear(dim, inner_dim, bias = False),\n",
        "        nn.GELU(),\n",
        "        nn.Linear(inner_dim, dim, bias = False)\n",
        "    )\n",
        "\n",
        "class PerceiverAttention(nn.Module):\n",
        "    def __init__(self, *, dim, concatenated_dim, dim_head=64, heads=8):\n",
        "        super().__init__()\n",
        "        self.scale = dim_head ** -0.5\n",
        "        self.heads = heads\n",
        "        inner_dim = dim_head * heads\n",
        "\n",
        "        # Adjusted to use concatenated_dim for normalization\n",
        "        self.norm_media = nn.LayerNorm(concatenated_dim)\n",
        "        self.norm_latents = nn.LayerNorm(dim)\n",
        "\n",
        "        # Adjusted dimensions for the larger concatenated input\n",
        "        self.to_q = nn.Linear(concatenated_dim, inner_dim, bias=False)\n",
        "        self.to_kv = nn.Linear(concatenated_dim, inner_dim * 2, bias=False)\n",
        "        self.to_out = nn.Linear(inner_dim, dim, bias=False)\n",
        "\n",
        "    def forward(self, x, latents):\n",
        "        # Normalize x and latents\n",
        "        print(\"Original Shape of x before norm:\", x.shape)\n",
        "        x = self.norm_media(x)\n",
        "        latents = self.norm_latents(latents)\n",
        "\n",
        "        print(\"Original Shape of x:\", x.shape)\n",
        "        print(\"Original Shape of latents:\", latents.shape)\n",
        "\n",
        "        # Expand x to 4D if it's 3D: [B, T, D] -> [B, T, 1, D]\n",
        "        if x.dim() == 3:\n",
        "            x = x.unsqueeze(2)\n",
        "            print(\"Expanded Shape of x:\", x.shape)\n",
        "\n",
        "        # Check dimensions of latents and expand if necessary\n",
        "        if latents.dim() == 3:\n",
        "            b, m, d = latents.shape\n",
        "            latents = latents.unsqueeze(1)  # Add time dimension\n",
        "            print(\"Expanded Shape of latents:\", latents.shape)\n",
        "        elif latents.dim() != 4:\n",
        "            raise ValueError(f\"Unexpected number of dimensions in latents: {latents.dim()}\")\n",
        "\n",
        "        # Ensure x and latents have the same last dimension\n",
        "        if x.size(-1) != latents.size(-1):\n",
        "            # Use a linear layer to transform the dimension of latents\n",
        "            linear_transform = nn.Linear(latents.size(-1), x.size(-1)).to(latents.device)\n",
        "            latents = linear_transform(latents)\n",
        "            print(\"Transformed latents with linear layer:\", latents.shape)\n",
        "\n",
        "        # Concatenate x and latents along the new dimension\n",
        "        kv_input = torch.cat((x, latents), dim=2)\n",
        "        print(\"Shape of concatenated kv_input:\", kv_input.shape)\n",
        "\n",
        "\n",
        "        # Generate queries from latents, and keys and values from the concatenated input\n",
        "        q = self.to_q(latents)\n",
        "        q = rearrange(q, 'b t m (h d) -> b h t m d', h=self.heads)\n",
        "        print(\"Shape of query tensors:\", q.shape)\n",
        "\n",
        "        k, v = self.to_kv(kv_input).chunk(2, dim=-1)\n",
        "        k, v = rearrange_many((k, v), 'b t n (h d) -> b h t n d', h=self.heads)\n",
        "\n",
        "        q = q * self.scale\n",
        "\n",
        "        # attention\n",
        "\n",
        "        sim = einsum('... i d, ... j d  -> ... i j', q, k)\n",
        "\n",
        "        sim = sim - sim.amax(dim = -1, keepdim = True).detach()\n",
        "        attn = sim.softmax(dim = -1)\n",
        "\n",
        "        out = einsum('... i j, ... j d -> ... i d', attn, v)\n",
        "        out = rearrange(out, 'b h t n d -> b t n (h d)', h = self.heads)\n",
        "        return self.to_out(out)\n",
        "\n",
        "\n",
        "class PerceiverResampler(nn.Module):\n",
        "    def __init__(self, *, dim, depth, dim_head=64, heads=8, num_latents=64, num_media_embeds=1, ff_mult=4, concatenated_dim=2048):\n",
        "        super().__init__()\n",
        "        self.latents = nn.Parameter(torch.randn(num_latents, dim))\n",
        "        self.media_pos_emb = nn.Parameter(torch.randn(num_media_embeds, 1, concatenated_dim))\n",
        "\n",
        "        self.layers = nn.ModuleList([])\n",
        "        for _ in range(depth):\n",
        "            self.layers.append(nn.ModuleList([\n",
        "                PerceiverAttention(dim=dim, concatenated_dim=concatenated_dim, dim_head=dim_head, heads=heads),\n",
        "                FeedForward(dim=dim, mult=ff_mult)\n",
        "            ]))\n",
        "\n",
        "        self.norm = nn.LayerNorm(dim)\n",
        "\n",
        "    def forward(self, x):\n",
        "        if x.ndim == 3:\n",
        "            x = rearrange(x, 'b n d -> b 1 n d')\n",
        "\n",
        "        times = x.shape[1]\n",
        "        x = x + self.media_pos_emb[:times]\n",
        "\n",
        "        latents = repeat(self.latents, 'n d -> b m n d', b=x.shape[0], m=x.shape[1])\n",
        "\n",
        "        for attn, ff in self.layers:\n",
        "            latents = attn(x, latents) + latents\n",
        "            latents = ff(latents) + latents\n",
        "\n",
        "        return self.norm(latents)\n",
        "\n",
        "\n",
        "class MaskedCrossAttention(nn.Module):\n",
        "    def __init__(self, *, dim, concatenated_dim=2048, dim_head=64, heads=8, only_attend_immediate_media=True):\n",
        "        super().__init__()\n",
        "        self.scale = dim_head ** -0.5\n",
        "        self.heads = heads\n",
        "        inner_dim = dim_head * heads\n",
        "\n",
        "        self.norm = nn.LayerNorm(dim)\n",
        "        self.to_q = nn.Linear(dim, inner_dim, bias=False)\n",
        "        self.to_kv = nn.Linear(dim, inner_dim * 2, bias=False)\n",
        "        self.to_out = nn.Linear(inner_dim, dim, bias=False)\n",
        "        self.only_attend_immediate_media = only_attend_immediate_media\n",
        "\n",
        "    def forward(self, x, media, media_locations=None):\n",
        "        b, t, m = media.shape[:3]\n",
        "        h = self.heads\n",
        "        print('x before norm (masked cross attn):',x.shape)\n",
        "        print('media before reaarange (masked cross attn):',media.shape)\n",
        "        x = self.norm(x)\n",
        "        q = self.to_q(x)\n",
        "        media = rearrange(media, 'b t n d -> b (t n) d')\n",
        "        k, v = self.to_kv(media).chunk(2, dim=-1)\n",
        "        print(\"Shape of q (masked cross attn):\", q.shape)\n",
        "        print(\"Shape of k (masked cross attn):\", k.shape)\n",
        "        print(\"Shape of v (masked cross attn):\", v.shape)\n",
        "\n",
        "        q, k, v = rearrange_many((q, k, v), 'b n (h d) -> b h n d', h=h)\n",
        "\n",
        "        q = q * self.scale\n",
        "        sim = einsum('... i d, ... j d -> ... i j', q, k)\n",
        "        if media_locations is not None:\n",
        "            # Modify attention mask based on motif presence\n",
        "            mask = media_locations.unsqueeze(1).unsqueeze(2)\n",
        "            sim = sim.masked_fill(mask == 0, float('-inf'))\n",
        "\n",
        "        sim = sim - sim.amax(dim=-1, keepdim=True).detach()\n",
        "        attn = sim.softmax(dim=-1)\n",
        "        out = einsum('... i j, ... j d -> ... i d', attn, v)\n",
        "        out = rearrange(out, 'b h n d -> b n (h d)')\n",
        "        return self.to_out(out)\n",
        "\n",
        "\n",
        "class GatedCrossAttentionBlock(nn.Module):\n",
        "    def __init__(self, *, dim, dim_head=64, heads=8, ff_mult=4, only_attend_immediate_media=True):\n",
        "        super().__init__()\n",
        "        self.attn = MaskedCrossAttention(dim=dim, dim_head=dim_head, heads=heads, only_attend_immediate_media=only_attend_immediate_media)\n",
        "        self.attn_gate = nn.Parameter(torch.tensor([0.]))\n",
        "        self.ff = FeedForward(dim, mult=ff_mult)\n",
        "        self.ff_gate = nn.Parameter(torch.tensor([0.]))\n",
        "\n",
        "        self.expand_dim = nn.Linear(dim, 2 * dim)  # Project to a higher dimension\n",
        "\n",
        "    def forward(self, x, media, media_locations=None):\n",
        "        gate = self.attn_gate.tanh()\n",
        "        print('defined gate (tanh)')\n",
        "        print('gate shape:',gate.shape)\n",
        "        print('x shape initially input to gate:', x.shape)\n",
        "        # x = x.unsqueeze(1)\n",
        "        # print('x unsqueezed shape:', x.shape)\n",
        "\n",
        "        if x.dim() < 3: ### do the 1,1,1024 transformation\n",
        "            # Apply the expansion transformation if x has less than 3 dimensions\n",
        "            x_expanded = self.expand_dim(x)  # Now [2, 2*desired_dim]\n",
        "            x_expanded = x_expanded.view(1, 1, 1024)  # Reshape to [1, 1, 1024]\n",
        "            # x_expanded = nn.LayerNorm(x)\n",
        "            print('x transformed shape in gated cross attn:', x_expanded.shape)\n",
        "            x = self.attn(x_expanded, media, media_locations=media_locations) * gate + x_expanded\n",
        "        else:\n",
        "            # If x has 3 dimensions, use it as is\n",
        "            x = self.attn(x, media, media_locations=media_locations) * gate + x\n",
        "        print('self attn of x *gate +x :',x.shape)\n",
        "        x = self.ff(x) * self.ff_gate.tanh() + x\n",
        "        print('ff*gate +x of x:', x.shape)\n",
        "        return x\n"
      ],
      "metadata": {
        "id": "RwoWz-10p__C"
      },
      "execution_count": null,
      "outputs": []
    },
    {
      "cell_type": "markdown",
      "source": [
        "## ProtFlamingo"
      ],
      "metadata": {
        "id": "Up2gOmc-tC09"
      }
    },
    {
      "cell_type": "code",
      "source": [
        "\n",
        "class LayerNorm(nn.Module):\n",
        "    def __init__(self, dim):\n",
        "        super().__init__()\n",
        "        self.norm = nn.LayerNorm(dim)\n",
        "\n",
        "    def forward(self, x):\n",
        "        return self.norm(x)\n",
        "\n",
        "class SwiGLU(nn.Module):\n",
        "    def forward(self, x):\n",
        "        x, gate = x.chunk(2, dim=-1)\n",
        "        return F.silu(gate) * x\n",
        "\n",
        "class ParallelTransformerBlock(nn.Module):\n",
        "    def __init__(self, dim, dim_head=64, heads=8, ff_mult=4):\n",
        "        super().__init__()\n",
        "        self.norm = LayerNorm(dim)\n",
        "\n",
        "        attn_inner_dim = dim_head * heads\n",
        "        ff_inner_dim = dim * ff_mult\n",
        "\n",
        "        self.attn = nn.MultiheadAttention(embed_dim=dim, num_heads=heads)\n",
        "        self.ff = nn.Sequential(\n",
        "            nn.Linear(dim, 2* ff_mult * dim),\n",
        "            SwiGLU(),\n",
        "            nn.Linear(ff_mult * dim, dim)\n",
        "        )\n",
        "\n",
        "    def forward(self, x):\n",
        "        print(\"Input to ParallelTransformerBlock:\", x.shape)\n",
        "\n",
        "        x = self.norm(x)\n",
        "        print(\"After LayerNorm:\", x.shape)\n",
        "\n",
        "        x = x.permute(1, 0, 2)  # Rearrange for nn.MultiheadAttention\n",
        "        print(\"After permute for MultiheadAttention:\", x.shape)\n",
        "\n",
        "        attn_output, _ = self.attn(x, x, x)\n",
        "        print(\"After MultiheadAttention:\", attn_output.shape)\n",
        "\n",
        "        x = attn_output + x\n",
        "        print(\"After adding attn_output:\", x.shape)\n",
        "\n",
        "        x = x.permute(1, 0, 2)  # Rearrange back\n",
        "        print(\"After permute back:\", x.shape)\n",
        "\n",
        "        # ff_output = self.ff(x)\n",
        "        # print(\"After FeedForward:\", ff_output.shape)\n",
        "        ff_output = x\n",
        "        for layer in self.ff:\n",
        "            if isinstance(layer, nn.Linear):\n",
        "                print(\"Input to Linear Layer:\", ff_output.shape)\n",
        "                ff_output = layer(ff_output)\n",
        "                print(\"Output from Linear Layer:\", ff_output.shape)\n",
        "            else:\n",
        "                # Assuming SwiGLU or other non-linear layers don't change shape\n",
        "                ff_output = layer(ff_output)\n",
        "\n",
        "        output = ff_output + x\n",
        "        print(\"Output from ParallelTransformerBlock:\", output.shape)\n",
        "\n",
        "        return output\n",
        "\n"
      ],
      "metadata": {
        "id": "2DvByxwAW-rQ"
      },
      "execution_count": null,
      "outputs": []
    },
    {
      "cell_type": "code",
      "source": [
        "from transformers import T5Tokenizer, T5EncoderModel\n",
        "import torch\n",
        "import re"
      ],
      "metadata": {
        "id": "HqVTAkETnF01"
      },
      "execution_count": null,
      "outputs": []
    },
    {
      "cell_type": "code",
      "source": [
        "import pandas as pd\n",
        "import torch\n",
        "from torch.utils.data import DataLoader, Dataset\n",
        "import torch.optim as optim\n",
        "from transformers import T5ForConditionalGeneration, T5Tokenizer\n",
        "from tqdm import tqdm\n",
        "from transformers import AutoModel, AutoTokenizer\n"
      ],
      "metadata": {
        "id": "XwIGXZqUnTZ_"
      },
      "execution_count": null,
      "outputs": []
    },
    {
      "cell_type": "code",
      "source": [
        "T5ForConditionalGeneration.from_pretrained(\"Rostlab/prot_t5_xl_bfd\").config.d_model"
      ],
      "metadata": {
        "colab": {
          "base_uri": "https://localhost:8080/",
          "height": 98,
          "referenced_widgets": [
            "1e38d1d1ee914f0b808cf448f5e27967",
            "ebaea4faac6f45bcb200fe42803e19c2",
            "a0e347198c314e43847699db7df95eac",
            "2e351a9c56004f6189d8c29563330572",
            "a4407c85efbc4b4ba51e3337133f7b68",
            "e246aed00766448ab93389b308c5e10c",
            "aa398be954ee480eb60a271aa5fb375f",
            "af223090464149e597ae21eef7f8c8c6",
            "01be5a40576b4000bf7241b8efb0fdd7",
            "bfb39943daac41b98cd95a9cba1b5f10",
            "48925df8574247c1866bb5a430999fff",
            "6e2e08e71ede43d48a7ac652541e899d",
            "bd67b9872be2463b8644224877f33440",
            "d0a923848d9b424193f7f9627dcd1403",
            "8119ba95fed94ae4894be56700188b59",
            "9f4ffa95d23d41c1ae5c2cddd6b87be8",
            "c1d82d61f282435aaf8d2cd36b19e426",
            "eedc3ae2e718448890a8e0fe23d70dce",
            "84bee8bd4542461687e107b2178ed0cd",
            "b1a68e57ee4f4645b7e274ede78226f1",
            "f1162434471b4111b226ee1d7b69ff47",
            "edca76541a3c4c168d053344168d384b"
          ]
        },
        "id": "i00XlIu_l5F2",
        "outputId": "6f2a08e6-93ff-460e-c0cd-16a1bc8509f5"
      },
      "execution_count": null,
      "outputs": [
        {
          "output_type": "display_data",
          "data": {
            "text/plain": [
              "config.json:   0%|          | 0.00/457 [00:00<?, ?B/s]"
            ],
            "application/vnd.jupyter.widget-view+json": {
              "version_major": 2,
              "version_minor": 0,
              "model_id": "1e38d1d1ee914f0b808cf448f5e27967"
            }
          },
          "metadata": {}
        },
        {
          "output_type": "display_data",
          "data": {
            "text/plain": [
              "pytorch_model.bin:   0%|          | 0.00/11.3G [00:00<?, ?B/s]"
            ],
            "application/vnd.jupyter.widget-view+json": {
              "version_major": 2,
              "version_minor": 0,
              "model_id": "6e2e08e71ede43d48a7ac652541e899d"
            }
          },
          "metadata": {}
        },
        {
          "output_type": "execute_result",
          "data": {
            "text/plain": [
              "1024"
            ]
          },
          "metadata": {},
          "execution_count": 62
        }
      ]
    },
    {
      "cell_type": "code",
      "source": [
        "# Load ProtT5 model\n",
        "protT5_model = T5ForConditionalGeneration.from_pretrained(\"Rostlab/prot_t5_xl_bfd\")\n",
        "protT5_tokenizer = T5Tokenizer.from_pretrained(\"Rostlab/prot_t5_xl_bfd\")"
      ],
      "metadata": {
        "id": "v7I4inNjtqVX",
        "colab": {
          "base_uri": "https://localhost:8080/",
          "height": 113,
          "referenced_widgets": [
            "81a400da8f1a4105a1bd298186926bf0",
            "37ea0ca07e194e97ba55332a29986ed9",
            "d37a610cea8a4a08806b181ac4a100bb",
            "50930acffdd34a1f80880645a473ceb7",
            "baa075b64143444bb6a6cb569a99a987",
            "ff4644cc3bfd4dc0aa7c7a6bceb356c1",
            "24f4f1bbd9bf49d483dad3d23c6cd807",
            "7e45e55c586642df9ca2e1772478b6f4",
            "acb173ea9a2248e892d2166156f0bd9c",
            "ae6ad015632340fc9cb407ccbd654cdd",
            "855ae1174a164d44940f2d8865fd0ae3",
            "7668651bc7784125837e360794c38cf2",
            "2b5c2ce5973f46dbbc19efd9258f9c4b",
            "9921a27a1403487faa043ed293571ec2",
            "2d1ca2cdb9724dc59b873bb8840b21f4",
            "2288985c10134326a6fe8594dad8dbd5",
            "3bb74428fa1f4e4bb5ad33f20a00d912",
            "797605cb18bc4b68993fc49704e7b93e",
            "91e1cf4623bc4fdbaa482003b8ff1a9e",
            "05840cf156324a1499adddb1522383ef",
            "58d4caf7f5ec48beb241e988a9ec2645",
            "bd3407f190914b0c81bc1d79d088d494",
            "b19209908dc34c22804071afdd416c00",
            "42353e1cc1034fe2bfd95f62717e66a0",
            "d6f562159a6c43b3b5b2c9e67b98648d",
            "7b22e4e0e53f4933bf360963630ffac3",
            "d0972919d5f04180b5dfa50ea8ed3c88",
            "95a1824c448c435cbd9e84d0433d1d5d",
            "3abba2ab2fe244c39dbbf971f93d2f1a",
            "f42f1097bb504c2b8302e0606ff720d4",
            "c31c04c842b34f5db2e55345f312a43f",
            "2e6b8eacf3d1403ca0b0371d896f937d",
            "59bdac062a82423d9a84e326c31e6894"
          ]
        },
        "outputId": "02be07be-54a6-4db4-8e8c-37f60f9a0472"
      },
      "execution_count": null,
      "outputs": [
        {
          "output_type": "display_data",
          "data": {
            "text/plain": [
              "tokenizer_config.json:   0%|          | 0.00/24.0 [00:00<?, ?B/s]"
            ],
            "application/vnd.jupyter.widget-view+json": {
              "version_major": 2,
              "version_minor": 0,
              "model_id": "81a400da8f1a4105a1bd298186926bf0"
            }
          },
          "metadata": {}
        },
        {
          "output_type": "display_data",
          "data": {
            "text/plain": [
              "spiece.model:   0%|          | 0.00/238k [00:00<?, ?B/s]"
            ],
            "application/vnd.jupyter.widget-view+json": {
              "version_major": 2,
              "version_minor": 0,
              "model_id": "7668651bc7784125837e360794c38cf2"
            }
          },
          "metadata": {}
        },
        {
          "output_type": "display_data",
          "data": {
            "text/plain": [
              "special_tokens_map.json:   0%|          | 0.00/1.79k [00:00<?, ?B/s]"
            ],
            "application/vnd.jupyter.widget-view+json": {
              "version_major": 2,
              "version_minor": 0,
              "model_id": "b19209908dc34c22804071afdd416c00"
            }
          },
          "metadata": {}
        }
      ]
    },
    {
      "cell_type": "code",
      "source": [
        "import torch\n",
        "from torch import nn\n",
        "from transformers import T5ForConditionalGeneration, T5Tokenizer\n",
        "\n",
        "class ProtFlamingo(nn.Module):\n",
        "    def __init__(self, num_tokens, depth, dim_head=64, heads=8, ff_mult=4, cross_attn_every=3, perceiver_num_latents=64, perceiver_depth=2, only_attend_immediate_media=True, protein_mode=False, motif_mode=False):\n",
        "        super().__init__()\n",
        "\n",
        "        self.protT5 = T5ForConditionalGeneration.from_pretrained(\"Rostlab/prot_t5_xl_bfd\")\n",
        "        self.dim = 1024  # Assuming the embedding dimension\n",
        "        self.to_logits = nn.Linear(self.dim, num_tokens)\n",
        "\n",
        "        self.perceiver_resampler = PerceiverResampler(dim=self.dim, depth=perceiver_depth, dim_head=dim_head, heads=heads, num_latents=perceiver_num_latents,concatenated_dim=2048)  # new parameter for the concatenated size\n",
        "\n",
        "        self.layers = nn.ModuleList([])\n",
        "        for i in range(depth):\n",
        "            self.layers.append(TransformerBlock(dim=self.dim, heads=heads, mlp_dim=self.dim * ff_mult))\n",
        "            if i % cross_attn_every == 0:\n",
        "                self.layers.append(GatedCrossAttentionBlock(dim=self.dim, dim_head=dim_head, heads=heads, ff_mult=ff_mult))\n",
        "\n",
        "    def forward(self, protein_embeddings, motif_encodings, target_sequence):\n",
        "        # Print the shape of inputs\n",
        "        print(\"Protein Embeddings Shape:\", protein_embeddings.shape)\n",
        "        print(\"Motif Encodings Shape:\", motif_encodings.shape)\n",
        "        print(\"Target Sequence Shape:\", target_sequence.shape)\n",
        "\n",
        "        # Concatenate protein_embeddings and motif_encodings\n",
        "        combined_input = torch.cat((protein_embeddings, motif_encodings), dim=-1)\n",
        "        print(\"Combined Input Shape:\", combined_input.shape)\n",
        "\n",
        "        # Process the combined input through the perceiver resampler\n",
        "        processed_input = self.perceiver_resampler(combined_input)\n",
        "        print(\"Processed Input Shape:\", processed_input.shape)\n",
        "\n",
        "        # Iterate over the layers\n",
        "        for index, layer in enumerate(self.layers):\n",
        "            print(f\"Layer {index} type: {type(layer).__name__}\")\n",
        "\n",
        "            # Process the target_sequence through the layer\n",
        "            if isinstance(layer, GatedCrossAttentionBlock):\n",
        "                target_sequence = layer(target_sequence, processed_input)\n",
        "            else:\n",
        "                target_sequence = layer(target_sequence)\n",
        "\n",
        "            # Print the shape after each layer\n",
        "            print(f\"Post Layer {index} Shape:\", target_sequence.shape)\n",
        "\n",
        "        # Generate logits\n",
        "        logits = self.to_logits(target_sequence)\n",
        "        print(\"Logits Shape:\", logits.shape)\n",
        "\n",
        "        return target_sequence\n"
      ],
      "metadata": {
        "id": "lLM3qSP9q4mR"
      },
      "execution_count": null,
      "outputs": []
    },
    {
      "cell_type": "markdown",
      "source": [
        "## Train Model"
      ],
      "metadata": {
        "id": "rHcPbrabtj5Q"
      }
    },
    {
      "cell_type": "code",
      "source": [
        "from torch.nn.utils.rnn import pad_sequence\n",
        "\n",
        "def collate_fn(batch):\n",
        "    seq1_embeddings, seq2_embeddings, one_hot_scores, tokenized_seqs = zip(*batch)\n",
        "\n",
        "    seq1_embeddings = pad_sequence(seq1_embeddings, batch_first=True)\n",
        "    seq2_embeddings = pad_sequence(seq2_embeddings, batch_first=True)\n",
        "    one_hot_scores = pad_sequence(one_hot_scores, batch_first=True)\n",
        "    tokenized_seqs = pad_sequence(tokenized_seqs, batch_first=True, padding_value=tokenizer.pad_token_id)\n",
        "\n",
        "    return seq1_embeddings, seq2_embeddings, one_hot_scores, tokenized_seqs\n"
      ],
      "metadata": {
        "id": "tJsZbI-lUGqJ"
      },
      "execution_count": null,
      "outputs": []
    },
    {
      "cell_type": "code",
      "source": [
        "import torch\n",
        "import torch.nn as nn\n",
        "from torch.nn.functional import kl_div, log_softmax\n"
      ],
      "metadata": {
        "id": "VU_keTs7E9LE"
      },
      "execution_count": null,
      "outputs": []
    },
    {
      "cell_type": "code",
      "source": [
        "import torch\n",
        "\n",
        "# Assuming 'model', 'train_dataloader', 'val_dataloader', 'test_dataloader', and 'criterion' are already defined\n",
        "device = torch.device(\"cuda\" if torch.cuda.is_available() else \"cpu\")\n",
        "model.to(device)\n",
        "model = model.half() if device.type == 'cuda' else model.full()\n",
        "\n",
        "\n",
        "optimizer = torch.optim.Adam(model.parameters(), lr=1e-4)\n",
        "\n"
      ],
      "metadata": {
        "id": "7wav5_kRU764"
      },
      "execution_count": null,
      "outputs": []
    },
    {
      "cell_type": "code",
      "source": [
        "train_dataloader.dataset"
      ],
      "metadata": {
        "id": "mViEhzU-pfcy",
        "colab": {
          "base_uri": "https://localhost:8080/"
        },
        "outputId": "33ba6350-7462-451c-94c2-13c4e960c319"
      },
      "execution_count": null,
      "outputs": [
        {
          "output_type": "execute_result",
          "data": {
            "text/plain": [
              "<__main__.ProteinInteractionDataset at 0x7d6de01f3bb0>"
            ]
          },
          "metadata": {},
          "execution_count": 107
        }
      ]
    },
    {
      "cell_type": "code",
      "source": [
        "# Instantiate model, optimizer, and other training components\n",
        "device = torch.device(\"cuda\" if torch.cuda.is_available() else \"cpu\")\n",
        "\n",
        "# Example parameters\n",
        "num_tokens = protT5_tokenizer.vocab_size\n",
        "depth = 12  # Adjust based on model complexity and computational resources"
      ],
      "metadata": {
        "id": "xYk_a6w5r7c7"
      },
      "execution_count": null,
      "outputs": []
    },
    {
      "cell_type": "code",
      "source": [
        "model = ProtFlamingo(\n",
        "    num_tokens=num_tokens,\n",
        "    depth=depth,\n",
        "    dim_head=64,\n",
        "    heads=8,\n",
        "    ff_mult=4,\n",
        "    cross_attn_every=2,\n",
        "    perceiver_num_latents=64,\n",
        "    perceiver_depth=2,\n",
        "    only_attend_immediate_media=True\n",
        ").to(device)\n"
      ],
      "metadata": {
        "id": "upD3b5shsN3i"
      },
      "execution_count": null,
      "outputs": []
    },
    {
      "cell_type": "code",
      "source": [
        "def train_epoch_kl(model, data_loader, optimizer, device):\n",
        "    model.train()\n",
        "    total_loss = 0\n",
        "\n",
        "    for seq1_embeddings, seq2_embeddings, one_hot_scores, tokenized_seqs in data_loader:\n",
        "        # seq1_embeddings, seq2_embeddings, one_hot_scores, tokenized_seqs = \\\n",
        "        #     # Convert all tensors to FloatTensor\n",
        "        seq1_embeddings = seq1_embeddings.float().to(device)\n",
        "        seq2_embeddings = seq2_embeddings.float().to(device)\n",
        "        one_hot_scores = one_hot_scores.float().to(device)\n",
        "        tokenized_seqs = tokenized_seqs.float().to(device)  # Convert tokenized_seqs to float\n",
        "\n",
        "        optimizer.zero_grad()\n",
        "\n",
        "        model_output = model(seq1_embeddings, seq2_embeddings, one_hot_scores)\n",
        "        print('model output shape:', model_output.shape)\n",
        "        log_probs = F.log_softmax(model_output, dim=-1)\n",
        "        print('log probs shape:', log_probs.shape)\n",
        "        print('tokenized_seqs shape:', tokenized_seqs.shape)\n",
        "        print(tokenized_seqs)\n",
        "        print(log_probs)\n",
        "\n",
        "        loss = F.kl_div(log_probs, tokenized_seqs, reduction='batchmean')\n",
        "        loss.backward()\n",
        "        optimizer.step()\n",
        "\n",
        "        total_loss += loss.item()\n",
        "\n",
        "    return total_loss / len(data_loader)\n",
        "\n",
        "# Train for one epoch\n",
        "train_loss = train_epoch_kl(model, train_dataloader, optimizer, device)\n",
        "print(f\"Training Epoch: Loss = {train_loss}\")\n",
        "\n",
        "def validate_epoch_kl(model, data_loader, device):\n",
        "    model.eval()\n",
        "    total_loss = 0\n",
        "    with torch.no_grad():\n",
        "        for seq1_embeddings, seq2_embeddings, one_hot_scores, tokenized_seqs in data_loader:\n",
        "            # seq1_embeddings, seq2_embeddings, one_hot_scores, tokenized_seqs = \\\n",
        "            #     # Convert all tensors to FloatTensor\n",
        "            seq1_embeddings = seq1_embeddings.float().to(device)\n",
        "            seq2_embeddings = seq2_embeddings.float().to(device)\n",
        "            one_hot_scores = one_hot_scores.float().to(device)\n",
        "            tokenized_seqs = tokenized_seqs.float().to(device)  # Convert tokenized_seqs to float\n",
        "\n",
        "            model_output = model(seq1_embeddings, seq2_embeddings, one_hot_scores)\n",
        "            log_probs = F.log_softmax(model_output, dim=-1)\n",
        "\n",
        "            loss = F.kl_div(log_probs, tokenized_seqs, reduction='batchmean')\n",
        "            total_loss += loss.item()\n",
        "\n",
        "    return total_loss / len(data_loader)\n",
        "\n",
        "# Validate for one epoch\n",
        "val_loss = validate_epoch_kl(model, val_dataloader, device)\n",
        "print(f\"Validation Epoch: Loss = {val_loss}\")\n",
        "\n",
        "\n",
        "def test_epoch_kl(model, data_loader, device):\n",
        "    model.eval()\n",
        "    total_loss = 0\n",
        "    with torch.no_grad():\n",
        "        for seq1_embeddings, seq2_embeddings, one_hot_scores, tokenized_seqs in data_loader:\n",
        "            # seq1_embeddings, seq2_embeddings, one_hot_scores, tokenized_seqs = \\\n",
        "            #     # Convert all tensors to FloatTensor\n",
        "            seq1_embeddings = seq1_embeddings.float().to(device)\n",
        "            seq2_embeddings = seq2_embeddings.float().to(device)\n",
        "            one_hot_scores = one_hot_scores.float().to(device)\n",
        "            tokenized_seqs = tokenized_seqs.float().to(device)  # Convert tokenized_seqs to float\n",
        "\n",
        "            model_output = model(seq1_embeddings, seq2_embeddings, one_hot_scores)\n",
        "            log_probs = F.log_softmax(model_output, dim=-1)\n",
        "\n",
        "            loss = F.kl_div(log_probs, tokenized_seqs, reduction='batchmean')\n",
        "            total_loss += loss.item()\n",
        "\n",
        "    return total_loss / len(data_loader)\n",
        "\n",
        "# Test for one epoch\n",
        "test_loss = test_epoch_kl(model, test_dataloader, device)\n",
        "print(f\"Test Epoch: Loss = {test_loss}\")\n"
      ],
      "metadata": {
        "id": "70J2emtxr6ZK",
        "colab": {
          "base_uri": "https://localhost:8080/",
          "height": 1000
        },
        "outputId": "59ad2edc-72c7-4622-c209-bd873d7c475c"
      },
      "execution_count": null,
      "outputs": [
        {
          "output_type": "stream",
          "name": "stdout",
          "text": [
            "Protein Embeddings Shape: torch.Size([2, 1024])\n",
            "Motif Encodings Shape: torch.Size([2, 1024])\n",
            "Target Sequence Shape: torch.Size([2, 1024])\n",
            "Combined Input Shape: torch.Size([2, 2048])\n",
            "Original Shape of x before norm: torch.Size([1, 2, 2048])\n",
            "Original Shape of x: torch.Size([1, 2, 2048])\n",
            "Original Shape of latents: torch.Size([1, 2, 64, 1024])\n",
            "Expanded Shape of x: torch.Size([1, 2, 1, 2048])\n",
            "Transformed latents with linear layer: torch.Size([1, 2, 64, 2048])\n",
            "Shape of concatenated kv_input: torch.Size([1, 2, 65, 2048])\n",
            "Shape of query tensors: torch.Size([1, 8, 2, 64, 64])\n",
            "Original Shape of x before norm: torch.Size([1, 2, 2048])\n",
            "Original Shape of x: torch.Size([1, 2, 2048])\n",
            "Original Shape of latents: torch.Size([1, 2, 64, 1024])\n",
            "Expanded Shape of x: torch.Size([1, 2, 1, 2048])\n",
            "Transformed latents with linear layer: torch.Size([1, 2, 64, 2048])\n",
            "Shape of concatenated kv_input: torch.Size([1, 2, 65, 2048])\n",
            "Shape of query tensors: torch.Size([1, 8, 2, 64, 64])\n",
            "Processed Input Shape: torch.Size([1, 2, 64, 1024])\n",
            "Layer 0 type: TransformerBlock\n",
            "x transformed shape in gated cross attn: torch.Size([4, 1, 1024])\n",
            "Shape after attention and residual: torch.Size([4, 1, 1024])\n",
            "Shape after feedforward: torch.Size([4, 1, 1024])\n",
            "Post Layer 0 Shape: torch.Size([4, 1, 1024])\n",
            "Layer 1 type: GatedCrossAttentionBlock\n",
            "defined gate (tanh)\n",
            "gate shape: torch.Size([1])\n",
            "x shape initially input to gate: torch.Size([4, 1, 1024])\n",
            "x before norm (masked cross attn): torch.Size([4, 1, 1024])\n",
            "media before reaarange (masked cross attn): torch.Size([1, 2, 64, 1024])\n",
            "Shape of q (masked cross attn): torch.Size([4, 1, 512])\n",
            "Shape of k (masked cross attn): torch.Size([1, 128, 512])\n",
            "Shape of v (masked cross attn): torch.Size([1, 128, 512])\n",
            "self attn of x *gate +x : torch.Size([4, 1, 1024])\n",
            "ff*gate +x of x: torch.Size([4, 1, 1024])\n",
            "Post Layer 1 Shape: torch.Size([4, 1, 1024])\n",
            "Layer 2 type: TransformerBlock\n",
            "Shape after attention and residual: torch.Size([4, 1, 1024])\n",
            "Shape after feedforward: torch.Size([4, 1, 1024])\n",
            "Post Layer 2 Shape: torch.Size([4, 1, 1024])\n",
            "Layer 3 type: TransformerBlock\n",
            "Shape after attention and residual: torch.Size([4, 1, 1024])\n",
            "Shape after feedforward: torch.Size([4, 1, 1024])\n",
            "Post Layer 3 Shape: torch.Size([4, 1, 1024])\n",
            "Layer 4 type: GatedCrossAttentionBlock\n",
            "defined gate (tanh)\n",
            "gate shape: torch.Size([1])\n",
            "x shape initially input to gate: torch.Size([4, 1, 1024])\n",
            "x before norm (masked cross attn): torch.Size([4, 1, 1024])\n",
            "media before reaarange (masked cross attn): torch.Size([1, 2, 64, 1024])\n",
            "Shape of q (masked cross attn): torch.Size([4, 1, 512])\n",
            "Shape of k (masked cross attn): torch.Size([1, 128, 512])\n",
            "Shape of v (masked cross attn): torch.Size([1, 128, 512])\n",
            "self attn of x *gate +x : torch.Size([4, 1, 1024])\n",
            "ff*gate +x of x: torch.Size([4, 1, 1024])\n",
            "Post Layer 4 Shape: torch.Size([4, 1, 1024])\n",
            "Layer 5 type: TransformerBlock\n",
            "Shape after attention and residual: torch.Size([4, 1, 1024])\n",
            "Shape after feedforward: torch.Size([4, 1, 1024])\n",
            "Post Layer 5 Shape: torch.Size([4, 1, 1024])\n",
            "Layer 6 type: TransformerBlock\n",
            "Shape after attention and residual: torch.Size([4, 1, 1024])\n",
            "Shape after feedforward: torch.Size([4, 1, 1024])\n",
            "Post Layer 6 Shape: torch.Size([4, 1, 1024])\n",
            "Layer 7 type: GatedCrossAttentionBlock\n",
            "defined gate (tanh)\n",
            "gate shape: torch.Size([1])\n",
            "x shape initially input to gate: torch.Size([4, 1, 1024])\n",
            "x before norm (masked cross attn): torch.Size([4, 1, 1024])\n",
            "media before reaarange (masked cross attn): torch.Size([1, 2, 64, 1024])\n",
            "Shape of q (masked cross attn): torch.Size([4, 1, 512])\n",
            "Shape of k (masked cross attn): torch.Size([1, 128, 512])\n",
            "Shape of v (masked cross attn): torch.Size([1, 128, 512])\n",
            "self attn of x *gate +x : torch.Size([4, 1, 1024])\n",
            "ff*gate +x of x: torch.Size([4, 1, 1024])\n",
            "Post Layer 7 Shape: torch.Size([4, 1, 1024])\n",
            "Layer 8 type: TransformerBlock\n",
            "Shape after attention and residual: torch.Size([4, 1, 1024])\n",
            "Shape after feedforward: torch.Size([4, 1, 1024])\n",
            "Post Layer 8 Shape: torch.Size([4, 1, 1024])\n",
            "Layer 9 type: TransformerBlock\n",
            "Shape after attention and residual: torch.Size([4, 1, 1024])\n",
            "Shape after feedforward: torch.Size([4, 1, 1024])\n",
            "Post Layer 9 Shape: torch.Size([4, 1, 1024])\n",
            "Layer 10 type: GatedCrossAttentionBlock\n",
            "defined gate (tanh)\n",
            "gate shape: torch.Size([1])\n",
            "x shape initially input to gate: torch.Size([4, 1, 1024])\n",
            "x before norm (masked cross attn): torch.Size([4, 1, 1024])\n",
            "media before reaarange (masked cross attn): torch.Size([1, 2, 64, 1024])\n",
            "Shape of q (masked cross attn): torch.Size([4, 1, 512])\n",
            "Shape of k (masked cross attn): torch.Size([1, 128, 512])\n",
            "Shape of v (masked cross attn): torch.Size([1, 128, 512])\n",
            "self attn of x *gate +x : torch.Size([4, 1, 1024])\n",
            "ff*gate +x of x: torch.Size([4, 1, 1024])\n",
            "Post Layer 10 Shape: torch.Size([4, 1, 1024])\n",
            "Layer 11 type: TransformerBlock\n",
            "Shape after attention and residual: torch.Size([4, 1, 1024])\n",
            "Shape after feedforward: torch.Size([4, 1, 1024])\n",
            "Post Layer 11 Shape: torch.Size([4, 1, 1024])\n",
            "Layer 12 type: TransformerBlock\n",
            "Shape after attention and residual: torch.Size([4, 1, 1024])\n",
            "Shape after feedforward: torch.Size([4, 1, 1024])\n",
            "Post Layer 12 Shape: torch.Size([4, 1, 1024])\n",
            "Layer 13 type: GatedCrossAttentionBlock\n",
            "defined gate (tanh)\n",
            "gate shape: torch.Size([1])\n",
            "x shape initially input to gate: torch.Size([4, 1, 1024])\n",
            "x before norm (masked cross attn): torch.Size([4, 1, 1024])\n",
            "media before reaarange (masked cross attn): torch.Size([1, 2, 64, 1024])\n",
            "Shape of q (masked cross attn): torch.Size([4, 1, 512])\n",
            "Shape of k (masked cross attn): torch.Size([1, 128, 512])\n",
            "Shape of v (masked cross attn): torch.Size([1, 128, 512])\n",
            "self attn of x *gate +x : torch.Size([4, 1, 1024])\n",
            "ff*gate +x of x: torch.Size([4, 1, 1024])\n",
            "Post Layer 13 Shape: torch.Size([4, 1, 1024])\n",
            "Layer 14 type: TransformerBlock\n",
            "Shape after attention and residual: torch.Size([4, 1, 1024])\n",
            "Shape after feedforward: torch.Size([4, 1, 1024])\n",
            "Post Layer 14 Shape: torch.Size([4, 1, 1024])\n",
            "Layer 15 type: TransformerBlock\n",
            "Shape after attention and residual: torch.Size([4, 1, 1024])\n",
            "Shape after feedforward: torch.Size([4, 1, 1024])\n",
            "Post Layer 15 Shape: torch.Size([4, 1, 1024])\n",
            "Layer 16 type: GatedCrossAttentionBlock\n",
            "defined gate (tanh)\n",
            "gate shape: torch.Size([1])\n",
            "x shape initially input to gate: torch.Size([4, 1, 1024])\n",
            "x before norm (masked cross attn): torch.Size([4, 1, 1024])\n",
            "media before reaarange (masked cross attn): torch.Size([1, 2, 64, 1024])\n",
            "Shape of q (masked cross attn): torch.Size([4, 1, 512])\n",
            "Shape of k (masked cross attn): torch.Size([1, 128, 512])\n",
            "Shape of v (masked cross attn): torch.Size([1, 128, 512])\n",
            "self attn of x *gate +x : torch.Size([4, 1, 1024])\n",
            "ff*gate +x of x: torch.Size([4, 1, 1024])\n",
            "Post Layer 16 Shape: torch.Size([4, 1, 1024])\n",
            "Layer 17 type: TransformerBlock\n",
            "Shape after attention and residual: torch.Size([4, 1, 1024])\n",
            "Shape after feedforward: torch.Size([4, 1, 1024])\n",
            "Post Layer 17 Shape: torch.Size([4, 1, 1024])\n",
            "Logits Shape: torch.Size([4, 1, 28])\n",
            "model output shape: torch.Size([4, 1, 1024])\n",
            "log probs shape: torch.Size([4, 1, 1024])\n",
            "tokenized_seqs shape: torch.Size([2, 514])\n",
            "tensor([[15., 12., 17.,  ...,  4., 14.,  1.],\n",
            "        [21.,  6., 16.,  ...,  0.,  0.,  0.]], device='cuda:0')\n",
            "tensor([[[-8.5407, -7.6993, -9.6263,  ..., -5.2902, -6.5537, -7.4033]],\n",
            "\n",
            "        [[-8.5407, -7.6993, -9.6263,  ..., -5.2902, -6.5537, -7.4033]],\n",
            "\n",
            "        [[-8.5407, -7.6993, -9.6263,  ..., -5.2902, -6.5537, -7.4033]],\n",
            "\n",
            "        [[-8.5407, -7.6993, -9.6263,  ..., -5.2902, -6.5537, -7.4033]]],\n",
            "       device='cuda:0', grad_fn=<LogSoftmaxBackward0>)\n"
          ]
        },
        {
          "output_type": "error",
          "ename": "RuntimeError",
          "evalue": "ignored",
          "traceback": [
            "\u001b[0;31m---------------------------------------------------------------------------\u001b[0m",
            "\u001b[0;31mRuntimeError\u001b[0m                              Traceback (most recent call last)",
            "\u001b[0;32m<ipython-input-110-00704cc8baac>\u001b[0m in \u001b[0;36m<cell line: 32>\u001b[0;34m()\u001b[0m\n\u001b[1;32m     30\u001b[0m \u001b[0;34m\u001b[0m\u001b[0m\n\u001b[1;32m     31\u001b[0m \u001b[0;31m# Train for one epoch\u001b[0m\u001b[0;34m\u001b[0m\u001b[0;34m\u001b[0m\u001b[0m\n\u001b[0;32m---> 32\u001b[0;31m \u001b[0mtrain_loss\u001b[0m \u001b[0;34m=\u001b[0m \u001b[0mtrain_epoch_kl\u001b[0m\u001b[0;34m(\u001b[0m\u001b[0mmodel\u001b[0m\u001b[0;34m,\u001b[0m \u001b[0mtrain_dataloader\u001b[0m\u001b[0;34m,\u001b[0m \u001b[0moptimizer\u001b[0m\u001b[0;34m,\u001b[0m \u001b[0mdevice\u001b[0m\u001b[0;34m)\u001b[0m\u001b[0;34m\u001b[0m\u001b[0;34m\u001b[0m\u001b[0m\n\u001b[0m\u001b[1;32m     33\u001b[0m \u001b[0mprint\u001b[0m\u001b[0;34m(\u001b[0m\u001b[0;34mf\"Training Epoch: Loss = {train_loss}\"\u001b[0m\u001b[0;34m)\u001b[0m\u001b[0;34m\u001b[0m\u001b[0;34m\u001b[0m\u001b[0m\n\u001b[1;32m     34\u001b[0m \u001b[0;34m\u001b[0m\u001b[0m\n",
            "\u001b[0;32m<ipython-input-110-00704cc8baac>\u001b[0m in \u001b[0;36mtrain_epoch_kl\u001b[0;34m(model, data_loader, optimizer, device)\u001b[0m\n\u001b[1;32m     21\u001b[0m         \u001b[0mprint\u001b[0m\u001b[0;34m(\u001b[0m\u001b[0mlog_probs\u001b[0m\u001b[0;34m)\u001b[0m\u001b[0;34m\u001b[0m\u001b[0;34m\u001b[0m\u001b[0m\n\u001b[1;32m     22\u001b[0m \u001b[0;34m\u001b[0m\u001b[0m\n\u001b[0;32m---> 23\u001b[0;31m         \u001b[0mloss\u001b[0m \u001b[0;34m=\u001b[0m \u001b[0mF\u001b[0m\u001b[0;34m.\u001b[0m\u001b[0mkl_div\u001b[0m\u001b[0;34m(\u001b[0m\u001b[0mlog_probs\u001b[0m\u001b[0;34m,\u001b[0m \u001b[0mtokenized_seqs\u001b[0m\u001b[0;34m,\u001b[0m \u001b[0mreduction\u001b[0m\u001b[0;34m=\u001b[0m\u001b[0;34m'batchmean'\u001b[0m\u001b[0;34m)\u001b[0m\u001b[0;34m\u001b[0m\u001b[0;34m\u001b[0m\u001b[0m\n\u001b[0m\u001b[1;32m     24\u001b[0m         \u001b[0mloss\u001b[0m\u001b[0;34m.\u001b[0m\u001b[0mbackward\u001b[0m\u001b[0;34m(\u001b[0m\u001b[0;34m)\u001b[0m\u001b[0;34m\u001b[0m\u001b[0;34m\u001b[0m\u001b[0m\n\u001b[1;32m     25\u001b[0m         \u001b[0moptimizer\u001b[0m\u001b[0;34m.\u001b[0m\u001b[0mstep\u001b[0m\u001b[0;34m(\u001b[0m\u001b[0;34m)\u001b[0m\u001b[0;34m\u001b[0m\u001b[0;34m\u001b[0m\u001b[0m\n",
            "\u001b[0;32m/usr/local/lib/python3.10/dist-packages/torch/nn/functional.py\u001b[0m in \u001b[0;36mkl_div\u001b[0;34m(input, target, size_average, reduce, reduction, log_target)\u001b[0m\n\u001b[1;32m   2953\u001b[0m             \u001b[0mreduction_enum\u001b[0m \u001b[0;34m=\u001b[0m \u001b[0m_Reduction\u001b[0m\u001b[0;34m.\u001b[0m\u001b[0mget_enum\u001b[0m\u001b[0;34m(\u001b[0m\u001b[0mreduction\u001b[0m\u001b[0;34m)\u001b[0m\u001b[0;34m\u001b[0m\u001b[0;34m\u001b[0m\u001b[0m\n\u001b[1;32m   2954\u001b[0m \u001b[0;34m\u001b[0m\u001b[0m\n\u001b[0;32m-> 2955\u001b[0;31m     \u001b[0mreduced\u001b[0m \u001b[0;34m=\u001b[0m \u001b[0mtorch\u001b[0m\u001b[0;34m.\u001b[0m\u001b[0mkl_div\u001b[0m\u001b[0;34m(\u001b[0m\u001b[0minput\u001b[0m\u001b[0;34m,\u001b[0m \u001b[0mtarget\u001b[0m\u001b[0;34m,\u001b[0m \u001b[0mreduction_enum\u001b[0m\u001b[0;34m,\u001b[0m \u001b[0mlog_target\u001b[0m\u001b[0;34m=\u001b[0m\u001b[0mlog_target\u001b[0m\u001b[0;34m)\u001b[0m\u001b[0;34m\u001b[0m\u001b[0;34m\u001b[0m\u001b[0m\n\u001b[0m\u001b[1;32m   2956\u001b[0m \u001b[0;34m\u001b[0m\u001b[0m\n\u001b[1;32m   2957\u001b[0m     \u001b[0;32mif\u001b[0m \u001b[0mreduction\u001b[0m \u001b[0;34m==\u001b[0m \u001b[0;34m\"batchmean\"\u001b[0m \u001b[0;32mand\u001b[0m \u001b[0minput\u001b[0m\u001b[0;34m.\u001b[0m\u001b[0mdim\u001b[0m\u001b[0;34m(\u001b[0m\u001b[0;34m)\u001b[0m \u001b[0;34m!=\u001b[0m \u001b[0;36m0\u001b[0m\u001b[0;34m:\u001b[0m\u001b[0;34m\u001b[0m\u001b[0;34m\u001b[0m\u001b[0m\n",
            "\u001b[0;31mRuntimeError\u001b[0m: The size of tensor a (514) must match the size of tensor b (1024) at non-singleton dimension 2"
          ]
        }
      ]
    },
    {
      "cell_type": "code",
      "source": [
        "protT5_tokenizer"
      ],
      "metadata": {
        "id": "so-4BEHlgsV1"
      },
      "execution_count": null,
      "outputs": []
    }
  ]
}